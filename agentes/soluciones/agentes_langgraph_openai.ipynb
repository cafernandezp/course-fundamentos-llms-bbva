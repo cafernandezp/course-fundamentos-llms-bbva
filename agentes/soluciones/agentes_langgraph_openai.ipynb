{
  "cells": [
    {
      "cell_type": "markdown",
      "metadata": {
        "id": "vjaszwJM-v4b"
      },
      "source": [
        "## Taller de agentes con LangGraph\n",
        "\n",
        "En este taller práctico, crearemos un agente usando la librería LangGraph y modelos de OpenAI. Este agente tendrá dos herramientas a su disposición:\n",
        "\n",
        "*   **Tavily**: para búsquedas web\n",
        "*   **WeatherAPI**: para previsión del tiempo (o tiempo actual)\n",
        "\n",
        "El agente detectará la intencionalidad de la pregunta, decidirá si debe usar alguna de estas herramientas, y devolverá una respuesta al usuario construida a partir de la información recuperada de estas APIs"
      ]
    },
    {
      "cell_type": "markdown",
      "metadata": {
        "id": "xrrTCxUh2PgG"
      },
      "source": [
        "### Instalamos las librerías necesarias: paquetes específicos de langchain"
      ]
    },
    {
      "cell_type": "code",
      "execution_count": null,
      "metadata": {
        "colab": {
          "base_uri": "https://localhost:8080/"
        },
        "collapsed": true,
        "id": "92RTnCT3zItu",
        "outputId": "be0350b1-4b78-49b4-c8f3-85912273de1a"
      },
      "outputs": [],
      "source": [
        "!pip install -q langgraph langchain langchain-community langchain-openai python-dotenv"
      ]
    },
    {
      "cell_type": "markdown",
      "metadata": {
        "id": "mft3iRt32Via"
      },
      "source": [
        "### Importamos las herramientas necesarias, que todas están integradas en langchain"
      ]
    },
    {
      "cell_type": "code",
      "execution_count": 2,
      "metadata": {
        "id": "kORuDqqJ0heh"
      },
      "outputs": [],
      "source": [
        "import os\n",
        "import requests\n",
        "from typing import List, Literal\n",
        "from langchain_community.tools.tavily_search import TavilySearchResults\n",
        "from langchain_core.tools import tool\n",
        "from langchain_openai import AzureChatOpenAI"
      ]
    },
    {
      "cell_type": "markdown",
      "metadata": {
        "id": "0XWwoAVu2b3w"
      },
      "source": [
        "### Definimos las APIs necesarias, tanto de OpenAI como de WeatherAPI\n",
        "\n",
        "Recordemos que en una aplicación real, las APIs no deben quedar expuestas en el código"
      ]
    },
    {
      "cell_type": "code",
      "execution_count": 3,
      "metadata": {
        "id": "_haI6Zjn0WR3"
      },
      "outputs": [],
      "source": [
        "from google.colab import userdata\n",
        "OPENAI_API_KEY = userdata.get('OPENAI_API_KEY')\n",
        "API_VERSION = userdata.get('OPENAI_API_VERSION')\n",
        "AZURE_ENDPOINT = userdata.get('AZURE_OPENAI_ENDPOINT')\n",
        "WEATHER_API_KEY = userdata.get('WEATHER_API_KEY')\n",
        "TAVILY_API_KEY = userdata.get('TAVILY_API_KEY')\n",
        "os.environ[\"TAVILY_API_KEY\"] = TAVILY_API_KEY"
      ]
    },
    {
      "cell_type": "markdown",
      "metadata": {
        "id": "Va2B0_Wg2k1B"
      },
      "source": [
        "### Empezamos definiendo las tools (herramientas) que va a tener a su disposición el agente\n",
        "\n",
        "Se usa el decorador @tool para indicarle a langchain que son herramientas. Al incluir este decorador, se extraen metadatos importantes como el nombre de la herramienta (que por defecto es el nombre de la función) y la descripción (el docstring de la función, la primera línea que se define entre comillas)\n"
      ]
    },
    {
      "cell_type": "code",
      "execution_count": 4,
      "metadata": {
        "id": "B-eM8WFe0YHp"
      },
      "outputs": [],
      "source": [
        "@tool\n",
        "def get_weather(query: str) -> list:\n",
        "    \"\"\"Search weatherapi to get the current or forecast weather\"\"\" #docstring para darle la descripción\n",
        "    endpoint = f\"http://api.weatherapi.com/v1/current.json?key={WEATHER_API_KEY}&q={query}\"\n",
        "    response = requests.get(endpoint)\n",
        "    data = response.json()\n",
        "\n",
        "    if data.get(\"location\"):\n",
        "        return data\n",
        "    else:\n",
        "        return \"Weather Data Not Found\"\n",
        "\n",
        "@tool\n",
        "def search_web(query: str) -> list:\n",
        "    \"\"\"Search the web for a query\"\"\" #docstring para darle la descripción\n",
        "    tavily_search = TavilySearchResults(max_results=5, search_depth='advanced', max_tokens=1000)\n",
        "    results = tavily_search.invoke(query)\n",
        "    return results"
      ]
    },
    {
      "cell_type": "markdown",
      "metadata": {
        "id": "6O8VIX2S20jJ"
      },
      "source": [
        "### Probamos manualmente la API de get_weather"
      ]
    },
    {
      "cell_type": "code",
      "execution_count": 5,
      "metadata": {
        "colab": {
          "base_uri": "https://localhost:8080/"
        },
        "collapsed": true,
        "id": "W7dPxREa23td",
        "outputId": "d0349ade-7863-4929-a2b8-6108e034c7b0"
      },
      "outputs": [
        {
          "name": "stderr",
          "output_type": "stream",
          "text": [
            "/tmp/ipython-input-1715036385.py:1: LangChainDeprecationWarning: The method `BaseTool.__call__` was deprecated in langchain-core 0.1.47 and will be removed in 1.0. Use :meth:`~invoke` instead.\n",
            "  get_weather(\"Madrid\")\n"
          ]
        },
        {
          "data": {
            "text/plain": [
              "{'location': {'name': 'Madrid',\n",
              "  'region': 'Madrid',\n",
              "  'country': 'Spain',\n",
              "  'lat': 40.4,\n",
              "  'lon': -3.6833,\n",
              "  'tz_id': 'Europe/Madrid',\n",
              "  'localtime_epoch': 1759996945,\n",
              "  'localtime': '2025-10-09 10:02'},\n",
              " 'current': {'last_updated_epoch': 1759996800,\n",
              "  'last_updated': '2025-10-09 10:00',\n",
              "  'temp_c': 16.3,\n",
              "  'temp_f': 61.3,\n",
              "  'is_day': 1,\n",
              "  'condition': {'text': 'Patchy rain nearby',\n",
              "   'icon': '//cdn.weatherapi.com/weather/64x64/day/176.png',\n",
              "   'code': 1063},\n",
              "  'wind_mph': 9.8,\n",
              "  'wind_kph': 15.8,\n",
              "  'wind_degree': 55,\n",
              "  'wind_dir': 'NE',\n",
              "  'pressure_mb': 1021.0,\n",
              "  'pressure_in': 30.15,\n",
              "  'precip_mm': 0.07,\n",
              "  'precip_in': 0.0,\n",
              "  'humidity': 59,\n",
              "  'cloud': 0,\n",
              "  'feelslike_c': 16.3,\n",
              "  'feelslike_f': 61.3,\n",
              "  'windchill_c': 19.7,\n",
              "  'windchill_f': 67.4,\n",
              "  'heatindex_c': 19.7,\n",
              "  'heatindex_f': 67.4,\n",
              "  'dewpoint_c': 7.9,\n",
              "  'dewpoint_f': 46.3,\n",
              "  'vis_km': 10.0,\n",
              "  'vis_miles': 6.0,\n",
              "  'uv': 0.5,\n",
              "  'gust_mph': 11.3,\n",
              "  'gust_kph': 18.2,\n",
              "  'short_rad': 82.9,\n",
              "  'diff_rad': 30.78,\n",
              "  'dni': 0.0,\n",
              "  'gti': 29.09}}"
            ]
          },
          "execution_count": 5,
          "metadata": {},
          "output_type": "execute_result"
        }
      ],
      "source": [
        "get_weather(\"Madrid\")"
      ]
    },
    {
      "cell_type": "markdown",
      "metadata": {
        "id": "3Nrz7EoLCXn1"
      },
      "source": [
        "### Probamos manualmente la API de Tavily"
      ]
    },
    {
      "cell_type": "code",
      "execution_count": null,
      "metadata": {
        "colab": {
          "base_uri": "https://localhost:8080/"
        },
        "collapsed": true,
        "id": "cob3_ckyCXSw",
        "outputId": "43badb9d-e677-4539-f72b-531eda87579a"
      },
      "outputs": [],
      "source": [
        "search_web(\"¿Cuál es el último precio de la acción del BBVA?\")"
      ]
    },
    {
      "cell_type": "markdown",
      "metadata": {
        "id": "KKcB9bk23lcU"
      },
      "source": [
        "### Llamamos al modelo con el parámetro bind_tools(), que permite pasar tools de Langchain para que las use el LLM"
      ]
    },
    {
      "cell_type": "code",
      "execution_count": 7,
      "metadata": {
        "id": "IVQG-WqEX-IV"
      },
      "outputs": [],
      "source": [
        "os.environ[\"AZURE_OPENAI_ENDPOINT\"] = AZURE_ENDPOINT\n",
        "\n",
        "llm = AzureChatOpenAI(azure_deployment=\"gpt-4o\",\n",
        "                      api_key = OPENAI_API_KEY,\n",
        "                      api_version=API_VERSION,\n",
        "                      temperature=0.5,\n",
        "                      max_tokens=None,\n",
        "                      timeout=None,\n",
        "                      max_retries=2,)\n"
      ]
    },
    {
      "cell_type": "code",
      "execution_count": 8,
      "metadata": {
        "id": "SvN2get80nQS"
      },
      "outputs": [],
      "source": [
        "\n",
        "tools = [search_web, get_weather]\n",
        "llm_with_tools = llm.bind_tools(tools)\n"
      ]
    },
    {
      "cell_type": "markdown",
      "metadata": {
        "id": "ETcbdy7Y4rx3"
      },
      "source": [
        "### El LLM por si mismo no tiene acceso a información en tiempo real"
      ]
    },
    {
      "cell_type": "code",
      "execution_count": 9,
      "metadata": {
        "colab": {
          "base_uri": "https://localhost:8080/"
        },
        "id": "RVcg3sAh4sYo",
        "outputId": "d3857196-fe9a-46d3-fcc1-783a9e30ba44"
      },
      "outputs": [
        {
          "name": "stdout",
          "output_type": "stream",
          "text": [
            "I'm unable to provide real-time weather updates as my knowledge only goes up to October 2023 and I don't have live internet access. To find the current weather in Segovia, I recommend checking a reliable weather website or app like [Weather.com](https://weather.com) or using a weather service on your smartphone.\n"
          ]
        }
      ],
      "source": [
        "query = \"What is the current weather in Segovia today?\"\n",
        "response = llm.invoke(query)\n",
        "print(response.content)"
      ]
    },
    {
      "cell_type": "code",
      "execution_count": 10,
      "metadata": {
        "colab": {
          "base_uri": "https://localhost:8080/"
        },
        "id": "7OtZHegPHoGo",
        "outputId": "00ced006-2ab1-4ef5-a50b-052322017777"
      },
      "outputs": [
        {
          "name": "stdout",
          "output_type": "stream",
          "text": [
            "Lo siento, pero mi conocimiento se detiene en octubre de 2023, por lo que no tengo información sobre el campeón del Super Bowl en 2025. Te recomiendo consultar fuentes actualizadas, como sitios web deportivos o noticias recientes, para obtener esa información. ¡Déjame saber si puedo ayudarte con algo más! 🏈\n"
          ]
        }
      ],
      "source": [
        "query = \"quien fue el campeon del super bowl en 2025?\"\n",
        "response = llm.invoke(query)\n",
        "print(response.content)"
      ]
    },
    {
      "cell_type": "markdown",
      "metadata": {
        "id": "XRTkSiF34SWk"
      },
      "source": [
        "### Podemos definir el prompt que se le pasará al LLM+tools, explicándole la tarea o tareas que queremos que haga"
      ]
    },
    {
      "cell_type": "code",
      "execution_count": 11,
      "metadata": {
        "colab": {
          "base_uri": "https://localhost:8080/"
        },
        "id": "xHr5RVtV0zaG",
        "outputId": "52c0c7dd-bffe-4012-af98-52325eec1bf7"
      },
      "outputs": [
        {
          "name": "stdout",
          "output_type": "stream",
          "text": [
            "[{'name': 'get_weather', 'args': {'query': 'Madrid'}, 'id': 'call_FfDeUisHH97oBctxhlVTR1WU', 'type': 'tool_call'}, {'name': 'search_web', 'args': {'query': 'Can you tell me about Kerala'}, 'id': 'call_whPvqHP8EaFEjSX7yTprWfCu', 'type': 'tool_call'}]\n"
          ]
        }
      ],
      "source": [
        "prompt = \"\"\"\n",
        "    Given the tools at your disposal, mention tool calls for the following tasks --If any answer can´t be provided from tool calls, use your own knowledge:\n",
        "    Do not change the query given for any search tasks\n",
        "        1. What is the current weather in Madrid today\n",
        "        2. Can you tell me about Kerala\n",
        "        3. Why is the sky blue?\n",
        "    \"\"\"\n",
        "\n",
        "results = llm_with_tools.invoke(prompt)\n",
        "\n",
        "print(results.tool_calls)"
      ]
    },
    {
      "cell_type": "code",
      "execution_count": 12,
      "metadata": {
        "colab": {
          "base_uri": "https://localhost:8080/"
        },
        "id": "T1G1stDv5CE6",
        "outputId": "71c799b8-a5f7-4f70-ae8f-a8f2f428ba8d"
      },
      "outputs": [
        {
          "name": "stdout",
          "output_type": "stream",
          "text": [
            "content='' additional_kwargs={'tool_calls': [{'id': 'call_FfDeUisHH97oBctxhlVTR1WU', 'function': {'arguments': '{\"query\": \"Madrid\"}', 'name': 'get_weather'}, 'type': 'function'}, {'id': 'call_whPvqHP8EaFEjSX7yTprWfCu', 'function': {'arguments': '{\"query\": \"Can you tell me about Kerala\"}', 'name': 'search_web'}, 'type': 'function'}], 'refusal': None} response_metadata={'token_usage': {'completion_tokens': 50, 'prompt_tokens': 149, 'total_tokens': 199, 'completion_tokens_details': {'accepted_prediction_tokens': 0, 'audio_tokens': 0, 'reasoning_tokens': 0, 'rejected_prediction_tokens': 0}, 'prompt_tokens_details': {'audio_tokens': 0, 'cached_tokens': 0}}, 'model_name': 'gpt-4o-2024-11-20', 'system_fingerprint': 'fp_ee1d74bde0', 'id': 'chatcmpl-COftJedOxOt4Elc90KMcyEqib7iA5', 'service_tier': None, 'prompt_filter_results': [{'prompt_index': 0, 'content_filter_results': {'hate': {'filtered': False, 'severity': 'safe'}, 'jailbreak': {'filtered': False, 'detected': False}, 'self_harm': {'filtered': False, 'severity': 'safe'}, 'sexual': {'filtered': False, 'severity': 'safe'}, 'violence': {'filtered': False, 'severity': 'safe'}}}], 'finish_reason': 'tool_calls', 'logprobs': None, 'content_filter_results': {}} id='run--d5998caa-7d32-4357-9216-b5a2ee54d68e-0' tool_calls=[{'name': 'get_weather', 'args': {'query': 'Madrid'}, 'id': 'call_FfDeUisHH97oBctxhlVTR1WU', 'type': 'tool_call'}, {'name': 'search_web', 'args': {'query': 'Can you tell me about Kerala'}, 'id': 'call_whPvqHP8EaFEjSX7yTprWfCu', 'type': 'tool_call'}] usage_metadata={'input_tokens': 149, 'output_tokens': 50, 'total_tokens': 199, 'input_token_details': {'audio': 0, 'cache_read': 0}, 'output_token_details': {'audio': 0, 'reasoning': 0}}\n"
          ]
        }
      ],
      "source": [
        "print(results)"
      ]
    },
    {
      "cell_type": "code",
      "execution_count": 13,
      "metadata": {
        "colab": {
          "base_uri": "https://localhost:8080/",
          "height": 35
        },
        "id": "fafvLBuml1m2",
        "outputId": "30e3cb6f-5669-407e-d080-dc8b4d255994"
      },
      "outputs": [
        {
          "data": {
            "application/vnd.google.colaboratory.intrinsic+json": {
              "type": "string"
            },
            "text/plain": [
              "''"
            ]
          },
          "execution_count": 13,
          "metadata": {},
          "output_type": "execute_result"
        }
      ],
      "source": [
        "results.content"
      ]
    },
    {
      "cell_type": "markdown",
      "metadata": {
        "id": "NBEnkV1U5LZV"
      },
      "source": [
        "### Ahora creamos el agente con grafos, usando LangGraph\n",
        "\n",
        "En primer lugar, usamos el módulo create_react_agent. El paradigma ReAct está bastado en Reason & Act, es decir, razonar (¿qué tool tengo a mi disposición y cuál debería usar?) y actuar (voy a usar esta herramienta para que me devuelva una respuesta y analizarla)"
      ]
    },
    {
      "cell_type": "code",
      "execution_count": 14,
      "metadata": {
        "id": "K1FDhsxU5mmK"
      },
      "outputs": [],
      "source": [
        "from langgraph.prebuilt import create_react_agent"
      ]
    },
    {
      "cell_type": "markdown",
      "metadata": {
        "id": "SSrBc1iF5vzB"
      },
      "source": [
        "Creamos un system_prompt, donde le explicamos qué esperamos que haga, y las tools que tiene a su disposición. Es importante que los nombres de las tools coincidan con el nombre con el que le hemos definido, así como darle una buena explicación de su función"
      ]
    },
    {
      "cell_type": "code",
      "execution_count": 15,
      "metadata": {
        "id": "P_0-Y0ic5vkb"
      },
      "outputs": [],
      "source": [
        "system_prompt = \"\"\"Act as a helpful assistant.\n",
        "    Use the tools at your disposal to perform tasks as needed.\n",
        "        - get_weather: whenever user asks get the weather of a place.\n",
        "        - search_web: whenever user asks for information on current events or if you don't know the answer.\n",
        "    Use the tools only if you don't know the answer.\"\"\""
      ]
    },
    {
      "cell_type": "markdown",
      "metadata": {
        "id": "_ftpBo8b8A5N"
      },
      "source": [
        "### Inicializamos el agente con el modelo, las tools y el system_prompt"
      ]
    },
    {
      "cell_type": "code",
      "execution_count": 16,
      "metadata": {
        "id": "LWYVYttDXGp5"
      },
      "outputs": [],
      "source": [
        "\n",
        "# Esta es mas directo, pero no se pueden encadenar LLMs en este metodo\n",
        "from langchain_core.prompts import ChatPromptTemplate\n",
        "\n",
        "prompt_template = ChatPromptTemplate.from_messages([(\"system\", system_prompt), (\"placeholder\", \"{messages}\")])\n",
        "\n",
        "agent = create_react_agent(model=llm, tools=tools, prompt=prompt_template)"
      ]
    },
    {
      "cell_type": "code",
      "execution_count": 17,
      "metadata": {
        "colab": {
          "base_uri": "https://localhost:8080/",
          "height": 266
        },
        "id": "28Nv85gO36TU",
        "outputId": "062b51b8-6e94-411d-bdc6-4ffe6f73dd39"
      },
      "outputs": [
        {
          "data": {
            "image/png": "[encoded data removed]",
            "text/plain": [
              "<langgraph.graph.state.CompiledStateGraph object at 0x7f56545655b0>"
            ]
          },
          "execution_count": 17,
          "metadata": {},
          "output_type": "execute_result"
        }
      ],
      "source": [
        "agent"
      ]
    },
    {
      "cell_type": "markdown",
      "metadata": {
        "id": "FTSYMgX28G9V"
      },
      "source": [
        "### Probamos el agente para ver qué hace"
      ]
    },
    {
      "cell_type": "code",
      "execution_count": 18,
      "metadata": {
        "colab": {
          "base_uri": "https://localhost:8080/"
        },
        "id": "Wnq3-VSB02Hs",
        "outputId": "0710fa0a-a9eb-48bd-9b80-1bd11b1b5580"
      },
      "outputs": [
        {
          "name": "stdout",
          "output_type": "stream",
          "text": [
            "================================\u001b[1m Human Message \u001b[0m=================================\n",
            "\n",
            "Given the tools at your disposal, mention tool calls for the following tasks and why you choose it --If any answer can´t be provided from tool calls, use your own knowledge:\n",
            "\n",
            "Do not change the query given for any search tasks\n",
            "\n",
            "1. What is the current weather in Madrid today\n",
            "\n",
            "2. Can you tell me about Kerala\n",
            "\n",
            "3. Why is the sky blue?\n",
            "==================================\u001b[1m Ai Message \u001b[0m==================================\n",
            "\n",
            "Here is how I would approach the tasks:\n",
            "\n",
            "---\n",
            "\n",
            "1. **What is the current weather in Madrid today**  \n",
            "   - **Tool call**: `functions.get_weather`  \n",
            "   - **Reason**: This tool is specifically designed to fetch the current or forecast weather for a given location. Since the question asks about the current weather in Madrid, this is the appropriate tool to use.\n",
            "\n",
            "---\n",
            "\n",
            "2. **Can you tell me about Kerala**  \n",
            "   - **Tool call**: `functions.search_web` with the query `\"Kerala\"`  \n",
            "   - **Reason**: The question is about general information about Kerala. While I have general knowledge about Kerala being a state in India known for its natural beauty, backwaters, and spices, using the search tool ensures up-to-date and accurate information.\n",
            "\n",
            "---\n",
            "\n",
            "3. **Why is the sky blue?**  \n",
            "   - **No Tool Call Needed**  \n",
            "   - **Reason**: This is a basic scientific question that I can answer using my existing knowledge. The sky appears blue because of Rayleigh scattering. Shorter blue wavelengths of sunlight are scattered in all directions by the gases and particles in the Earth's atmosphere, making the sky appear blue to our eyes.\n",
            "\n",
            "--- \n",
            "\n",
            "Let me know if you'd like me to proceed with any specific task!\n"
          ]
        }
      ],
      "source": [
        "def print_stream(stream):\n",
        "    for s in stream:\n",
        "        message = s[\"messages\"][-1]\n",
        "        if isinstance(message, tuple):\n",
        "            print(message)\n",
        "        else:\n",
        "            message.pretty_print()\n",
        "\n",
        "\n",
        "\n",
        "#inputs = {\"messages\": [(\"user\", \"¿Voy a necesitar bufanda hoy en Madrid?\")]}\n",
        "#inputs = {\"messages\": [(\"user\", \"¿Cuántas días ha llovido en Oviedo en Septiembre de 2025?\")]}\n",
        "inputs = {\"messages\": [(\"user\", \"Given the tools at your disposal, mention tool calls for the following tasks and why you choose it --If any answer can´t be provided from tool calls, use your own knowledge:\\n\\n\"\n",
        "    \"Do not change the query given for any search tasks\\n\\n\"\n",
        "        \"1. What is the current weather in Madrid today\\n\\n\"\n",
        "        \"2. Can you tell me about Kerala\\n\\n\"\n",
        "        \"3. Why is the sky blue?\")]}\n",
        "\n",
        "print_stream(agent.stream(inputs, stream_mode=\"values\"))"
      ]
    },
    {
      "cell_type": "markdown",
      "metadata": {
        "id": "-GMrcolI8nnw"
      },
      "source": [
        "### Vamos a crear la lógica de grafos (estados y nodos)\n",
        "\n",
        "En primer lugar, definimos el conjunto de tools posibles mediante el ToolNode"
      ]
    },
    {
      "cell_type": "code",
      "execution_count": 19,
      "metadata": {
        "id": "5i8-N_W78ySE"
      },
      "outputs": [],
      "source": [
        "from langgraph.prebuilt import ToolNode\n",
        "from langgraph.graph import StateGraph, MessagesState, START, END\n",
        "\n",
        "tools = [search_web, get_weather]\n",
        "tool_node = ToolNode(tools)"
      ]
    },
    {
      "cell_type": "markdown",
      "metadata": {
        "id": "ba3HR2MZ82aD"
      },
      "source": [
        "Definimos las funciones para llamar al LLM y las tools. La función call_tools llevará al final (END)"
      ]
    },
    {
      "cell_type": "code",
      "execution_count": 20,
      "metadata": {
        "id": "tCCA2FRT8_HI"
      },
      "outputs": [],
      "source": [
        "def call_model(state: MessagesState):\n",
        "    messages = state[\"messages\"]\n",
        "    response = llm_with_tools.invoke(messages)\n",
        "    return {\"messages\": [response]}\n",
        "\n",
        "def call_tools(state: MessagesState) -> Literal[\"tools\", END]:\n",
        "    messages = state[\"messages\"]\n",
        "    last_message = messages[-1]\n",
        "    if last_message.tool_calls:\n",
        "        return \"tools\"\n",
        "    return END"
      ]
    },
    {
      "cell_type": "markdown",
      "metadata": {
        "id": "uo6J8mcj9huR"
      },
      "source": [
        "Inicializamos el flow con StateGraph"
      ]
    },
    {
      "cell_type": "code",
      "execution_count": 21,
      "metadata": {
        "id": "NIX-4a2X9krQ"
      },
      "outputs": [],
      "source": [
        "workflow = StateGraph(MessagesState)"
      ]
    },
    {
      "cell_type": "markdown",
      "metadata": {
        "id": "rob7UP8u9mgb"
      },
      "source": [
        "Ahora ya podemos añadir nodos. Primero, añadimos un nodo de LLM, que usará el LLM para tomar decisiones en base al input"
      ]
    },
    {
      "cell_type": "code",
      "execution_count": 22,
      "metadata": {
        "colab": {
          "base_uri": "https://localhost:8080/"
        },
        "id": "TmBLCY5c9xVa",
        "outputId": "a36aaba4-ac1d-4d9f-a089-32f0ee25eb2d"
      },
      "outputs": [
        {
          "data": {
            "text/plain": [
              "<langgraph.graph.state.StateGraph at 0x7f56543f62a0>"
            ]
          },
          "execution_count": 22,
          "metadata": {},
          "output_type": "execute_result"
        }
      ],
      "source": [
        "workflow.add_node(\"LLM\", call_model)"
      ]
    },
    {
      "cell_type": "markdown",
      "metadata": {
        "id": "QOJke0Sn9yAX"
      },
      "source": [
        "Nuestro flow comienza con el nodo LLM. Esto se codifica añadiendolo con la función add_edge, indicando que es START"
      ]
    },
    {
      "cell_type": "code",
      "execution_count": 23,
      "metadata": {
        "colab": {
          "base_uri": "https://localhost:8080/"
        },
        "id": "Po3T-HcU-j5T",
        "outputId": "2d1e8157-5266-44c1-8f16-6aed9a541836"
      },
      "outputs": [
        {
          "data": {
            "text/plain": [
              "<langgraph.graph.state.StateGraph at 0x7f56543f62a0>"
            ]
          },
          "execution_count": 23,
          "metadata": {},
          "output_type": "execute_result"
        }
      ],
      "source": [
        "workflow.add_edge(START, \"LLM\")"
      ]
    },
    {
      "cell_type": "markdown",
      "metadata": {
        "id": "36-XUcjm-lHH"
      },
      "source": [
        "Después, pasamos por el nodo de las tools"
      ]
    },
    {
      "cell_type": "code",
      "execution_count": 24,
      "metadata": {
        "colab": {
          "base_uri": "https://localhost:8080/"
        },
        "id": "dBmAqy3L-qb5",
        "outputId": "a40e777f-5beb-48d1-d968-a2eb3ad2b1bd"
      },
      "outputs": [
        {
          "data": {
            "text/plain": [
              "<langgraph.graph.state.StateGraph at 0x7f56543f62a0>"
            ]
          },
          "execution_count": 24,
          "metadata": {},
          "output_type": "execute_result"
        }
      ],
      "source": [
        "workflow.add_node(\"tools\", tool_node)"
      ]
    },
    {
      "cell_type": "markdown",
      "metadata": {
        "id": "DJymonf--oOh"
      },
      "source": [
        "Añadimos un edge condicional, que va del LLM a las llamadas de las tools. Dependiendo del output del LLM, irá al nodo de tools o al final (END), según el agente considere que necesita consultar una de las tools o puede dar una respuesta autónoma"
      ]
    },
    {
      "cell_type": "code",
      "execution_count": 25,
      "metadata": {
        "colab": {
          "base_uri": "https://localhost:8080/"
        },
        "id": "LgO9GjMC-622",
        "outputId": "2214cb2a-cbdd-4508-af9c-cdf62404edac"
      },
      "outputs": [
        {
          "data": {
            "text/plain": [
              "<langgraph.graph.state.StateGraph at 0x7f56543f62a0>"
            ]
          },
          "execution_count": 25,
          "metadata": {},
          "output_type": "execute_result"
        }
      ],
      "source": [
        "workflow.add_conditional_edges(\"LLM\", call_tools)"
      ]
    },
    {
      "cell_type": "markdown",
      "metadata": {
        "id": "o3jLc5S--8W5"
      },
      "source": [
        "Por último, el nodo tools le manda la información de vuelta al LLM"
      ]
    },
    {
      "cell_type": "code",
      "execution_count": 26,
      "metadata": {
        "colab": {
          "base_uri": "https://localhost:8080/"
        },
        "id": "BKz4909N_HPR",
        "outputId": "5371b590-ecab-4bf6-9010-2c35852af46d"
      },
      "outputs": [
        {
          "data": {
            "text/plain": [
              "<langgraph.graph.state.StateGraph at 0x7f56543f62a0>"
            ]
          },
          "execution_count": 26,
          "metadata": {},
          "output_type": "execute_result"
        }
      ],
      "source": [
        "workflow.add_edge(\"tools\", \"LLM\")"
      ]
    },
    {
      "cell_type": "markdown",
      "metadata": {
        "id": "8LU9Xq3T_K7Y"
      },
      "source": [
        "Cuando hemos definido todo nuestro flow, se debe compilar"
      ]
    },
    {
      "cell_type": "code",
      "execution_count": 27,
      "metadata": {
        "id": "rqliEtxs_STZ"
      },
      "outputs": [],
      "source": [
        "agent = workflow.compile()"
      ]
    },
    {
      "cell_type": "markdown",
      "metadata": {
        "id": "pSdOlzPw_Tm7"
      },
      "source": [
        "Se puede pintar el flow automáticamente"
      ]
    },
    {
      "cell_type": "code",
      "execution_count": 28,
      "metadata": {
        "colab": {
          "base_uri": "https://localhost:8080/",
          "height": 266
        },
        "id": "KYhf7PDm_Xpc",
        "outputId": "87c22c51-215b-4433-a684-2975afc6629d"
      },
      "outputs": [
        {
          "data": {
            "image/png": "[encoded data removed]",
            "text/plain": [
              "<IPython.core.display.Image object>"
            ]
          },
          "metadata": {},
          "output_type": "display_data"
        }
      ],
      "source": [
        "from IPython.display import Image, display\n",
        "\n",
        "display(Image(agent.get_graph().draw_mermaid_png()))"
      ]
    },
    {
      "cell_type": "markdown",
      "metadata": {
        "id": "f9G5m_bQ_mdB"
      },
      "source": [
        "### Ya podemos usar nuestro agente y ver los pasos intermedios que sigue"
      ]
    },
    {
      "cell_type": "code",
      "execution_count": 29,
      "metadata": {
        "colab": {
          "base_uri": "https://localhost:8080/"
        },
        "id": "tITkEgsY07zM",
        "outputId": "237e9741-50ef-4d18-ad7d-4962c10a8ba6"
      },
      "outputs": [
        {
          "name": "stdout",
          "output_type": "stream",
          "text": [
            "================================\u001b[1m Human Message \u001b[0m=================================\n",
            "\n",
            "What was the stock price of BBVA in the Spanish market as of March 6th, 2025? And will I need an umbrella in Madrid for tomorrow? y quien fue el campeon del super bowl 2025?\n",
            "==================================\u001b[1m Ai Message \u001b[0m==================================\n",
            "Tool Calls:\n",
            "  search_web (call_DQRM6j5nlgo0EjXqLEsON1Bf)\n",
            " Call ID: call_DQRM6j5nlgo0EjXqLEsON1Bf\n",
            "  Args:\n",
            "    query: BBVA stock price Spanish market March 6 2025\n",
            "  get_weather (call_H78V3Z4C85yDkRnLaA5jUs0V)\n",
            " Call ID: call_H78V3Z4C85yDkRnLaA5jUs0V\n",
            "  Args:\n",
            "    query: Madrid\n",
            "  search_web (call_udZxtAuxJx2Nx6he9N8lcRTk)\n",
            " Call ID: call_udZxtAuxJx2Nx6he9N8lcRTk\n",
            "  Args:\n",
            "    query: Super Bowl 2025 champion\n",
            "=================================\u001b[1m Tool Message \u001b[0m=================================\n",
            "Name: search_web\n",
            "\n",
            "[{\"title\": \"Who won Super Bowl 2025? | kgw.com\", \"url\": \"https://www.kgw.com/article/sports/nfl/superbowl/who-won-the-super-bowl-2025/507-bfc76a51-5336-4f4c-94d5-2a52fd853b33\", \"content\": \"WASHINGTON — The Philadelphia Eagles have finally unseated the Kansas City Chiefs from the top of the NFL, defeatingthe back-to-back-Super Bowl champions in a blowout game Sunday night to claim the Lombardi trophy.\\n\\nThe final score was 40-22, with the Eagles flying above the Chiefs for the entire Super Bowl, blocking any scoring for nearly three quarters of the game. [...] Breaking News\\n\\n Robert F. Kennedy Jr. testifies to Senate Finance Committee\\n\\nMore (0) »\\n\\nSuper Bowl\\n\\n# Who won the Super Bowl?\\n\\nThe Chiefs were favorites to win headed into the 2025 Super Bowl.\\n\\nCredit: AP\\n\\nPhiladelphia Eagles quarterback Jalen Hurts runs during the first half of Super Bowl 59 against the Kansas City Chiefs, Feb. 9, 2025, in New Orleans. [...] Philadelphia Eagles quarterback Jalen Hurts runs during the first half of Super Bowl 59 against the Kansas City Chiefs, Feb. 9, 2025, in New Orleans.\\n\\nThe Chiefs were favorites to win headed into the Super Bowl. Kansas City was favored by 1.5 points in betting markets before the game.\", \"score\": 0.8399576}, {\"title\": \"Super Bowl 2025: Kansas City Chiefs v. Philadelphia Eagles - NPR\", \"url\": \"https://www.npr.org/2025/02/09/nx-s1-5288003/super-bowl-2025-chiefs-eagles-kendrick\", \"content\": \"C.J. Gardner-Johnson #8 and Tyler Steen #56 of the Philadelphia Eagles celebrate after beating the Kansas City Chiefs 40-22 to win Super Bowl LIX at Caesars Superdome on February 09, 2025 in New Orleans, Louisiana.  Gregory Shamus/Getty Images  hide caption\\n\\ntoggle caption\\n\\n Gregory Shamus/Getty Images\\n\\nUpdate: 10:15 p.m. ET: The Philadelphia Eagles avenged their 2023 loss, beating the The Kansas City Chiefs 40 to 22. [...] The Kansas City offense's 0-point, 23-yard first half was one of the worst showings ever by a Super Bowl team. The Philadelphia Eagles dominated the Chiefs from start to finish, winning with a final score of 40-22 (after the Chiefs scored two touchdowns in the final three minutes of the fourth quarter).\\n\\nPhotos from Halftime: Kendrick Lamar and SZA perform at the Super Bowl Halftime Show in New Orleans [...] The only bright spot for Kansas City was its containment of superstar Eagles running back Saquon Barkley, who rushed for only 57 yards. But that brought Barkley's total rush yards to 2,504 yards for the season, including playoffs — the highest single-season total in NFL history. It's the second Super Bowl win for the Philadelphia Eagles, who won their first ring in 2018.\\n\\n— NPR sports correspondent Becky Sullivan\\n\\n### More 2025 Super Bowl coverage from The NPR Network\", \"score\": 0.82560414}, {\"title\": \"Super Bowl LIX - Wikipedia\", \"url\": \"https://en.wikipedia.org/wiki/Super_Bowl_LIX\", \"content\": \"Super Bowl LIX was an American football championship game played between the National Football Conference (NFC) champion Philadelphia Eagles and the American Football Conference (AFC) and two-timedefending Super Bowl championKansas City Chiefs to determine the champion of the National Football League (NFL) for the 2024 season. In a rematch of Super Bowl LVII two years prior, the Eagles defeated the Chiefs 40–22. The game was played on February 9, 2025, at Caesars Superdome in New Orleans.( It\", \"score\": 0.8047902}, {\"title\": \"Philadelphia Eagles vs. Kansas City Chiefs | Super Bowl LIX\", \"url\": \"https://www.philadelphiaeagles.com/super-bowl-lix/\", \"content\": \"Jalen Hurts was named Super Bowl LIX MVP after amassing more than 300 yards of total offense while scoring three total touchdowns. Meanwhile, the defense was outstanding as the Chiefs were held scoreless on their first nine drives while forcing two interceptions, one returned by rookie Cooper DeJean for a touchdown.\\n\\n## SHOP SUPER BOWL CHAMPS\\n\\n## PRESS CONFERENCES\\n\\nvideo\\n\\n### Nick Sirianni Press Conference: October 5, 2025\\n\\nOct 05, 2025\\n\\nvideo [...] Super Bowl LIX will be played at Caesars Superdome in New Orleans, Louisiana, on Sunday, February 9, 2025.\\n\\nHow can I purchase Super Bowl LVII packages? [...] ### Highlight: Jalen Hurts hits Jahan Dotson down the right sideline for 27 yards and a near TD\\n\\nFeb 09, 2025\\n\\nMORE HIGHLIGHTS\\n\\n## FEATURED CONTENT\\n\\nKendrick Lamar\\n\\nGrammy Award-winning artist Kendrick Lamar is set to headline the Apple Music Super Bowl LIX Halftime Show at the Caesars Superdome in New Orleans on Feb. 9, 2025 on FOX.\\n\\nLearn More\\n\\n## SUPER BOWL MERCH\\n\\n## SUPER BOWL FAQ'S\\n\\nWhere is the Super Bowl?\", \"score\": 0.7880784}, {\"title\": \"Eagles deny Chiefs Super Bowl 2025 \\\"three-peat\\\" with dominant win ...\", \"url\": \"https://www.cbsnews.com/live-updates/super-bowl-2025-chiefs-eagles/\", \"content\": \"Quarterback Patrick Mahomes of the Kansas City Chiefs and QB Jalen Hurts of the Philadelphia Eagles embrace at the conclusion of Super Bowl LIX on Feb. 9, 2025. David Buono/Icon Sportswire via Getty Images\\n\\nSuper Bowl score\\n\\nThe Eagles opened the scoring midway through the first quarter with a rushing touchdown from Hurts on their patented \\\"tush push\\\" play, giving them a 7-0 lead. A 48-yard Jake Elliott field goal midway through the second quarter extended their lead to 10-0. [...] Quarterback Patrick Mahomes of the Kansas City Chiefs and QB Jalen Hurtsof the Philadelphia Eagles embrace at the conclusion of Super Bowl LIX on Feb. 9, 2025, at the Caesars Superdome in New Orleans.  David Buono/Icon Sportswire via Getty Images\\n\\nBy Faris Tanyos\\n\\n   \\n   \\n   \\n   \\n    \\n    link copied\\n    \\n\\n  10:17 PM / February 9, 2025\\n\\nNick Siriani gets the Gatorade treatment [...] Image 8: AMFOOT-SUPERBOWL-CHIEFS-EAGLES \\n\\nPhiladelphia Eagles' wide receiver DeVonta Smith scores a touchdown during Super Bowl LIX between the Kansas City Chiefs and the Philadelphia Eagles at Caesars Superdome in New Orleans, Louisiana, Feb. 9, 2025. TIMOTHY A. CLARY/AFP via Getty Images\\n\\nBy Faris Tanyos\\n\\n   \\n   \\n   \\n   \\n    \\n    link copied\\n    \\n\\n  9:15 PM / February 9, 2025\\n\\nChiefs All-Pro defensive tackle Chris Jones limps off during 3rd quarter\", \"score\": 0.751375}]\n",
            "==================================\u001b[1m Ai Message \u001b[0m==================================\n",
            "\n",
            "1. **BBVA Stock Price on March 6, 2025**: BBVA's stock price in the Spanish market was approximately €16.22 on March 6, 2025.\n",
            "\n",
            "2. **Weather in Madrid for Tomorrow**: In Madrid, the current weather condition shows \"Patchy rain nearby,\" and similar conditions may persist tomorrow. It might be a good idea to carry an umbrella just in case.\n",
            "\n",
            "3. **Super Bowl 2025 Champion**: The Philadelphia Eagles won the Super Bowl LIX in 2025, defeating the Kansas City Chiefs with a score of 40-22.\n"
          ]
        }
      ],
      "source": [
        "for chunk in agent.stream(\n",
        "    {\"messages\": [(\"user\", \"What was the stock price of BBVA in the Spanish market as of March 6th, 2025? And will I need an umbrella in Madrid for tomorrow? y quien fue el campeon del super bowl 2025?\")]}, #\"Will I need an umbrella in Madrid tomorrow?\"\n",
        "    stream_mode=\"values\",):\n",
        "    chunk[\"messages\"][-1].pretty_print()"
      ]
    },
    {
      "cell_type": "code",
      "execution_count": 29,
      "metadata": {
        "id": "M6cu_f3fpGnf"
      },
      "outputs": [],
      "source": []
    }
  ],
  "metadata": {
    "colab": {
      "collapsed_sections": [
        "xrrTCxUh2PgG"
      ],
      "provenance": []
    },
    "kernelspec": {
      "display_name": "base",
      "language": "python",
      "name": "python3"
    },
    "language_info": {
      "codemirror_mode": {
        "name": "ipython",
        "version": 3
      },
      "file_extension": ".py",
      "mimetype": "text/x-python",
      "name": "python",
      "nbconvert_exporter": "python",
      "pygments_lexer": "ipython3",
      "version": "3.12.7"
    }
  },
  "nbformat": 4,
  "nbformat_minor": 0
}
