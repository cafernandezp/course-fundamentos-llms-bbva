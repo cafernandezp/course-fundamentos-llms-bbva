{
  "cells": [
    {
      "cell_type": "markdown",
      "metadata": {
        "id": "vjaszwJM-v4b"
      },
      "source": [
        "## Taller de agentes con LangGraph\n",
        "\n",
        "En este taller práctico, crearemos un agente usando la librería LangGraph y modelos de OpenAI. Este agente tendrá dos herramientas a su disposición:\n",
        "\n",
        "*   **Tavily**: para búsquedas web\n",
        "*   **WeatherAPI**: para previsión del tiempo (o tiempo actual)\n",
        "\n",
        "El agente detectará la intencionalidad de la pregunta, decidirá si debe usar alguna de estas herramientas, y devolverá una respuesta al usuario construida a partir de la información recuperada de estas APIs"
      ]
    },
    {
      "cell_type": "markdown",
      "metadata": {
        "id": "xrrTCxUh2PgG"
      },
      "source": [
        "### Instalamos las librerías necesarias: paquetes específicos de langchain"
      ]
    },
    {
      "cell_type": "code",
      "execution_count": null,
      "metadata": {
        "colab": {
          "base_uri": "https://localhost:8080/"
        },
        "collapsed": true,
        "id": "92RTnCT3zItu",
        "outputId": "b0e3eb15-8079-46b4-c62d-8133c83c0913"
      },
      "outputs": [],
      "source": [
        "!pip install -q langgraph langchain langchain-community langchain-openai python-dotenv"
      ]
    },
    {
      "cell_type": "markdown",
      "metadata": {
        "id": "mft3iRt32Via"
      },
      "source": [
        "### Importamos las herramientas necesarias, que todas están integradas en langchain"
      ]
    },
    {
      "cell_type": "code",
      "execution_count": 3,
      "metadata": {
        "id": "kORuDqqJ0heh"
      },
      "outputs": [],
      "source": [
        "import os\n",
        "import requests\n",
        "from typing import List, Literal\n",
        "from langchain_community.tools.tavily_search import TavilySearchResults\n",
        "\n",
        "#Forma de acceder a las APIs\n",
        "from langchain_core.tools import tool\n",
        "\n",
        "#Forma de conectarse a openAI\n",
        "from langchain_openai import AzureChatOpenAI"
      ]
    },
    {
      "cell_type": "markdown",
      "metadata": {
        "id": "0XWwoAVu2b3w"
      },
      "source": [
        "### Definimos las APIs necesarias, tanto de OpenAI como de WeatherAPI\n",
        "\n",
        "Recordemos que en una aplicación real, las APIs no deben quedar expuestas en el código"
      ]
    },
    {
      "cell_type": "code",
      "execution_count": 4,
      "metadata": {
        "id": "_haI6Zjn0WR3"
      },
      "outputs": [],
      "source": [
        "from google.colab import userdata\n",
        "OPENAI_API_KEY = userdata.get('OPENAI_API_KEY')\n",
        "API_VERSION = userdata.get('OPENAI_API_VERSION')\n",
        "AZURE_ENDPOINT = userdata.get('AZURE_OPENAI_ENDPOINT')\n",
        "WEATHER_API_KEY = userdata.get('WEATHER_API_KEY')\n",
        "TAVILY_API_KEY = userdata.get('TAVILY_API_KEY')\n",
        "os.environ[\"TAVILY_API_KEY\"] = TAVILY_API_KEY"
      ]
    },
    {
      "cell_type": "markdown",
      "metadata": {
        "id": "Va2B0_Wg2k1B"
      },
      "source": [
        "### Empezamos definiendo las tools (herramientas) que va a tener a su disposición el agente\n",
        "\n",
        "Se usa el decorador @tool para indicarle a langchain que son herramientas. Al incluir este decorador, se extraen metadatos importantes como el nombre de la herramienta (que por defecto es el nombre de la función) y la descripción (el docstring de la función, la primera línea que se define entre comillas)\n"
      ]
    },
    {
      "cell_type": "code",
      "execution_count": 5,
      "metadata": {
        "id": "B-eM8WFe0YHp"
      },
      "outputs": [],
      "source": [
        "@tool\n",
        "def get_weather(query: str) -> list:\n",
        "    \"\"\"Search weatherapi to get the current or forecast weather\"\"\" #docstring para darle la descripción\n",
        "    endpoint = f\"http://api.weatherapi.com/v1/current.json?key={WEATHER_API_KEY}&q={query}\"\n",
        "    response = requests.get(endpoint)\n",
        "    data = response.json()\n",
        "\n",
        "    if data.get(\"location\"):\n",
        "        return data\n",
        "    else:\n",
        "        return \"Weather Data Not Found\"\n",
        "\n",
        "@tool\n",
        "def search_web(query: str) -> list:\n",
        "    \"\"\"Search the web for a query\"\"\" #docstring para darle la descripción\n",
        "    tavily_search = TavilySearchResults(max_results=5, search_depth='advanced', max_tokens=1000)\n",
        "    results = tavily_search.invoke(query)\n",
        "    return results"
      ]
    },
    {
      "cell_type": "markdown",
      "metadata": {
        "id": "6O8VIX2S20jJ"
      },
      "source": [
        "### Probamos manualmente la API de get_weather"
      ]
    },
    {
      "cell_type": "code",
      "execution_count": 6,
      "metadata": {
        "colab": {
          "base_uri": "https://localhost:8080/"
        },
        "collapsed": true,
        "id": "W7dPxREa23td",
        "outputId": "5e691d56-96af-47ec-d520-06e9d29c6589"
      },
      "outputs": [
        {
          "name": "stderr",
          "output_type": "stream",
          "text": [
            "/tmp/ipython-input-1715036385.py:1: LangChainDeprecationWarning: The method `BaseTool.__call__` was deprecated in langchain-core 0.1.47 and will be removed in 1.0. Use :meth:`~invoke` instead.\n",
            "  get_weather(\"Madrid\")\n"
          ]
        },
        {
          "data": {
            "text/plain": [
              "{'location': {'name': 'Madrid',\n",
              "  'region': 'Madrid',\n",
              "  'country': 'Spain',\n",
              "  'lat': 40.4,\n",
              "  'lon': -3.6833,\n",
              "  'tz_id': 'Europe/Madrid',\n",
              "  'localtime_epoch': 1759918884,\n",
              "  'localtime': '2025-10-08 12:21'},\n",
              " 'current': {'last_updated_epoch': 1759918500,\n",
              "  'last_updated': '2025-10-08 12:15',\n",
              "  'temp_c': 22.3,\n",
              "  'temp_f': 72.1,\n",
              "  'is_day': 1,\n",
              "  'condition': {'text': 'Partly Cloudy',\n",
              "   'icon': '//cdn.weatherapi.com/weather/64x64/day/116.png',\n",
              "   'code': 1003},\n",
              "  'wind_mph': 2.7,\n",
              "  'wind_kph': 4.3,\n",
              "  'wind_degree': 199,\n",
              "  'wind_dir': 'SSW',\n",
              "  'pressure_mb': 1022.0,\n",
              "  'pressure_in': 30.18,\n",
              "  'precip_mm': 0.0,\n",
              "  'precip_in': 0.0,\n",
              "  'humidity': 41,\n",
              "  'cloud': 0,\n",
              "  'feelslike_c': 24.0,\n",
              "  'feelslike_f': 75.2,\n",
              "  'windchill_c': 23.8,\n",
              "  'windchill_f': 74.8,\n",
              "  'heatindex_c': 24.6,\n",
              "  'heatindex_f': 76.2,\n",
              "  'dewpoint_c': 8.7,\n",
              "  'dewpoint_f': 47.6,\n",
              "  'vis_km': 10.0,\n",
              "  'vis_miles': 6.0,\n",
              "  'uv': 2.5,\n",
              "  'gust_mph': 3.1,\n",
              "  'gust_kph': 5.0,\n",
              "  'short_rad': 239.38,\n",
              "  'diff_rad': 78.52,\n",
              "  'dni': 529.36,\n",
              "  'gti': 61.11}}"
            ]
          },
          "execution_count": 6,
          "metadata": {},
          "output_type": "execute_result"
        }
      ],
      "source": [
        "get_weather(\"Madrid\")"
      ]
    },
    {
      "cell_type": "markdown",
      "metadata": {
        "id": "3Nrz7EoLCXn1"
      },
      "source": [
        "### Probamos manualmente la API de Tavily"
      ]
    },
    {
      "cell_type": "code",
      "execution_count": null,
      "metadata": {
        "colab": {
          "base_uri": "https://localhost:8080/"
        },
        "id": "OxPEi7-8XvH_",
        "outputId": "ec2c85c5-d79a-422e-cefd-002df3ecee2a"
      },
      "outputs": [],
      "source": [
        "search_web(\"¿Ultimo precio de accion de BBVA?\")"
      ]
    },
    {
      "cell_type": "code",
      "execution_count": null,
      "metadata": {
        "colab": {
          "base_uri": "https://localhost:8080/"
        },
        "id": "cob3_ckyCXSw",
        "outputId": "84a5eaff-8f82-43f4-f835-ad6c0a0ed1ff"
      },
      "outputs": [],
      "source": [
        "search_web(\"¿cuando inicia la temporada de la NFL 2026?\")"
      ]
    },
    {
      "cell_type": "markdown",
      "metadata": {
        "id": "KKcB9bk23lcU"
      },
      "source": [
        "### Llamamos al modelo con el parámetro bind_tools(), que permite pasar tools de Langchain para que las use el LLM"
      ]
    },
    {
      "cell_type": "code",
      "execution_count": 9,
      "metadata": {
        "id": "SvN2get80nQS"
      },
      "outputs": [],
      "source": [
        "os.environ[\"AZURE_OPENAI_ENDPOINT\"] = AZURE_ENDPOINT\n",
        "\n",
        "llm = AzureChatOpenAI(azure_deployment=\"gpt-4o\",\n",
        "    api_key = OPENAI_API_KEY,\n",
        "    api_version=API_VERSION,\n",
        "    temperature=0.1,\n",
        "    max_tokens=None,\n",
        "    timeout=None,\n",
        "    max_retries=2,)\n"
      ]
    },
    {
      "cell_type": "code",
      "execution_count": null,
      "metadata": {
        "id": "Y4LlTF4SYOUS"
      },
      "outputs": [],
      "source": [
        "\n",
        "tools = [search_web, get_weather]\n",
        "\n",
        "#bind_tools permite enchufarse las herramientas al LLM\n",
        "llm_with_tools = llm.bind_tools(tools)"
      ]
    },
    {
      "cell_type": "markdown",
      "metadata": {
        "id": "ETcbdy7Y4rx3"
      },
      "source": [
        "### El LLM por si mismo no tiene acceso a información en tiempo real"
      ]
    },
    {
      "cell_type": "code",
      "execution_count": 10,
      "metadata": {
        "colab": {
          "base_uri": "https://localhost:8080/"
        },
        "id": "RVcg3sAh4sYo",
        "outputId": "338e9ca7-6d78-4983-f920-38193a119463"
      },
      "outputs": [
        {
          "name": "stdout",
          "output_type": "stream",
          "text": [
            "I'm unable to provide real-time weather updates as my knowledge only goes up until October 2023 and I don't have access to live data. To find the current weather in Segovia, I recommend checking a reliable weather website or app like [Weather.com](https://weather.com) or using a weather service like AccuWeather or your phone's weather app.\n"
          ]
        }
      ],
      "source": [
        "query = \"What is the current weather in Segovia today?\"\n",
        "response = llm.invoke(query)\n",
        "print(response.content)"
      ]
    },
    {
      "cell_type": "code",
      "execution_count": 11,
      "metadata": {
        "colab": {
          "base_uri": "https://localhost:8080/"
        },
        "id": "7OtZHegPHoGo",
        "outputId": "2bf496e0-ce7a-415e-911e-1ccdb7e36dbe"
      },
      "outputs": [
        {
          "name": "stdout",
          "output_type": "stream",
          "text": [
            "¡No puedo predecir el futuro! Mi conocimiento llega hasta octubre de 2023, por lo que no tengo información sobre el campeón del Super Bowl en 2025. Te recomiendo consultar fuentes actualizadas como sitios web deportivos o noticias en ese momento para obtener la información más reciente. 😊🏈\n"
          ]
        }
      ],
      "source": [
        "query = \"quien fue el campeon del super bowl en 2025?\"\n",
        "response = llm.invoke(query)\n",
        "print(response.content)"
      ]
    },
    {
      "cell_type": "markdown",
      "metadata": {
        "id": "XRTkSiF34SWk"
      },
      "source": [
        "### Podemos definir el prompt que se le pasará al LLM+tools, explicándole la tarea o tareas que queremos que haga"
      ]
    },
    {
      "cell_type": "code",
      "execution_count": 12,
      "metadata": {
        "colab": {
          "base_uri": "https://localhost:8080/"
        },
        "id": "xHr5RVtV0zaG",
        "outputId": "25d52556-920c-4607-dc36-9fb2ea78337b"
      },
      "outputs": [
        {
          "name": "stdout",
          "output_type": "stream",
          "text": [
            "[{'name': 'get_weather', 'args': {'query': 'Madrid'}, 'id': 'call_C3ocHcuipVheApKLF19zCmyw', 'type': 'tool_call'}, {'name': 'search_web', 'args': {'query': 'Kerala'}, 'id': 'call_JKtydnnwrwbXHKQXfrbEzkCh', 'type': 'tool_call'}]\n"
          ]
        }
      ],
      "source": [
        "prompt = \"\"\"\n",
        "    Given the tools at your disposal, mention tool calls for the following tasks --If any answer can´t be provided from tool calls, use your own knowledge:\n",
        "    Do not change the query given for any search tasks\n",
        "        1. What is the current weather in Madrid today\n",
        "        2. Can you tell me about Kerala\n",
        "        3. Why is the sky blue?\n",
        "    \"\"\"\n",
        "\n",
        "results = llm_with_tools.invoke(prompt)\n",
        "\n",
        "print(results.tool_calls)"
      ]
    },
    {
      "cell_type": "code",
      "execution_count": 13,
      "metadata": {
        "colab": {
          "base_uri": "https://localhost:8080/"
        },
        "id": "T1G1stDv5CE6",
        "outputId": "f53179e1-85a5-453d-eb7d-0ca5fa1e0d37"
      },
      "outputs": [
        {
          "name": "stdout",
          "output_type": "stream",
          "text": [
            "content='' additional_kwargs={'tool_calls': [{'id': 'call_C3ocHcuipVheApKLF19zCmyw', 'function': {'arguments': '{\"query\": \"Madrid\"}', 'name': 'get_weather'}, 'type': 'function'}, {'id': 'call_JKtydnnwrwbXHKQXfrbEzkCh', 'function': {'arguments': '{\"query\": \"Kerala\"}', 'name': 'search_web'}, 'type': 'function'}], 'refusal': None} response_metadata={'token_usage': {'completion_tokens': 46, 'prompt_tokens': 149, 'total_tokens': 195, 'completion_tokens_details': {'accepted_prediction_tokens': 0, 'audio_tokens': 0, 'reasoning_tokens': 0, 'rejected_prediction_tokens': 0}, 'prompt_tokens_details': {'audio_tokens': 0, 'cached_tokens': 0}}, 'model_name': 'gpt-4o-2024-11-20', 'system_fingerprint': 'fp_ee1d74bde0', 'id': 'chatcmpl-COLnnuoD821tlOyKNHsLjXFlUHUwu', 'service_tier': None, 'prompt_filter_results': [{'prompt_index': 0, 'content_filter_results': {'hate': {'filtered': False, 'severity': 'safe'}, 'jailbreak': {'filtered': False, 'detected': False}, 'self_harm': {'filtered': False, 'severity': 'safe'}, 'sexual': {'filtered': False, 'severity': 'safe'}, 'violence': {'filtered': False, 'severity': 'safe'}}}], 'finish_reason': 'tool_calls', 'logprobs': None, 'content_filter_results': {}} id='run--b6a857ab-f19a-4576-b8f3-9b3e0874f3f0-0' tool_calls=[{'name': 'get_weather', 'args': {'query': 'Madrid'}, 'id': 'call_C3ocHcuipVheApKLF19zCmyw', 'type': 'tool_call'}, {'name': 'search_web', 'args': {'query': 'Kerala'}, 'id': 'call_JKtydnnwrwbXHKQXfrbEzkCh', 'type': 'tool_call'}] usage_metadata={'input_tokens': 149, 'output_tokens': 46, 'total_tokens': 195, 'input_token_details': {'audio': 0, 'cache_read': 0}, 'output_token_details': {'audio': 0, 'reasoning': 0}}\n"
          ]
        }
      ],
      "source": [
        "# Ha disenado el plan de accion\n",
        "print(results)"
      ]
    },
    {
      "cell_type": "code",
      "execution_count": 14,
      "metadata": {
        "colab": {
          "base_uri": "https://localhost:8080/",
          "height": 35
        },
        "id": "fafvLBuml1m2",
        "outputId": "30be7056-a822-42d0-dcc9-65b1286095e7"
      },
      "outputs": [
        {
          "data": {
            "application/vnd.google.colaboratory.intrinsic+json": {
              "type": "string"
            },
            "text/plain": [
              "''"
            ]
          },
          "execution_count": 14,
          "metadata": {},
          "output_type": "execute_result"
        }
      ],
      "source": [
        "# Es vacio el contenido, porque aun no se ha materializado\n",
        "results.content"
      ]
    },
    {
      "cell_type": "markdown",
      "metadata": {
        "id": "NBEnkV1U5LZV"
      },
      "source": [
        "### Ahora creamos el agente con grafos, usando LangGraph\n",
        "\n",
        "En primer lugar, usamos el módulo create_react_agent. El paradigma ReAct está bastado en Reason & Act, es decir, razonar (¿qué tool tengo a mi disposición y cuál debería usar?) y actuar (voy a usar esta herramienta para que me devuelva una respuesta y analizarla)"
      ]
    },
    {
      "cell_type": "code",
      "execution_count": 15,
      "metadata": {
        "id": "K1FDhsxU5mmK"
      },
      "outputs": [],
      "source": [
        "from langgraph.prebuilt import create_react_agent"
      ]
    },
    {
      "cell_type": "markdown",
      "metadata": {
        "id": "SSrBc1iF5vzB"
      },
      "source": [
        "Creamos un system_prompt, donde le explicamos qué esperamos que haga, y las tools que tiene a su disposición. Es importante que los nombres de las tools coincidan con el nombre con el que le hemos definido, así como darle una buena explicación de su función"
      ]
    },
    {
      "cell_type": "code",
      "execution_count": 16,
      "metadata": {
        "id": "P_0-Y0ic5vkb"
      },
      "outputs": [],
      "source": [
        "system_prompt = \"\"\"Act as a helpful assistant.\n",
        "    Use the tools at your disposal to perform tasks as needed.\n",
        "        - get_weather: whenever user asks get the weather of a place.\n",
        "        - search_web: whenever user asks for information on current events or if you don't know the answer.\n",
        "    Use the tools only if you don't know the answer.\"\"\""
      ]
    },
    {
      "cell_type": "markdown",
      "metadata": {
        "id": "_ftpBo8b8A5N"
      },
      "source": [
        "### Inicializamos el agente con el modelo, las tools y el system_prompt"
      ]
    },
    {
      "cell_type": "code",
      "execution_count": 18,
      "metadata": {
        "id": "LWYVYttDXGp5"
      },
      "outputs": [],
      "source": [
        "from langchain_core.prompts import ChatPromptTemplate\n",
        "\n",
        "prompt_template = ChatPromptTemplate.from_messages([(\"system\", system_prompt), (\"placeholder\", \"{messages}\")])\n",
        "\n",
        "#Ahora estamos inicializando el agente con grafos, por eso no se utiliza el llm_with_tools directamente.\n",
        "agent = create_react_agent(model=llm, tools=tools, prompt=prompt_template)"
      ]
    },
    {
      "cell_type": "markdown",
      "metadata": {
        "id": "FTSYMgX28G9V"
      },
      "source": [
        "### Probamos el agente para ver qué hace"
      ]
    },
    {
      "cell_type": "code",
      "execution_count": 19,
      "metadata": {
        "colab": {
          "base_uri": "https://localhost:8080/"
        },
        "id": "Wnq3-VSB02Hs",
        "outputId": "1fbf23b5-93e8-4e8d-8222-2f97140d7378"
      },
      "outputs": [
        {
          "name": "stdout",
          "output_type": "stream",
          "text": [
            "================================\u001b[1m Human Message \u001b[0m=================================\n",
            "\n",
            "What is the current weather in Madrid today\n",
            "==================================\u001b[1m Ai Message \u001b[0m==================================\n",
            "Tool Calls:\n",
            "  get_weather (call_b6eZpxo9xDPP2menO2Vcg8jS)\n",
            " Call ID: call_b6eZpxo9xDPP2menO2Vcg8jS\n",
            "  Args:\n",
            "    query: Madrid\n",
            "=================================\u001b[1m Tool Message \u001b[0m=================================\n",
            "Name: get_weather\n",
            "\n",
            "{\"location\": {\"name\": \"Madrid\", \"region\": \"Madrid\", \"country\": \"Spain\", \"lat\": 40.4, \"lon\": -3.6833, \"tz_id\": \"Europe/Madrid\", \"localtime_epoch\": 1759920020, \"localtime\": \"2025-10-08 12:40\"}, \"current\": {\"last_updated_epoch\": 1759919400, \"last_updated\": \"2025-10-08 12:30\", \"temp_c\": 22.3, \"temp_f\": 72.1, \"is_day\": 1, \"condition\": {\"text\": \"Sunny\", \"icon\": \"//cdn.weatherapi.com/weather/64x64/day/113.png\", \"code\": 1000}, \"wind_mph\": 2.7, \"wind_kph\": 4.3, \"wind_degree\": 213, \"wind_dir\": \"SSW\", \"pressure_mb\": 1022.0, \"pressure_in\": 30.18, \"precip_mm\": 0.0, \"precip_in\": 0.0, \"humidity\": 41, \"cloud\": 0, \"feelslike_c\": 24.1, \"feelslike_f\": 75.4, \"windchill_c\": 23.8, \"windchill_f\": 74.9, \"heatindex_c\": 24.7, \"heatindex_f\": 76.5, \"dewpoint_c\": 9.5, \"dewpoint_f\": 49.1, \"vis_km\": 10.0, \"vis_miles\": 6.0, \"uv\": 2.5, \"gust_mph\": 3.1, \"gust_kph\": 5.0, \"short_rad\": 237.64, \"diff_rad\": 81.0, \"dni\": 515.47, \"gti\": 63.61}}\n",
            "==================================\u001b[1m Ai Message \u001b[0m==================================\n",
            "\n",
            "The current weather in Madrid is sunny with a temperature of 22.3°C (72.1°F). It feels like 24.1°C (75.4°F). The wind is coming from the south-southwest at 4.3 kph (2.7 mph), and the humidity is at 41%. There is no precipitation, and the visibility is 10 km (6 miles).\n"
          ]
        }
      ],
      "source": [
        "def print_stream(stream):\n",
        "    for s in stream:\n",
        "        message = s[\"messages\"][-1]\n",
        "        if isinstance(message, tuple):\n",
        "            print(message)\n",
        "        else:\n",
        "            message.pretty_print()\n",
        "\n",
        "inputs = {\"messages\": [(\"user\", \"What is the current weather in Madrid today\")]}\n",
        "\n",
        "print_stream(agent.stream(inputs, stream_mode=\"values\"))"
      ]
    },
    {
      "cell_type": "markdown",
      "metadata": {
        "id": "-GMrcolI8nnw"
      },
      "source": [
        "### Vamos a crear la lógica de grafos (estados y nodos)\n",
        "\n",
        "En primer lugar, definimos el conjunto de tools posibles mediante el ToolNode"
      ]
    },
    {
      "cell_type": "code",
      "execution_count": 20,
      "metadata": {
        "id": "5i8-N_W78ySE"
      },
      "outputs": [],
      "source": [
        "from langgraph.prebuilt import ToolNode\n",
        "from langgraph.graph import StateGraph, MessagesState, START, END\n",
        "\n",
        "tools = [search_web, get_weather]\n",
        "tool_node = ToolNode(tools)"
      ]
    },
    {
      "cell_type": "markdown",
      "metadata": {
        "id": "ba3HR2MZ82aD"
      },
      "source": [
        "Definimos las funciones para llamar al LLM y las tools. La función call_tools llevará al final (END)"
      ]
    },
    {
      "cell_type": "code",
      "execution_count": 21,
      "metadata": {
        "id": "tCCA2FRT8_HI"
      },
      "outputs": [],
      "source": [
        "def call_model(state: MessagesState):\n",
        "    messages = state[\"messages\"]\n",
        "    response = llm_with_tools.invoke(messages)\n",
        "    return {\"messages\": [response]}\n",
        "\n",
        "def call_tools(state: MessagesState) -> Literal[\"tools\", END]:\n",
        "    messages = state[\"messages\"]\n",
        "    last_message = messages[-1]\n",
        "    if last_message.tool_calls:\n",
        "        return \"tools\"\n",
        "    return END"
      ]
    },
    {
      "cell_type": "markdown",
      "metadata": {
        "id": "uo6J8mcj9huR"
      },
      "source": [
        "Inicializamos el flow con StateGraph"
      ]
    },
    {
      "cell_type": "code",
      "execution_count": 22,
      "metadata": {
        "id": "NIX-4a2X9krQ"
      },
      "outputs": [],
      "source": [
        "workflow = StateGraph(MessagesState)"
      ]
    },
    {
      "cell_type": "markdown",
      "metadata": {
        "id": "rob7UP8u9mgb"
      },
      "source": [
        "Ahora ya podemos añadir nodos. Primero, añadimos un nodo de LLM, que usará el LLM para tomar decisiones en base al input"
      ]
    },
    {
      "cell_type": "code",
      "execution_count": 23,
      "metadata": {
        "colab": {
          "base_uri": "https://localhost:8080/"
        },
        "id": "TmBLCY5c9xVa",
        "outputId": "f5217d68-d4cf-477c-b915-e32dda363e0c"
      },
      "outputs": [
        {
          "data": {
            "text/plain": [
              "<langgraph.graph.state.StateGraph at 0x7e49e695f740>"
            ]
          },
          "execution_count": 23,
          "metadata": {},
          "output_type": "execute_result"
        }
      ],
      "source": [
        "workflow.add_node(\"LLM\", call_model)"
      ]
    },
    {
      "cell_type": "markdown",
      "metadata": {
        "id": "QOJke0Sn9yAX"
      },
      "source": [
        "Nuestro flow comienza con el nodo LLM. Esto se codifica añadiendolo con la función add_edge, indicando que es START"
      ]
    },
    {
      "cell_type": "code",
      "execution_count": 24,
      "metadata": {
        "colab": {
          "base_uri": "https://localhost:8080/"
        },
        "id": "Po3T-HcU-j5T",
        "outputId": "6fd16d6f-ceb2-4346-c899-239b933594dc"
      },
      "outputs": [
        {
          "data": {
            "text/plain": [
              "<langgraph.graph.state.StateGraph at 0x7e49e695f740>"
            ]
          },
          "execution_count": 24,
          "metadata": {},
          "output_type": "execute_result"
        }
      ],
      "source": [
        "workflow.add_edge(START, \"LLM\")"
      ]
    },
    {
      "cell_type": "markdown",
      "metadata": {
        "id": "36-XUcjm-lHH"
      },
      "source": [
        "Después, pasamos por el nodo de las tools"
      ]
    },
    {
      "cell_type": "code",
      "execution_count": 25,
      "metadata": {
        "colab": {
          "base_uri": "https://localhost:8080/"
        },
        "id": "dBmAqy3L-qb5",
        "outputId": "3905b154-5171-4d01-8411-22c950363166"
      },
      "outputs": [
        {
          "data": {
            "text/plain": [
              "<langgraph.graph.state.StateGraph at 0x7e49e695f740>"
            ]
          },
          "execution_count": 25,
          "metadata": {},
          "output_type": "execute_result"
        }
      ],
      "source": [
        "workflow.add_node(\"tools\", tool_node)"
      ]
    },
    {
      "cell_type": "markdown",
      "metadata": {
        "id": "DJymonf--oOh"
      },
      "source": [
        "Añadimos un edge condicional, que va del LLM a las llamadas de las tools. Dependiendo del output del LLM, irá al nodo de tools o al final (END), según el agente considere que necesita consultar una de las tools o puede dar una respuesta autónoma"
      ]
    },
    {
      "cell_type": "code",
      "execution_count": 26,
      "metadata": {
        "colab": {
          "base_uri": "https://localhost:8080/"
        },
        "id": "LgO9GjMC-622",
        "outputId": "9762c19b-e10c-4182-c3ed-4183357d2140"
      },
      "outputs": [
        {
          "data": {
            "text/plain": [
              "<langgraph.graph.state.StateGraph at 0x7e49e695f740>"
            ]
          },
          "execution_count": 26,
          "metadata": {},
          "output_type": "execute_result"
        }
      ],
      "source": [
        "workflow.add_conditional_edges(\"LLM\", call_tools)"
      ]
    },
    {
      "cell_type": "markdown",
      "metadata": {
        "id": "o3jLc5S--8W5"
      },
      "source": [
        "Por último, el nodo tools le manda la información de vuelta al LLM"
      ]
    },
    {
      "cell_type": "code",
      "execution_count": 27,
      "metadata": {
        "colab": {
          "base_uri": "https://localhost:8080/"
        },
        "id": "BKz4909N_HPR",
        "outputId": "33f924b5-99c1-4e2a-ad7e-b753484df37c"
      },
      "outputs": [
        {
          "data": {
            "text/plain": [
              "<langgraph.graph.state.StateGraph at 0x7e49e695f740>"
            ]
          },
          "execution_count": 27,
          "metadata": {},
          "output_type": "execute_result"
        }
      ],
      "source": [
        "workflow.add_edge(\"tools\", \"LLM\")"
      ]
    },
    {
      "cell_type": "markdown",
      "metadata": {
        "id": "8LU9Xq3T_K7Y"
      },
      "source": [
        "Cuando hemos definido todo nuestro flow, se debe compilar"
      ]
    },
    {
      "cell_type": "code",
      "execution_count": 28,
      "metadata": {
        "id": "rqliEtxs_STZ"
      },
      "outputs": [],
      "source": [
        "agent = workflow.compile()"
      ]
    },
    {
      "cell_type": "markdown",
      "metadata": {
        "id": "pSdOlzPw_Tm7"
      },
      "source": [
        "Se puede pintar el flow automáticamente"
      ]
    },
    {
      "cell_type": "code",
      "execution_count": 29,
      "metadata": {
        "colab": {
          "base_uri": "https://localhost:8080/",
          "height": 266
        },
        "id": "KYhf7PDm_Xpc",
        "outputId": "63ee27a0-fcc8-4e6e-f4b3-1860178c77fe"
      },
      "outputs": [
        {
          "data": {
            "image/png": "[encoded data removed]",
            "text/plain": [
              "<IPython.core.display.Image object>"
            ]
          },
          "metadata": {},
          "output_type": "display_data"
        }
      ],
      "source": [
        "from IPython.display import Image, display\n",
        "\n",
        "display(Image(agent.get_graph().draw_mermaid_png()))"
      ]
    },
    {
      "cell_type": "markdown",
      "metadata": {
        "id": "f9G5m_bQ_mdB"
      },
      "source": [
        "### Ya podemos usar nuestro agente y ver los pasos intermedios que sigue"
      ]
    },
    {
      "cell_type": "code",
      "execution_count": 30,
      "metadata": {
        "colab": {
          "base_uri": "https://localhost:8080/"
        },
        "id": "tITkEgsY07zM",
        "outputId": "12433e25-60a4-4807-a7c5-78c4c79347d9"
      },
      "outputs": [
        {
          "name": "stdout",
          "output_type": "stream",
          "text": [
            "================================\u001b[1m Human Message \u001b[0m=================================\n",
            "\n",
            "What was the stock price of BBVA in the Spanish market as of March 6th, 2025? And will I need an umbrella in Madrid for tomorrow? y quien fue el campeon del super bowl 2025?\n",
            "==================================\u001b[1m Ai Message \u001b[0m==================================\n",
            "Tool Calls:\n",
            "  search_web (call_JCP9iLEiBz6PzUDprQ920sLu)\n",
            " Call ID: call_JCP9iLEiBz6PzUDprQ920sLu\n",
            "  Args:\n",
            "    query: BBVA stock price Spanish market March 6 2025\n",
            "  get_weather (call_n3HMRsOz7ncgWDiwGgyoguMi)\n",
            " Call ID: call_n3HMRsOz7ncgWDiwGgyoguMi\n",
            "  Args:\n",
            "    query: Madrid weather tomorrow\n",
            "  search_web (call_31FpL1ffZkxN7o8nzpJAIRDg)\n",
            " Call ID: call_31FpL1ffZkxN7o8nzpJAIRDg\n",
            "  Args:\n",
            "    query: Super Bowl 2025 champion\n",
            "=================================\u001b[1m Tool Message \u001b[0m=================================\n",
            "Name: search_web\n",
            "\n",
            "[{\"title\": \"Super Bowl LIX\", \"url\": \"https://en.wikipedia.org/wiki/Super_Bowl_LIX\", \"content\": \"[Jump to content](https://en.wikipedia.org/wiki/Super_Bowl_LIX#bodyContent) *   [(Top)](https://en.wikipedia.org/wiki/Super_Bowl_LIX#) *   [1.2 Logo](https://en.wikipedia.org/wiki/Super_Bowl_LIX#Logo) *   [1.3 Security](https://en.wikipedia.org/wiki/Super_Bowl_LIX#Security) *   [1.4 Slogan](https://en.wikipedia.org/wiki/Super_Bowl_LIX#Slogan) *   [1.6 Boycott](https://en.wikipedia.org/wiki/Super_Bowl_LIX#Boycott) *   [2.3 Playoffs](https://en.wikipedia.org/wiki/Super_Bowl_LIX#Playoffs) *   [3.1.1 Television](https://en.wikipedia.org/wiki/Super_Bowl_LIX#Television) *   [3.1.2 Advertising](https://en.wikipedia.org/wiki/Super_Bowl_LIX#Advertising) *   [3.1.3 Streaming](https://en.wikipedia.org/wiki/Super_Bowl_LIX#Streaming) *   [3.1.4 Radio](https://en.wikipedia.org/wiki/Super_Bowl_LIX#Radio) *   [3.2 International](https://en.wikipedia.org/wiki/Super_Bowl_LIX#International) *   [3.2.1 Americas](https://en.wikipedia.org/wiki/Super_Bowl_LIX#Americas) *   [3.2.2 Europe](https://en.wikipedia.org/wiki/Super_Bowl_LIX#Europe) *   [4.1 Pregame](https://en.wikipedia.org/wiki/Super_Bowl_LIX#Pregame) *   [4.2 Halftime](https://en.wikipedia.org/wiki/Super_Bowl_LIX#Halftime) *   [5.1 First half](https://en.wikipedia.org/wiki/Super_Bowl_LIX#First_half) *   [5.3 Game statistics](https://en.wikipedia.org/wiki/Super_Bowl_LIX#Game_statistics) *   [8 Officials](https://en.wikipedia.org/wiki/Super_Bowl_LIX#Officials) *   [9 Notes](https://en.wikipedia.org/wiki/Super_Bowl_LIX#Notes) *   [10 References](https://en.wikipedia.org/wiki/Super_Bowl_LIX#References) *   [Article](https://en.wikipedia.org/wiki/Super_Bowl_LIX \\\"View the content page [alt-c]\\\") *   [Talk](https://en.wikipedia.org/wiki/Talk:Super_Bowl_LIX \\\"Discuss improvements to the content page [alt-t]\\\") *   [Read](https://en.wikipedia.org/wiki/Super_Bowl_LIX) *   [Read](https://en.wikipedia.org/wiki/Super_Bowl_LIX) *   [What links here](https://en.wikipedia.org/wiki/Special:WhatLinksHere/Super_Bowl_LIX \\\"List of all English Wikipedia pages containing links to this page [alt-j]\\\") *   [Expand all](https://en.wikipedia.org/wiki/Super_Bowl_LIX# \\\"Expand all collapsible elements on the current page\\\") *   [Edit preview settings](https://en.wikipedia.org/wiki/Super_Bowl_LIX#) 19 languages[Add topic](https://en.wikipedia.org/wiki/Super_Bowl_LIX#) [](https://en.wikipedia.org/wiki/Super_Bowl_LIX?action=edit)\", \"score\": 0.98581}, {\"title\": \"Eagles 40-22 Chiefs (Feb 9, 2025) Final Score\", \"url\": \"https://www.espn.com/nfl/game/_/gameId/401671889/chiefs-eagles\", \"content\": \"# Philadelphia Eagles vs Kansas City Chiefs 11 CAR, 1 TD ## Game Information — Cooper DeJean, Josh Sweat and the Philadelphia Eagles’ ferocious defense denied Patrick Mahomes, Travis Kelce and the Kansas City Chiefs a Super Bowl three-peat. 1st Quarter Jalen Hurts 1 Yd Rush (Jake Elliott Kick) Jake Elliott 48 Yd Field Goal A.J. Brown 12 Yd pass from Jalen Hurts (Jake Elliott Kick) Jake Elliott 29 Yd Field Goal DeVonta Smith 46 Yd pass from Jalen Hurts (Jake Elliott Kick) Jake Elliott 48 Yd Field Goal Xavier Worthy 50 Yd pass from Patrick Mahomes (Patrick Mahomes Pass to DeAndre Hopkins for Two-Point Conversion) ESPN BET is available in states where PENN is licensed to offer sports wagering.\", \"score\": 0.98576}, {\"title\": \"NFL History - Super Bowl Winners\", \"url\": \"http://www.espn.com/nfl/superbowl/history/winners\", \"content\": \"| IV | Jan. 11, 1970 | Tulane Stadium (New Orleans) | Kansas City 23, Minnesota 7 | | VI | Jan. 16, 1972 | Tulane Stadium (New Orleans) | Dallas 24, Miami 3 | | IX | Jan. 12, 1975 | Tulane Stadium (New Orleans) | Pittsburgh 16, Minnesota 6 | | XXV | Jan. 27, 1991 | Tampa (Fla.) Stadium | New York Giants 20, Buffalo 19 | + College Football ## ESPN ESPN.com: Help | Press | Advertise on ESPN.com | Sales Media Kit | Interest-Based Ads | Do Not Sell or Share My Personal Information | Corrections | Contact Us | Site Map | Jobs at ESPN © 2025 ESPN Internet Ventures.\", \"score\": 0.98358}, {\"title\": \"Super Bowl 2025: Eagles defeat Chiefs 40-22\", \"url\": \"https://www.nbcnews.com/sports/nfl/live-blog/super-bowl-chiefs-eagles-live-updates-rcna190717\", \"content\": \"# Super Bowl 2025: Eagles defeat Chiefs 40-22; Jalen Hurts MVP; Kendrick Lamar performs at halftime From the very start, this Super Bowl was controlled by the Philadelphia Eagles, who celebrated under green-and-white confetti inside the Superdome in New Orleans after cruising past Kansas City, 40-22. Even in the heat of Super Bowl battle, NBC Sports found a handful of Philadelphia Eagles and Kansas City Chiefs fans willing to say nice things about the other guys. Days before the Philadelphia Eagles take on the Kansas City Chiefs in the Super Bowl, Philadelphia’s mayor sought to dissuade celebrating fans from climbing light poles or onto other equipment.\", \"score\": 0.97932}, {\"title\": \"Super Bowl 2025: Kansas City Chiefs v. Philadelphia Eagles\", \"url\": \"https://www.npr.org/2025/02/09/nx-s1-5288003/super-bowl-2025-chiefs-eagles-kendrick\", \"content\": \"**Super Bowl 2025: Kansas City Chiefs v. # Super Bowl 2025: The Philadelphia Eagles rout the Kansas City Chiefs to deny three-peat bid C.J. Gardner-Johnson #8 and Tyler Steen #56 of the Philadelphia Eagles celebrate after beating the Kansas City Chiefs 40-22 to win Super Bowl LIX at Caesars Superdome on February 09, 2025 in New Orleans, Louisiana. The Kansas City Chiefs came into the Super Bowl hoping to make history: Had the Chiefs won, they would have become the first team in NFL history to win three Super Bowls in a row. A previous version of this story misidentified Eagles player Tyler Steen in the photo caption at the top of the story.**Previously posted Feb. 10, 2025:** A previous version of this story did not add Barkley's Super Bowl game rushing yards to his season total.\", \"score\": 0.97257}]\n",
            "==================================\u001b[1m Ai Message \u001b[0m==================================\n",
            "\n",
            "1. **BBVA Stock Price on March 6, 2025**: On that date, BBVA's stock price in the Spanish market was approximately €16.22.\n",
            "\n",
            "2. **Weather in Madrid for Tomorrow**: The weather forecast for Madrid tomorrow indicates foggy conditions with high humidity. It is unlikely to rain, so you probably won't need an umbrella.\n",
            "\n",
            "3. **Super Bowl 2025 Champion**: The Philadelphia Eagles defeated the Kansas City Chiefs with a score of 40-22 to win Super Bowl LIX. Jalen Hurts was named the MVP of the game.\n"
          ]
        }
      ],
      "source": [
        "for chunk in agent.stream(\n",
        "    {\"messages\": [(\"user\", \"What was the stock price of BBVA in the Spanish market as of March 6th, 2025? And will I need an umbrella in Madrid for tomorrow? y quien fue el campeon del super bowl 2025?\")]}, #\"Will I need an umbrella in Madrid tomorrow?\"\n",
        "    stream_mode=\"values\",):\n",
        "    chunk[\"messages\"][-1].pretty_print()"
      ]
    },
    {
      "cell_type": "code",
      "execution_count": null,
      "metadata": {
        "id": "M6cu_f3fpGnf"
      },
      "outputs": [],
      "source": []
    }
  ],
  "metadata": {
    "colab": {
      "collapsed_sections": [
        "xrrTCxUh2PgG"
      ],
      "provenance": []
    },
    "kernelspec": {
      "display_name": "base",
      "language": "python",
      "name": "python3"
    },
    "language_info": {
      "codemirror_mode": {
        "name": "ipython",
        "version": 3
      },
      "file_extension": ".py",
      "mimetype": "text/x-python",
      "name": "python",
      "nbconvert_exporter": "python",
      "pygments_lexer": "ipython3",
      "version": "3.12.7"
    }
  },
  "nbformat": 4,
  "nbformat_minor": 0
}
