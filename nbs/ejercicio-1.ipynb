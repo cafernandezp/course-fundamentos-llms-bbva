{
 "cells": [
  {
   "cell_type": "markdown",
   "metadata": {
    "id": "8UtFJqqy1PMg"
   },
   "source": [
    "## Ejercicio 1: Generación de datos sintéticos de reclamaciones de clientes\n",
    "\n",
    "En este ejercicio utilizaremos la API de OpenAI para generar reclamaciones de clientes en formato JSON.\n",
    "Luego, convertiremos los resultados en un DataFrame y aplicaremos un análisis de sentimiento sencillo"
   ]
  },
  {
   "cell_type": "code",
   "execution_count": null,
   "metadata": {
    "id": "87fiFw7y3-E7"
   },
   "outputs": [],
   "source": [
    "from google.colab import userdata\n",
    "OPENAI_API_KEY = userdata.get('OPENAI_API_KEY')\n",
    "API_VERSION = userdata.get('OPENAI_API_VERSION')\n",
    "AZURE_ENDPOINT = userdata.get('AZURE_OPENAI_ENDPOINT')\n",
    "\n",
    "print(type(OPENAI_API_KEY),OPENAI_API_KEY)\n",
    "print(type(API_VERSION),API_VERSION)\n",
    "print(type(AZURE_ENDPOINT),AZURE_ENDPOINT)"
   ]
  },
  {
   "cell_type": "code",
   "execution_count": null,
   "metadata": {
    "executionInfo": {
     "elapsed": 659,
     "status": "ok",
     "timestamp": 1759785205420,
     "user": {
      "displayName": "VICTOR VALLEJO CARBALLO",
      "userId": "16397145822283464326"
     },
     "user_tz": -120
    },
    "id": "w5IBXXgH1PMj"
   },
   "outputs": [],
   "source": [
    "import pandas as pd\n",
    "import json\n",
    "import os"
   ]
  },
  {
   "cell_type": "markdown",
   "metadata": {
    "id": "Dph5lb5i1PMk"
   },
   "source": [
    "##### Establecemos el valor de la API key de OpenAI. En una aplicación real, no podemos exponer esta API key en el código, y la cogeríamos con una variable de entorno mediante un os.getenv()"
   ]
  },
  {
   "cell_type": "markdown",
   "metadata": {
    "id": "J1AyDt5O1PMk"
   },
   "source": [
    "##### Definimos una función para generar reclamaciones sintéticas\n",
    "Estamos estableciendo valores como el modelo, la temperatura o el max_tokens. Podemos jugar con ellos para ver cómo cambia la generación"
   ]
  },
  {
   "cell_type": "code",
   "execution_count": null,
   "metadata": {
    "executionInfo": {
     "elapsed": 1443,
     "status": "ok",
     "timestamp": 1759785349520,
     "user": {
      "displayName": "VICTOR VALLEJO CARBALLO",
      "userId": "16397145822283464326"
     },
     "user_tz": -120
    },
    "id": "vo7b4dDQ1PMl"
   },
   "outputs": [],
   "source": [
    "from openai import AzureOpenAI\n",
    "import time\n",
    "\n",
    "# Configura el cliente de Azure OpenAI\n",
    "client = AzureOpenAI(\n",
    "            api_key = OPENAI_API_KEY,\n",
    "            api_version=API_VERSION,\n",
    "            azure_endpoint= AZURE_ENDPOINT# Este endpoint corresponde a la región france-central\n",
    ")\n",
    "\n",
    "\n",
    "def generar_reclamaciones(prompt: str, num_muestras: int = 5) -> list:\n",
    "    \"\"\"Genera una lista de reclamaciones sintéticas utilizando Azure OpenAI.\"\"\"\n",
    "    respuestas = []\n",
    "    for i in range(num_muestras):\n",
    "        completion = client.chat.completions.create(\n",
    "            model=\"gpt-4o\",  # Reemplaza \"deployment-name\" por el nombre del despliegue configurado en Azure (por ejemplo, \"gpt-35-instant\")\n",
    "            messages=[{\"role\": \"user\", \"content\": prompt}],\n",
    "            temperature=0.5,\n",
    "            max_tokens=1000,\n",
    "        )\n",
    "        # Extraemos el contenido de la respuesta\n",
    "        texto = completion.choices[0].message.content.strip()\n",
    "        respuestas.append(texto)\n",
    "        time.sleep(1)  # Pausa para evitar problemas de rate limit\n",
    "    return respuestas\n"
   ]
  },
  {
   "cell_type": "markdown",
   "metadata": {
    "id": "mtoeUYwR1PMl"
   },
   "source": [
    "##### Y ahora hacemos prompt engineering. Es importante estructurarlo lo mejor posible, como hemos visto en la parte teórica"
   ]
  },
  {
   "cell_type": "code",
   "execution_count": null,
   "metadata": {
    "executionInfo": {
     "elapsed": 4,
     "status": "ok",
     "timestamp": 1759785352542,
     "user": {
      "displayName": "VICTOR VALLEJO CARBALLO",
      "userId": "16397145822283464326"
     },
     "user_tz": -120
    },
    "id": "4Tn3gOot1PMl"
   },
   "outputs": [],
   "source": [
    "# Definimos el prompt para generar una reclamación en formato JSON.\n",
    "prompt_reclamacion = (\n",
    "    \"Genera una reclamación sintética de un cliente de un banco que incluya los siguientes campos: \\n\"\n",
    "    \"- una fecha aleatoria (en formato YYYY-MM-DD) entre el 1 de enero de 2021 y el 31 de diciembre de 2024\\n\"\n",
    "    \"- para las fechas aleatorias devuelvelas todas diferentes\"\n",
    "    \"- producto sobre el que está reclamando (puede ser tarjeta de crédito, préstamo, hipoteca...)\\n\"\n",
    "    \"- canal de contacto (puede ser teléfono, email o chat, elige uno aleatoriamente)\\n\"\n",
    "    \"- nivel urgencia (bajo, medio o alto, establecido según la problemática expuesta o aleatoriamente)\\n\"\n",
    "    \"- descripción (descripción larga y detallada del problema)\\n\"\n",
    "    \"- Algo de texto extra para que parezca más natural. Puede ser un tono neutro o muy negativo\\n\"\n",
    "    \"Devuelve la reclamación en formato JSON con las claves: 'fecha', 'producto', 'canal', 'urgencia', 'descripcion'.\\n\"\n",
    "    \"Escribe únicamente el json de la reclamación, sin ningún preámbulo ni texto extra antes o después.\"\n",
    ")"
   ]
  },
  {
   "cell_type": "markdown",
   "metadata": {
    "id": "kUzHq9BS1PMl"
   },
   "source": [
    "##### Generamos las muestras sintéticas"
   ]
  },
  {
   "cell_type": "code",
   "execution_count": null,
   "metadata": {
    "id": "yrM1L8UT1PMm"
   },
   "outputs": [],
   "source": [
    "import json\n",
    "import re\n",
    "import pandas as pd\n",
    "\n",
    "# Generamos las reclamaciones\n",
    "reclamaciones = generar_reclamaciones(prompt_reclamacion, num_muestras=5)\n",
    "\n",
    "print(\"Reclamaciones sintéticas generadas:\\n\")\n",
    "for rec in reclamaciones:\n",
    "    print(rec)\n",
    "    print(\"------\")\n",
    "\n",
    "def extraer_json(texto: str) -> str:\n",
    "    \"\"\"\n",
    "    Extrae el bloque JSON del texto eliminando las marcas Markdown si están presentes.\n",
    "    \"\"\"\n",
    "    # Busca un bloque que empiece con ```json y termine con ```\n",
    "    patron = r\"```json\\s*(\\{.*?\\})\\s*```\"\n",
    "    coincidencia = re.search(patron, texto, re.DOTALL)\n",
    "    if coincidencia:\n",
    "        return coincidencia.group(1)\n",
    "    else:\n",
    "        # Si no encuentra las marcas, asume que el texto ya es JSON puro\n",
    "        return texto.strip()\n",
    "\n",
    "# Convertimos cada string JSON en un diccionario y creamos un DataFrame\n",
    "lista_reclamaciones = []\n",
    "for rec in reclamaciones:\n",
    "    rec_limpio = extraer_json(rec)\n",
    "    try:\n",
    "        diccionario = json.loads(rec_limpio)\n",
    "        lista_reclamaciones.append(diccionario)\n",
    "    except json.JSONDecodeError as e:\n",
    "        print(\"Error al decodificar JSON:\", e)\n",
    "        print(\"Contenido problemático:\", rec_limpio)\n",
    "\n",
    "df_reclamaciones = pd.DataFrame(lista_reclamaciones)\n",
    "\n",
    "print(\"\\nDataFrame de reclamaciones:\")\n",
    "display(df_reclamaciones)"
   ]
  },
  {
   "cell_type": "markdown",
   "metadata": {
    "id": "FHkED9Lv1PMm"
   },
   "source": [
    "##### - ¿Observas alguna tendencia o patrón en los datos generados?\n",
    "##### - ¿Cómo podrían ayudar los metadatos (producto, canal, urgencia) a realizar un análisis de sentimiento?"
   ]
  },
  {
   "cell_type": "markdown",
   "metadata": {
    "id": "j6BBG4M41PMm"
   },
   "source": [
    "##### Análisis de sentimiento\n",
    "\n",
    "Una vez hemos generado un dataset, podemos analizar el sentimiento (positivo, neutral, negativo) de las frases para añadirlo como información en el dataframe. Primero, definimos la función y el prompt engineering"
   ]
  },
  {
   "cell_type": "code",
   "execution_count": null,
   "metadata": {
    "id": "eWr7u0Q61PMm"
   },
   "outputs": [],
   "source": [
    "def analizar_sentimiento_api(texto: str) -> str:\n",
    "    \"\"\"\n",
    "    Analiza el sentimiento del texto proporcionado utilizando Azure OpenAI.\n",
    "\n",
    "    Args:\n",
    "        texto (str): Texto a analizar.\n",
    "\n",
    "    Returns:\n",
    "        str: Sentimiento identificado (\"Positivo\", \"Neutral\" o \"Negativo\").\n",
    "    \"\"\"\n",
    "    prompt_sentimiento = (\n",
    "        \"Analiza el siguiente texto y determina su sentimiento. \"\n",
    "        \"Responde únicamente con una de las siguientes etiquetas: Positivo, Neutral, Negativo.\\n\\n\"\n",
    "        f\"Texto: {texto}\"\n",
    "    )\n",
    "    completion = client.chat.completions.create(\n",
    "        model=\"gpt-4o\",  # Reemplaza con el nombre de tu despliegue en Azure (por ejemplo, \"gpt-35-instant\")\n",
    "        messages=[{\"role\": \"user\", \"content\": prompt_sentimiento}],\n",
    "        temperature=0.1,  # Menor aleatoriedad para respuestas consistentes\n",
    "        max_tokens=20,    # Queremos una respuesta directa, así que limitamos el máximo de tokens\n",
    "    )\n",
    "    sentimiento = completion.choices[0].message.content.strip()\n",
    "    return sentimiento"
   ]
  },
  {
   "cell_type": "markdown",
   "metadata": {
    "id": "79jsqem-1PMm"
   },
   "source": [
    "##### Aplicamos el análisis de sentimiento a cada reclamación utilizando la descripción y almacenamos el resultado en una nueva columna 'sentimiento_api"
   ]
  },
  {
   "cell_type": "code",
   "execution_count": null,
   "metadata": {
    "id": "siZv9S5R1PMm"
   },
   "outputs": [],
   "source": [
    "sentimientos = []\n",
    "for desc in df_reclamaciones['descripcion']:\n",
    "    sentimiento = analizar_sentimiento_api(desc)\n",
    "    sentimientos.append(sentimiento)\n",
    "    time.sleep(1)  # Pausa para evitar rate limits\n",
    "\n",
    "df_reclamaciones['sentimiento_api'] = sentimientos\n",
    "\n",
    "print(\"\\nDataFrame con análisis de sentimiento vía API:\")\n",
    "print(df_reclamaciones)"
   ]
  },
  {
   "cell_type": "markdown",
   "metadata": {
    "id": "qUAbtl6R1PMm"
   },
   "source": [
    "##### - ¿Observas alguna tendencia o patrón en los datos generados y en el análisis de sentimiento obtenido?\n",
    "##### - ¿Qué diferencias encuentras entre este análisis de sentimiento basado en la API y métodos tradicionales (p.ej., TextBlob)?"
   ]
  }
 ],
 "metadata": {
  "colab": {
   "provenance": []
  },
  "kernelspec": {
   "display_name": "base",
   "language": "python",
   "name": "python3"
  },
  "language_info": {
   "codemirror_mode": {
    "name": "ipython",
    "version": 3
   },
   "file_extension": ".py",
   "mimetype": "text/x-python",
   "name": "python",
   "nbconvert_exporter": "python",
   "pygments_lexer": "ipython3",
   "version": "3.13.2"
  }
 },
 "nbformat": 4,
 "nbformat_minor": 0
}
