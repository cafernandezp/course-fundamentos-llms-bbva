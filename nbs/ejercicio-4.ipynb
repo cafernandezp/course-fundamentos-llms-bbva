{
 "cells": [
  {
   "cell_type": "markdown",
   "metadata": {
    "id": "p3_ewKCQEbdH"
   },
   "source": [
    "## Ejercicio 4: Convertir datos financieros estructurados en un informe narrativo\n",
    "\n",
    "Partiendo de un dataframe con datos financieros, usaremos la API de OpenAI para generar un reporte en lenguaje natural"
   ]
  },
  {
   "cell_type": "code",
   "execution_count": null,
   "metadata": {
    "colab": {
     "base_uri": "https://localhost:8080/"
    },
    "executionInfo": {
     "elapsed": 983,
     "status": "ok",
     "timestamp": 1753807488439,
     "user": {
      "displayName": "SEBASTIAN BUCIO PACHECO",
      "userId": "02581648315156863012"
     },
     "user_tz": 360
    },
    "id": "Fh4Yq3TlEh0c",
    "outputId": "9de1efae-100c-460b-b88e-76ded2390498"
   },
   "outputs": [],
   "source": [
    "from google.colab import userdata\n",
    "OPENAI_API_KEY = userdata.get('OPENAI_API_KEY')\n",
    "API_VERSION = userdata.get('OPENAI_API_VERSION')\n",
    "AZURE_ENDPOINT = userdata.get('AZURE_OPENAI_ENDPOINT')\n",
    "\n",
    "print(type(OPENAI_API_KEY),OPENAI_API_KEY)\n",
    "print(type(API_VERSION),API_VERSION)\n",
    "print(type(AZURE_ENDPOINT),AZURE_ENDPOINT)"
   ]
  },
  {
   "cell_type": "code",
   "execution_count": null,
   "metadata": {
    "executionInfo": {
     "elapsed": 5419,
     "status": "ok",
     "timestamp": 1753807498335,
     "user": {
      "displayName": "SEBASTIAN BUCIO PACHECO",
      "userId": "02581648315156863012"
     },
     "user_tz": 360
    },
    "id": "5OP5JcaNEbdI"
   },
   "outputs": [],
   "source": [
    "import pandas as pd\n",
    "import numpy as np\n",
    "from openai import AzureOpenAI\n",
    "import json"
   ]
  },
  {
   "cell_type": "markdown",
   "metadata": {
    "id": "07yrBMtTEbdI"
   },
   "source": [
    "##### Establecemos el valor de la API key de OpenAI. En una aplicación real, no podemos exponer esta API key en el código, y la cogeríamos con una variable de entorno mediante un os.getenv()"
   ]
  },
  {
   "cell_type": "code",
   "execution_count": null,
   "metadata": {
    "colab": {
     "base_uri": "https://localhost:8080/"
    },
    "executionInfo": {
     "elapsed": 35,
     "status": "ok",
     "timestamp": 1753807574542,
     "user": {
      "displayName": "SEBASTIAN BUCIO PACHECO",
      "userId": "02581648315156863012"
     },
     "user_tz": 360
    },
    "id": "KSoxn41hEbdJ",
    "outputId": "d501ea9c-1b91-4348-d32e-8936f388f6f5"
   },
   "outputs": [],
   "source": [
    "np.random.seed(42)\n",
    "num_filas = 100  # Número de registros\n",
    "\n",
    "# Generamos fechas aleatorias entre el 01/01/2023 y el 31/12/2024\n",
    "fechas = pd.to_datetime(\n",
    "    np.random.choice(pd.date_range(\"2023-01-01\", \"2024-12-31\"), size=num_filas)\n",
    ")\n",
    "\n",
    "# Generamos datos simulados\n",
    "ingresos = np.random.randint(100000, 500000, size=num_filas)\n",
    "gastos = np.random.randint(80000, 400000, size=num_filas)\n",
    "balance = ingresos - gastos\n",
    "numero_clientes = np.random.randint(1000, 10000, size=num_filas)\n",
    "costos_operativos = np.random.randint(50000, 150000, size=num_filas)\n",
    "\n",
    "# Creamos el DataFrame\n",
    "df_financiero = pd.DataFrame({\n",
    "    \"Fecha\": fechas,\n",
    "    \"Ingresos\": ingresos,\n",
    "    \"Gastos\": gastos,\n",
    "    \"Balance\": balance,\n",
    "    \"Numero_de_clientes\": numero_clientes,\n",
    "    \"Costos_operativos\": costos_operativos\n",
    "})\n",
    "\n",
    "df_financiero = df_financiero.sort_values(\"Fecha\").reset_index(drop=True)\n",
    "\n",
    "# Guardamos el DataFrame en un archivo CSV\n",
    "df_financiero.to_csv(\"financial_data.csv\", index=False, encoding=\"utf-8\")\n",
    "print(\"Archivo 'financial_data.csv' generado exitosamente.\\n\")"
   ]
  },
  {
   "cell_type": "markdown",
   "metadata": {
    "id": "tVYfyxjKEbdJ"
   },
   "source": [
    "##### Leemos el csv como dataframe de pandas, y lo convertimos en json"
   ]
  },
  {
   "cell_type": "code",
   "execution_count": null,
   "metadata": {
    "colab": {
     "base_uri": "https://localhost:8080/",
     "height": 243
    },
    "executionInfo": {
     "elapsed": 78,
     "status": "ok",
     "timestamp": 1753807601346,
     "user": {
      "displayName": "SEBASTIAN BUCIO PACHECO",
      "userId": "02581648315156863012"
     },
     "user_tz": 360
    },
    "id": "4O439RnkEbdJ",
    "outputId": "c117897d-3858-44ef-ac23-57eae1a52148"
   },
   "outputs": [],
   "source": [
    "df_report = pd.read_csv(\"financial_data.csv\", parse_dates=[\"Fecha\"])\n",
    "display(df_report.head())\n",
    "\n",
    "datos_json = df_report.to_json(orient=\"records\", date_format=\"iso\", force_ascii=False)\n",
    "print(datos_json)"
   ]
  },
  {
   "cell_type": "markdown",
   "metadata": {
    "id": "r-sQ8RsZEbdK"
   },
   "source": [
    "##### Definimos el prompt"
   ]
  },
  {
   "cell_type": "code",
   "execution_count": null,
   "metadata": {
    "executionInfo": {
     "elapsed": 10,
     "status": "ok",
     "timestamp": 1753807692279,
     "user": {
      "displayName": "SEBASTIAN BUCIO PACHECO",
      "userId": "02581648315156863012"
     },
     "user_tz": 360
    },
    "id": "1dazBWxDEbdK"
   },
   "outputs": [],
   "source": [
    "prompt_informe = (\n",
    "    \"Eres un analista financiero con amplia experiencia en la elaboración de informes detallados. \"\n",
    "    \"A partir de los siguientes datos financieros, debes generar un informe narrativo extenso que contenga las siguientes secciones:\\n\\n\"\n",
    "    \"1. **Resumen Ejecutivo:** Resume la situación general y las tendencias globales observadas en los datos. \"\n",
    "    \"Destaca los periodos de mayor rendimiento y las áreas de oportunidad.\\n\\n\"\n",
    "    \"2. **Análisis de Ingresos y Gastos:** Describe en detalle cómo varían los ingresos y gastos a lo largo del tiempo. \"\n",
    "    \"Identifica periodos con altas discrepancias y analiza posibles causas de dichas variaciones.\\n\\n\"\n",
    "    \"3. **Evaluación del Balance:** Explica la evolución del balance resultante de la diferencia entre ingresos y gastos. \"\n",
    "    \"Relaciona estos cambios con el comportamiento de los otros indicadores.\\n\\n\"\n",
    "    \"4. **Impacto en la Base de Clientes:** Analiza cómo el número de clientes podría influir en los resultados financieros. \"\n",
    "    \"Comenta sobre la posible relación entre el crecimiento o decrecimiento de clientes y el rendimiento financiero.\\n\\n\"\n",
    "    \"5. **Costos Operativos y Eficiencia:** Examina los costos operativos y su impacto en la eficiencia global del banco. \"\n",
    "    \"Incluye observaciones sobre la optimización de procesos y la reducción de gastos innecesarios.\\n\\n\"\n",
    "    \"6. **Conclusiones y Recomendaciones:** Concluye el informe con un resumen de los hallazgos y proporciona recomendaciones \"\n",
    "    \"estratégicas basadas en el análisis realizado.\\n\\n\"\n",
    "    \"Utiliza un lenguaje técnico pero claro, adecuado para un público de profesionales financieros. \"\n",
    "    \"Asegúrate de que el informe sea coherente, estructurado y que cada sección se conecte lógicamente con la siguiente.\\n\\n\"\n",
    "    \"A continuación, se presentan los datos financieros en formato JSON:\\n\"\n",
    "    f\"{datos_json}\\n\\n\"\n",
    "    \"Informe narrativo:\"\n",
    ")"
   ]
  },
  {
   "cell_type": "markdown",
   "metadata": {
    "id": "-GPMQy91EbdK"
   },
   "source": [
    "##### Creamos el informe"
   ]
  },
  {
   "cell_type": "code",
   "execution_count": null,
   "metadata": {
    "colab": {
     "base_uri": "https://localhost:8080/",
     "height": 1000
    },
    "executionInfo": {
     "elapsed": 18171,
     "status": "ok",
     "timestamp": 1753807926504,
     "user": {
      "displayName": "SEBASTIAN BUCIO PACHECO",
      "userId": "02581648315156863012"
     },
     "user_tz": 360
    },
    "id": "pwV3po9AEbdL",
    "outputId": "32c96fd9-aa20-4ac3-c4a6-87624224a869"
   },
   "outputs": [],
   "source": [
    "from IPython.display import Markdown\n",
    "\n",
    "client = AzureOpenAI(\n",
    "            api_key = OPENAI_API_KEY,\n",
    "            api_version=API_VERSION,\n",
    "            azure_endpoint= AZURE_ENDPOINT# Este endpoint corresponde a la región france-central\n",
    ")\n",
    "\n",
    "response = client.chat.completions.create(\n",
    "        model=\"gpt-4o\",\n",
    "        messages=[{\"role\": \"user\", \"content\": prompt_informe}],\n",
    "        temperature=0.5,\n",
    "        max_tokens=2000,\n",
    "    )\n",
    "\n",
    "informe_narrativo = response.choices[0].message.content.strip()\n",
    "print(\"Informe narrativo generado:\\n\")\n",
    "display(Markdown(informe_narrativo))\n",
    "#si no funciona, descomentar esta línea:\n",
    "#print(informe_narrativo)"
   ]
  },
  {
   "cell_type": "markdown",
   "metadata": {
    "id": "TedWayY7EbdL"
   },
   "source": [
    "### Podemos ver también el coste que ha tenido la llamada"
   ]
  },
  {
   "cell_type": "code",
   "execution_count": null,
   "metadata": {
    "colab": {
     "base_uri": "https://localhost:8080/"
    },
    "executionInfo": {
     "elapsed": 3,
     "status": "ok",
     "timestamp": 1753808053651,
     "user": {
      "displayName": "SEBASTIAN BUCIO PACHECO",
      "userId": "02581648315156863012"
     },
     "user_tz": 360
    },
    "id": "n0FjwcL2EbdL",
    "outputId": "2b39a93e-ed57-4e27-a230-c399704e525d"
   },
   "outputs": [],
   "source": [
    "response"
   ]
  },
  {
   "cell_type": "code",
   "execution_count": null,
   "metadata": {
    "executionInfo": {
     "elapsed": 5,
     "status": "ok",
     "timestamp": 1753808237859,
     "user": {
      "displayName": "SEBASTIAN BUCIO PACHECO",
      "userId": "02581648315156863012"
     },
     "user_tz": 360
    },
    "id": "gHcxhENsEbdL"
   },
   "outputs": [],
   "source": [
    "def calcular_coste_uso_api(response, modelo: str) -> dict:\n",
    "    \"\"\"\n",
    "    Calcula el costo de uso de la API de Azure OpenAI basado en los tokens usados,\n",
    "    separando el coste del input (prompt) y del output (completion).\n",
    "\n",
    "    Para el modelo \"gpt-4o\":\n",
    "      - Input: 2.50 $ por millón de tokens.\n",
    "      - Output: 10.00 $ por millón de tokens.\n",
    "    (Referencia: https://openai.com/api/pricing/)\n",
    "\n",
    "    Args:\n",
    "        response: Objeto de respuesta de la API que contiene el atributo 'usage'.\n",
    "        modelo (str): Nombre del modelo utilizado (ej: \"gpt-4o-mini\").\n",
    "\n",
    "    Returns:\n",
    "        dict: Diccionario con los costos calculados para entrada, salida y el total.\n",
    "    \"\"\"\n",
    "    #Definimos los precios para el modelo gpt-4o\n",
    "    if \"gpt-4o\" in modelo:\n",
    "        coste_prompt_millon = 2.50 # $ por 1,000,000 tokens de entrada\n",
    "        coste_completion_millon = 10.00  # $ por 1,000,000 tokens de salida\n",
    "    else:\n",
    "        print(\"Modelo no reconocido.\")\n",
    "        return {}\n",
    "\n",
    "    #Extraemos los tokens usados del atributo 'usage' del objeto de respuesta (se podría devolver también en el return si se desea)\n",
    "    prompt_tokens = response.usage.prompt_tokens\n",
    "    completion_tokens = response.usage.completion_tokens\n",
    "\n",
    "    #Calculamos el coste para cada parte (teniendo en cuenta que el precio es por millón de tokens)\n",
    "    coste_prompt = (prompt_tokens / 1000000) * coste_prompt_millon\n",
    "    coste_completion = (completion_tokens / 1000000) * coste_completion_millon\n",
    "    coste_total = coste_prompt + coste_completion\n",
    "\n",
    "    return {\n",
    "        \"coste_prompt\": coste_prompt,\n",
    "        \"coste_completion\": coste_completion,\n",
    "        \"coste_total\": coste_total\n",
    "    }\n",
    "\n",
    "# Ejemplo de uso con un objeto de respuesta simulado similar al que describes:\n",
    "class Usage:\n",
    "    def __init__(self, prompt_tokens, completion_tokens):\n",
    "        self.prompt_tokens = prompt_tokens\n",
    "        self.completion_tokens = completion_tokens\n",
    "\n",
    "class ChatCompletion:\n",
    "    def __init__(self, usage):\n",
    "        self.usage = usage"
   ]
  },
  {
   "cell_type": "code",
   "execution_count": null,
   "metadata": {
    "colab": {
     "base_uri": "https://localhost:8080/"
    },
    "executionInfo": {
     "elapsed": 9,
     "status": "ok",
     "timestamp": 1753808264362,
     "user": {
      "displayName": "SEBASTIAN BUCIO PACHECO",
      "userId": "02581648315156863012"
     },
     "user_tz": 360
    },
    "id": "BUvo99h5EbdL",
    "outputId": "eed76cfc-857c-44e9-db77-fb710f52714f"
   },
   "outputs": [],
   "source": [
    "model = \"gpt-4o\"\n",
    "cost = calcular_coste_uso_api(response, model)\n",
    "\n",
    "print(f\"Coste de tokens de entrada (prompt): ${cost['coste_prompt']:.6f}\")\n",
    "print(f\"Coste de tokens de salida (completion): ${cost['coste_completion']:.6f}\")\n",
    "print(f\"Coste total: ${cost['coste_total']:.6f}\")"
   ]
  },
  {
   "cell_type": "markdown",
   "metadata": {
    "id": "s8Iwt4fbEbdL"
   },
   "source": [
    "##### - ¿Cómo afecta la estructura del prompt al nivel de detalle y coherencia del informe narrativo generado?\n",
    "##### - ¿Qué mejoras o ajustes sugerirías para obtener un informe aún más preciso o enfocado en ciertos aspectos?"
   ]
  }
 ],
 "metadata": {
  "colab": {
   "provenance": []
  },
  "kernelspec": {
   "display_name": "base",
   "language": "python",
   "name": "python3"
  },
  "language_info": {
   "codemirror_mode": {
    "name": "ipython",
    "version": 3
   },
   "file_extension": ".py",
   "mimetype": "text/x-python",
   "name": "python",
   "nbconvert_exporter": "python",
   "pygments_lexer": "ipython3",
   "version": "3.12.7"
  }
 },
 "nbformat": 4,
 "nbformat_minor": 0
}
