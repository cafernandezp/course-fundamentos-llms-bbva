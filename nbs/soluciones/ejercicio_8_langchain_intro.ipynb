{
  "cells": [
    {
      "cell_type": "markdown",
      "metadata": {
        "id": "J5WLhsu8WN3K"
      },
      "source": [
        "## Ejercicio 8: Langchain\n",
        "En este ejercicio, vemos un par de ejemplos con LangChain. Primero, refinaremos un prompt, y después lo usaremos para crear un resumen"
      ]
    },
    {
      "cell_type": "code",
      "execution_count": 25,
      "metadata": {
        "id": "2ibt4exKXpyC"
      },
      "outputs": [],
      "source": [
        "from google.colab import userdata\n",
        "OPENAI_API_KEY = userdata.get('OPENAI_API_KEY')\n",
        "API_VERSION = userdata.get('OPENAI_API_VERSION')\n",
        "AZURE_ENDPOINT = userdata.get('AZURE_OPENAI_ENDPOINT')\n",
        "\n",
        "#print(type(OPENAI_API_KEY),OPENAI_API_KEY)\n",
        "#print(type(API_VERSION),API_VERSION)\n",
        "#print(type(AZURE_ENDPOINT),AZURE_ENDPOINT)"
      ]
    },
    {
      "cell_type": "code",
      "execution_count": 26,
      "metadata": {
        "id": "LRhjVGwNWN3L"
      },
      "outputs": [],
      "source": [
        "import os"
      ]
    },
    {
      "cell_type": "markdown",
      "metadata": {
        "id": "aPnYpbdeWN3M"
      },
      "source": [
        "##### Establecemos el valor de la API key de OpenAI. En una aplicación real, no podemos exponer esta API key en el código, y la cogeríamos con una variable de entorno mediante un os.getenv()"
      ]
    },
    {
      "cell_type": "markdown",
      "metadata": {
        "id": "LOhVvNJUWN3M"
      },
      "source": [
        "##### Importamos langchain\n",
        "Si no está instalado, descomenta la próxima línea"
      ]
    },
    {
      "cell_type": "code",
      "execution_count": 27,
      "metadata": {
        "id": "hMkKwZy9WN3N"
      },
      "outputs": [],
      "source": [
        "!pip -q install langchain\n",
        "!pip -q install langchain-openai"
      ]
    },
    {
      "cell_type": "markdown",
      "metadata": {
        "id": "gAZMTDBDWN3N"
      },
      "source": [
        "##### Primero, definimos dos LLMs, uno para refinar un prompt (tarea creativa) y el segundo para utilizar dicho prompt (tarea poco creativa)"
      ]
    },
    {
      "cell_type": "code",
      "execution_count": 28,
      "metadata": {
        "id": "IbKLRzXGWN3N"
      },
      "outputs": [],
      "source": [
        "from langchain import PromptTemplate, LLMChain\n",
        "from langchain_openai import AzureChatOpenAI\n",
        "\n",
        "os.environ[\"AZURE_OPENAI_ENDPOINT\"] = AZURE_ENDPOINT\n",
        "\n",
        "\n",
        "#Modelo para mejorar el prompt\n",
        "llm_refine = AzureChatOpenAI(azure_deployment=\"gpt-4o\",\n",
        "    api_key = OPENAI_API_KEY,\n",
        "    api_version=API_VERSION,\n",
        "    temperature=0.7,\n",
        "    max_tokens=None,\n",
        "    timeout=None,\n",
        "    max_retries=2,)\n",
        "\n",
        "#Modelo para resumir informacion\n",
        "llm_summary = AzureChatOpenAI(azure_deployment=\"gpt-4o\",\n",
        "    api_key = OPENAI_API_KEY,\n",
        "    api_version=API_VERSION,\n",
        "    temperature=0.1,\n",
        "    max_tokens=None,\n",
        "    timeout=None,\n",
        "    max_retries=2,)\n",
        "\n",
        "\n",
        "#Menos temperatura en el resumidor de informacion porque quiero que sea lo mas pegado a la realidad"
      ]
    },
    {
      "cell_type": "markdown",
      "metadata": {
        "id": "UGE3UxjMWN3N"
      },
      "source": [
        "##### Definimos un prompt base para generar resúmenes, y su versión para ser refinado"
      ]
    },
    {
      "cell_type": "code",
      "execution_count": 29,
      "metadata": {
        "id": "HNhBwUXrWN3N"
      },
      "outputs": [],
      "source": [
        "#Resumir informacion\n",
        "base_summary_prompt = \"\"\"\n",
        "Eres un asistente experto en síntesis de información.\n",
        "Tu tarea es leer el siguiente texto y generar un resumen que destaque las ideas principales.\n",
        "Asegúrate de:\n",
        "- Identificar los puntos clave.\n",
        "- Omitir detalles secundarios.\n",
        "- Mantener la coherencia y cohesión en el resumen.\n",
        "\n",
        "Texto:\n",
        "{text}\n",
        "\n",
        "Resumen:\"\"\"\n",
        "\n",
        "\n",
        "#Refinar prompts\n",
        "refinement_template = \"\"\"\n",
        "Eres un experto en ingeniería de prompts.\n",
        "Reformula, mejora y amplía con mucho más detalle el siguiente prompt de resumen para que sea más claro, específico y efectivo. El texto a resumir será del dominio de las finanzas y banca:\n",
        "Prompt original:\n",
        "{base_prompt}\n",
        "\n",
        "Devuelve UNICAMENTE el prompt refinado, sin más texto antes o después.\n",
        "\n",
        "Prompt refinado:\n",
        "\"\"\""
      ]
    },
    {
      "cell_type": "markdown",
      "metadata": {
        "id": "JQkPB7HwWN3O"
      },
      "source": [
        "##### Ahora usamos el módulo PromptTemplate de Langchain, y LLMChain para usar programáticamente dicho template con el LLM que hemos definido antes\n",
        "\n",
        "Hasta que no ejecutamos el comando \"run\", no está llamando al LLM, solo definiendo las instrucciones (como en Spark)"
      ]
    },
    {
      "cell_type": "code",
      "execution_count": 30,
      "metadata": {
        "id": "FK5h4QGXWN3O",
        "colab": {
          "base_uri": "https://localhost:8080/",
          "height": 424
        },
        "collapsed": true,
        "outputId": "7a476b06-aa1f-4474-e615-84d2656b6e31"
      },
      "outputs": [
        {
          "output_type": "stream",
          "name": "stdout",
          "text": [
            "Prompt refinado:\n",
            "\n"
          ]
        },
        {
          "output_type": "display_data",
          "data": {
            "text/plain": [
              "<IPython.core.display.Markdown object>"
            ],
            "text/markdown": "Eres un asistente especializado en la síntesis avanzada de información, con un enfoque particular en el dominio de las finanzas y la banca. Tu tarea consiste en analizar el texto proporcionado y elaborar un resumen claro, preciso y bien estructurado que capture las ideas centrales del contenido. Asegúrate de seguir estas instrucciones:\n\n1. **Identificación de puntos clave**: Extrae las ideas principales, conceptos relevantes, datos importantes, y conclusiones críticas presentadas en el texto. Enfócate en los aspectos más significativos relacionados con finanzas, banca, tendencias, estadísticas, estrategias o implicaciones económicas.\n\n2. **Eliminación de detalles secundarios**: Omite información redundante, ejemplos extensos, anécdotas o detalles que no contribuyan directamente al entendimiento del núcleo del texto.\n\n3. **Claridad y estructura**: Redacta el resumen de forma clara y en un lenguaje accesible, manteniendo la coherencia entre las ideas y el flujo lógico del contenido. Utiliza párrafos organizados y frases completas para garantizar que el resumen sea comprensible y profesional.\n\n4. **Tono profesional y objetivo**: Adopta un estilo objetivo, neutral y profesional adecuado para audiencias interesadas en el ámbito financiero. Evita juicios subjetivos o interpretaciones personales.\n\n5. **Longitud adecuada**: Asegúrate de que el resumen sea lo suficientemente breve para ser conciso, pero lo suficientemente extenso para no omitir información crucial. Apunta a una extensión de 3 a 5 oraciones por cada idea principal identificada.\n\n6. **Formato claro**: Si hay múltiples puntos clave, organiza el resumen utilizando viñetas o enumeraciones para facilitar su lectura, salvo que se indique lo contrario.\n\nTexto para analizar:\n{text}\n\nResumen:"
          },
          "metadata": {}
        }
      ],
      "source": [
        "from IPython.display import Markdown\n",
        "import warnings\n",
        "warnings.filterwarnings(\"ignore\", category=DeprecationWarning, module=\"langchain.*\")\n",
        "\n",
        "\n",
        "#PromptTemplate: Sirve para definir plantillas, esto reemplaza lo de\n",
        "refine_prompt_template = PromptTemplate(\n",
        "    template=refinement_template,\n",
        "    input_variables=[\"base_prompt\"]\n",
        ")\n",
        "\n",
        "# LLMChain: Permite incrustar el modelo LLM que queremos, y pegarle el prompt\n",
        "refine_chain = LLMChain(llm=llm_refine, prompt=refine_prompt_template)\n",
        "\n",
        "refined_prompt = refine_chain.run(base_prompt=base_summary_prompt)\n",
        "print(\"Prompt refinado:\\n\")\n",
        "display(Markdown(refined_prompt))\n"
      ]
    },
    {
      "cell_type": "code",
      "execution_count": 31,
      "metadata": {
        "colab": {
          "base_uri": "https://localhost:8080/"
        },
        "id": "ZgAiN_D97UV8",
        "outputId": "1c116bdb-5f0d-400c-bc37-15f36c3d46c0"
      },
      "outputs": [
        {
          "output_type": "stream",
          "name": "stdout",
          "text": [
            "input_variables=['base_prompt'] input_types={} partial_variables={} template='\\nEres un experto en ingeniería de prompts.\\nReformula, mejora y amplía con mucho más detalle el siguiente prompt de resumen para que sea más claro, específico y efectivo. El texto a resumir será del dominio de las finanzas y banca:\\nPrompt original:\\n{base_prompt}\\n\\nDevuelve UNICAMENTE el prompt refinado, sin más texto antes o después.\\n\\nPrompt refinado:\\n'\n"
          ]
        }
      ],
      "source": [
        "print(refine_prompt_template)"
      ]
    },
    {
      "cell_type": "code",
      "execution_count": 32,
      "metadata": {
        "id": "cOHsUQLXZU4I",
        "colab": {
          "base_uri": "https://localhost:8080/",
          "height": 441
        },
        "outputId": "f80a9e93-e359-42eb-9a04-f0347d86c19f"
      },
      "outputs": [
        {
          "output_type": "stream",
          "name": "stdout",
          "text": [
            "Prompt refinado:\n",
            "\n"
          ]
        },
        {
          "output_type": "display_data",
          "data": {
            "text/plain": [
              "<IPython.core.display.Markdown object>"
            ],
            "text/markdown": "Eres un asistente experto en análisis y síntesis de información financiera, con una habilidad avanzada para identificar y estructurar conceptos clave. Tu tarea es analizar el siguiente texto relacionado con el dominio de las finanzas y la banca y generar un resumen claro, preciso y bien estructurado que cumpla con los siguientes requisitos:\n\n1. **Identificación de ideas principales**: Extrae y organiza los puntos clave, como conceptos financieros, métricas, tendencias, implicaciones económicas, estrategias bancarias, regulaciones o cualquier información central al tema tratado.\n2. **Claridad y precisión**: Redacta el resumen utilizando un lenguaje claro y profesional, optimizado para un lector familiarizado con el ámbito financiero, pero que busca una visión general concisa y comprensible.\n3. **Exclusión de detalles secundarios**: Omite información redundante, ejemplos extensos, explicaciones triviales o cualquier dato que no contribuya directamente a la comprensión de los elementos fundamentales del texto.\n4. **Estructura lógica y cohesión**: Organiza el resumen en un formato fluido y coherente, asegurándote de que las ideas estén conectadas de manera lógica y se presenten en el orden que mejor facilite la comprensión del tema.\n5. **Neutralidad y objetividad**: Mantén un tono imparcial y profesional, evitando opiniones o interpretaciones personales.\n\n**Adicionalmente:**\n- Si el texto incluye términos técnicos, defínelos brevemente si son esenciales para entender el contexto.\n- Si el texto menciona cifras, tendencias o estadísticas relevantes, inclúyelas solo si son esenciales para respaldar las ideas principales.\n- Si el texto aborda un problema o desafío, resume las posibles soluciones o implicaciones descritas.\n\nTexto a analizar:  \n{text}  \n\nResumen:  "
          },
          "metadata": {}
        }
      ],
      "source": [
        "from IPython.display import Markdown\n",
        "import warnings\n",
        "warnings.filterwarnings(\"ignore\", category=DeprecationWarning, module=\"langchain.*\")\n",
        "\n",
        "\n",
        "# Crear el prompt template\n",
        "refine_prompt_template = PromptTemplate(\n",
        "   template=refinement_template,\n",
        "   input_variables=[\"base_prompt\"]\n",
        ")\n",
        "\n",
        "\n",
        "# Crear la cadena LLM con tu modelo\n",
        "refine_chain = LLMChain(llm=llm_refine, prompt=refine_prompt_template)\n",
        "\n",
        "\n",
        "# Ejecutar correctamente con invoke (nuevo estándar porque en versiones anteriores run() esta deprecado)\n",
        "refined_prompt = refine_chain.invoke({\"base_prompt\": base_summary_prompt})\n",
        "\n",
        "\n",
        "# Inspeccionar o extraer resultado (ajusta si la clave es diferente)\n",
        "refined_prompt_str = refined_prompt[\"text\"] if \"text\" in refined_prompt else refined_prompt[\"base_prompt\"]\n",
        "\n",
        "\n",
        "# Mostrar el resultado con estilo Markdown\n",
        "print(\"Prompt refinado:\\n\")\n",
        "display(Markdown(refined_prompt_str))\n"
      ]
    },
    {
      "cell_type": "markdown",
      "metadata": {
        "id": "-Y6U84sfWN3O"
      },
      "source": [
        "##### Ahora, creamos la cadena de resumen usando el prompt refinado"
      ]
    },
    {
      "cell_type": "code",
      "source": [
        "print(refined_prompt)"
      ],
      "metadata": {
        "colab": {
          "base_uri": "https://localhost:8080/"
        },
        "id": "G_rArzBaBG3Y",
        "outputId": "955f516c-60b4-441e-ac8d-35e0a9bbb681"
      },
      "execution_count": 33,
      "outputs": [
        {
          "output_type": "stream",
          "name": "stdout",
          "text": [
            "{'base_prompt': '\\nEres un asistente experto en síntesis de información.\\nTu tarea es leer el siguiente texto y generar un resumen que destaque las ideas principales.\\nAsegúrate de:\\n- Identificar los puntos clave.\\n- Omitir detalles secundarios.\\n- Mantener la coherencia y cohesión en el resumen.\\n\\nTexto:\\n{text}\\n\\nResumen:', 'text': 'Eres un asistente experto en análisis y síntesis de información financiera, con una habilidad avanzada para identificar y estructurar conceptos clave. Tu tarea es analizar el siguiente texto relacionado con el dominio de las finanzas y la banca y generar un resumen claro, preciso y bien estructurado que cumpla con los siguientes requisitos:\\n\\n1. **Identificación de ideas principales**: Extrae y organiza los puntos clave, como conceptos financieros, métricas, tendencias, implicaciones económicas, estrategias bancarias, regulaciones o cualquier información central al tema tratado.\\n2. **Claridad y precisión**: Redacta el resumen utilizando un lenguaje claro y profesional, optimizado para un lector familiarizado con el ámbito financiero, pero que busca una visión general concisa y comprensible.\\n3. **Exclusión de detalles secundarios**: Omite información redundante, ejemplos extensos, explicaciones triviales o cualquier dato que no contribuya directamente a la comprensión de los elementos fundamentales del texto.\\n4. **Estructura lógica y cohesión**: Organiza el resumen en un formato fluido y coherente, asegurándote de que las ideas estén conectadas de manera lógica y se presenten en el orden que mejor facilite la comprensión del tema.\\n5. **Neutralidad y objetividad**: Mantén un tono imparcial y profesional, evitando opiniones o interpretaciones personales.\\n\\n**Adicionalmente:**\\n- Si el texto incluye términos técnicos, defínelos brevemente si son esenciales para entender el contexto.\\n- Si el texto menciona cifras, tendencias o estadísticas relevantes, inclúyelas solo si son esenciales para respaldar las ideas principales.\\n- Si el texto aborda un problema o desafío, resume las posibles soluciones o implicaciones descritas.\\n\\nTexto a analizar:  \\n{text}  \\n\\nResumen:  '}\n"
          ]
        }
      ]
    },
    {
      "cell_type": "code",
      "execution_count": 34,
      "metadata": {
        "id": "nFT1wFHDWN3O",
        "colab": {
          "base_uri": "https://localhost:8080/",
          "height": 886
        },
        "outputId": "d56cb162-d98e-4453-fa36-69571681b961"
      },
      "outputs": [
        {
          "output_type": "stream",
          "name": "stdout",
          "text": [
            "\n",
            "Resumen generado:\n",
            "\n"
          ]
        },
        {
          "output_type": "display_data",
          "data": {
            "text/plain": [
              "<IPython.core.display.Markdown object>"
            ],
            "text/markdown": "**Resumen del Informe Financiero del Grupo BBVA – Perspectiva 2024**\n\n**1. Desempeño General y Estrategias Clave**  \nEn 2024, BBVA consolidó su posición en el sector financiero global gracias a estrategias de diversificación de ingresos, digitalización y gestión proactiva del riesgo. Estos enfoques permitieron resultados sólidos en rentabilidad, eficiencia operativa y resiliencia, destacando su capacidad de adaptación en un entorno económico dinámico.\n\n---\n\n**2. Contexto Macroeconómico y Sectorial**  \n- **Inflación y Políticas Monetarias:** La desaceleración de la inflación en la zona euro permitió ajustes cautelosos en las políticas del BCE, manteniendo tasas de interés bajas que favorecieron el crédito, aunque con presión sobre márgenes financieros.  \n- **Crecimiento Económico:** Crecimiento global heterogéneo, con estabilidad en economías desarrolladas y expansión en mercados emergentes impulsada por innovación tecnológica.  \n- **Riesgos Geopolíticos:** Tensiones comerciales, conflictos regionales y la transición energética generaron volatilidad, condicionando estrategias de inversión y gestión de riesgos.\n\n---\n\n**3. Resultados Financieros**  \n- **Ingresos y Rentabilidad:** Incremento del 5.3% en ingresos operativos, impulsado por la expansión de la cartera crediticia, digitalización y nuevos productos financieros.  \n- **Gestión del Balance:** Sólida estructura con un ratio CET1 superior al 15% y un LCR mayor al 125%, garantizando solvencia y liquidez.  \n- **Calidad de la Cartera:** Tasa de morosidad reducida (1.7%) y provisiones adecuadas para créditos dudosos, respaldadas por análisis de riesgo más rigurosos.\n\n**Indicadores Clave:**  \n- ROE: 10.1%, ROA: 0.9%, Ratio de Eficiencia: 56.7%, Crecimiento de clientes digitales: +20%.\n\n---\n\n**4. Transformación Digital y Sostenibilidad**  \n- **Digitalización:** Inversiones en inteligencia artificial y big data mejoraron la personalización de servicios y optimizaron procesos.  \n- **Sostenibilidad:** Enfoque en iniciativas ESG, incluyendo financiación de proyectos sostenibles, economía circular y reducción de huella de carbono.\n\n---\n\n**5. Riesgos y Desafíos Emergentes**  \n- **Riesgo Crediticio:** Volatilidad en sectores específicos y mercados internacionales exige monitoreo continuo.  \n- **Riesgo Tecnológico:** Incremento en amenazas cibernéticas, mitigado mediante inversiones en ciberseguridad avanzada.  \n- **Impacto Regulatorio:** Adaptación a normativas más estrictas a nivel europeo y global.\n\n---\n\n**6. Perspectivas para 2025**  \nBBVA proyecta un crecimiento moderado de ingresos operativos (4%-6%), impulsado por la expansión crediticia, digitalización y diversificación de mercados. Las prioridades incluyen:  \n- Innovación tecnológica (IA y machine learning).  \n- Optimización operativa mediante automatización.  \n- Intensificación de políticas ESG, con énfasis en proyectos verdes y economía circular.  \n- Fortalecimiento del capital y gestión de riesgos para garantizar resiliencia ante escenarios adversos.\n\n---\n\n**7. Conclusión**  \nBBVA demostró en 2024 una sólida capacidad de adaptación, apoyada en la digitalización, diversificación de ingresos y gestión prudente del riesgo. Aunque enfrenta desafíos como la volatilidad de mercados y riesgos cibernéticos, su enfoque estratégico y compromiso con la sostenibilidad posicionan al banco como un actor clave en el sector financiero global, con perspectivas alentadoras para 2025."
          },
          "metadata": {}
        }
      ],
      "source": [
        "refined_summary_prompt_template = PromptTemplate(\n",
        "    template=refined_prompt_str,\n",
        "    input_variables=[\"text\"]\n",
        ")\n",
        "summary_chain = LLMChain(llm=llm_summary, prompt=refined_summary_prompt_template)\n",
        "\n",
        "with open(\"financial_report.txt\", \"r\", encoding=\"utf-8\") as f:\n",
        "    texto_extenso = f.read()\n",
        "\n",
        "resumen = summary_chain.run(text=texto_extenso)\n",
        "print(\"\\nResumen generado:\\n\")\n",
        "display(Markdown(resumen))"
      ]
    },
    {
      "cell_type": "code",
      "execution_count": 35,
      "metadata": {
        "id": "AudulQhaa1wf",
        "colab": {
          "base_uri": "https://localhost:8080/",
          "height": 359
        },
        "outputId": "34bb19cd-332c-40d6-ff12-2f9679157445"
      },
      "outputs": [
        {
          "output_type": "stream",
          "name": "stdout",
          "text": [
            "Prompt refinado:\n",
            "\n"
          ]
        },
        {
          "output_type": "display_data",
          "data": {
            "text/plain": [
              "<IPython.core.display.Markdown object>"
            ],
            "text/markdown": "Eres un asistente especializado en análisis y síntesis de información compleja, con enfoque en temas de finanzas y banca. Tu tarea consiste en leer detenidamente el texto proporcionado y elaborar un resumen claro, preciso y bien estructurado que capture las ideas principales y los conceptos clave del contenido. Asegúrate de seguir estas instrucciones de manera rigurosa:\n\n1. **Identificación de puntos clave**: Extrae y resalta las ideas centrales, términos técnicos relevantes, tendencias, estadísticas importantes, y cualquier conclusión crítica mencionada en el texto.\n2. **Omisión de detalles secundarios**: Excluye cualquier información redundante, ejemplos extensos, o datos que no sean esenciales para comprender el núcleo del mensaje.\n3. **Coherencia y cohesión**: Organiza el resumen de manera lógica y fluida, conectando las ideas principales con transiciones claras para garantizar que el contenido sea fácil de entender.\n4. **Contexto financiero específico**: Si el texto incluye términos especializados, conceptos técnicos o referencias específicas al sector financiero y bancario (por ejemplo: productos financieros, regulaciones, análisis de mercado, indicadores económicos, etc.), preserva su significado y precisión, explicando brevemente si es necesario para asegurar claridad.\n5. **Extensión adecuada**: Mantén el resumen breve pero suficientemente detallado para transmitir el mensaje principal sin omitir información crítica.\n\nTexto para analizar:\n{text}\n\nResumen:"
          },
          "metadata": {}
        }
      ],
      "source": [
        "from IPython.display import Markdown\n",
        "import warnings\n",
        "warnings.filterwarnings(\"ignore\", category=DeprecationWarning, module=\"langchain.*\")\n",
        "\n",
        "\n",
        "# Crear el prompt template\n",
        "refine_prompt_template = PromptTemplate(\n",
        "   template=refinement_template,\n",
        "   input_variables=[\"base_prompt\"]\n",
        ")\n",
        "\n",
        "\n",
        "# Crear la cadena LLM con tu modelo\n",
        "refine_chain = LLMChain(llm=llm_refine, prompt=refine_prompt_template)\n",
        "\n",
        "\n",
        "# Ejecutar correctamente con invoke (nuevo estándar porque en versiones anteriores run() esta deprecado)\n",
        "refined_prompt = refine_chain.invoke({\"base_prompt\": base_summary_prompt})\n",
        "\n",
        "\n",
        "# Inspeccionar o extraer resultado (ajusta si la clave es diferente)\n",
        "refined_prompt_str = refined_prompt[\"text\"] if \"text\" in refined_prompt else refined_prompt[\"base_prompt\"]\n",
        "\n",
        "\n",
        "# Mostrar el resultado con estilo Markdown\n",
        "print(\"Prompt refinado:\\n\")\n",
        "display(Markdown(refined_prompt_str))\n"
      ]
    },
    {
      "cell_type": "markdown",
      "metadata": {
        "id": "MuOrMlZWWN3O"
      },
      "source": [
        "- ¿Qué ventajas le ves a usar LangChain en vez de hacer todo a mano?\n",
        "- ¿Te gusta más este resumen o el que hemos hecho antes? ¿Y si cambiamos la temperatura o el modelo?"
      ]
    },
    {
      "cell_type": "code",
      "source": [
        "print(refined_prompt[\"text\"])"
      ],
      "metadata": {
        "colab": {
          "base_uri": "https://localhost:8080/"
        },
        "id": "uBqTTFsKBkxs",
        "outputId": "f6252ba5-a69c-47d4-d617-82087323db59"
      },
      "execution_count": 39,
      "outputs": [
        {
          "output_type": "stream",
          "name": "stdout",
          "text": [
            "Eres un asistente especializado en análisis y síntesis de información compleja, con enfoque en temas de finanzas y banca. Tu tarea consiste en leer detenidamente el texto proporcionado y elaborar un resumen claro, preciso y bien estructurado que capture las ideas principales y los conceptos clave del contenido. Asegúrate de seguir estas instrucciones de manera rigurosa:\n",
            "\n",
            "1. **Identificación de puntos clave**: Extrae y resalta las ideas centrales, términos técnicos relevantes, tendencias, estadísticas importantes, y cualquier conclusión crítica mencionada en el texto.\n",
            "2. **Omisión de detalles secundarios**: Excluye cualquier información redundante, ejemplos extensos, o datos que no sean esenciales para comprender el núcleo del mensaje.\n",
            "3. **Coherencia y cohesión**: Organiza el resumen de manera lógica y fluida, conectando las ideas principales con transiciones claras para garantizar que el contenido sea fácil de entender.\n",
            "4. **Contexto financiero específico**: Si el texto incluye términos especializados, conceptos técnicos o referencias específicas al sector financiero y bancario (por ejemplo: productos financieros, regulaciones, análisis de mercado, indicadores económicos, etc.), preserva su significado y precisión, explicando brevemente si es necesario para asegurar claridad.\n",
            "5. **Extensión adecuada**: Mantén el resumen breve pero suficientemente detallado para transmitir el mensaje principal sin omitir información crítica.\n",
            "\n",
            "Texto para analizar:\n",
            "{text}\n",
            "\n",
            "Resumen:\n"
          ]
        }
      ]
    },
    {
      "cell_type": "code",
      "execution_count": 37,
      "metadata": {
        "id": "CkE9-p4Hbdmn",
        "colab": {
          "base_uri": "https://localhost:8080/",
          "height": 891
        },
        "outputId": "965df680-4eba-4860-868c-9786a948b4dc"
      },
      "outputs": [
        {
          "output_type": "stream",
          "name": "stdout",
          "text": [
            "\n",
            "Resumen generado:\n",
            "\n"
          ]
        },
        {
          "output_type": "display_data",
          "data": {
            "text/plain": [
              "<IPython.core.display.Markdown object>"
            ],
            "text/markdown": "**Resumen del Informe Financiero del Grupo BBVA – Perspectiva 2024**\n\nEl Grupo BBVA ha consolidado su posición en el sector financiero global durante 2024, destacándose por su capacidad de adaptación en un entorno económico dinámico. Las estrategias de diversificación de ingresos, digitalización y gestión proactiva del riesgo han sido clave para alcanzar resultados sólidos en rentabilidad, eficiencia operativa y resiliencia.\n\n### **1. Contexto Macroeconómico y Sectorial**\n- **Inflación y Políticas Monetarias:** La desaceleración de la inflación en la zona euro permitió ajustes cautelosos en las políticas del BCE, manteniendo tasas de interés bajas que favorecieron el crédito pero presionaron los márgenes financieros.\n- **Crecimiento Económico:** Las economías desarrolladas mostraron estabilidad, mientras que los mercados emergentes crecieron rápidamente gracias a la innovación tecnológica.\n- **Riesgos Geopolíticos:** Las tensiones comerciales y la transición energética generaron volatilidad, condicionando estrategias de inversión.\n\n### **2. Resultados Financieros**\n- **Ingresos y Rentabilidad:** Los ingresos operativos crecieron un 5.3% interanual, impulsados por la expansión de la cartera crediticia, la digitalización y la innovación en productos financieros.\n- **Estructura del Balance:** BBVA mantuvo una sólida estructura financiera, con un ratio CET1 superior al 15% y un LCR por encima del 125%, garantizando solvencia y liquidez.\n- **Calidad de la Cartera:** La tasa de morosidad se redujo al 1.7%, respaldada por políticas de riesgo rigurosas y provisiones adecuadas.\n\n### **3. Indicadores Financieros Clave**\n- **ROE:** 10.1%, reflejando una sólida rentabilidad del capital.\n- **ROA:** 0.9%, destacando la eficiencia en el uso de activos.\n- **Ratio de Eficiencia:** 56.7%, mejorando la optimización de costes.\n- **Crecimiento Digital:** Incremento del 20% en clientes digitales, reduciendo costes y mejorando la eficiencia operativa.\n\n### **4. Transformación Digital y Sostenibilidad**\n- **Innovación Tecnológica:** La integración de inteligencia artificial y big data mejoró la personalización de servicios y la eficiencia operativa.\n- **Sostenibilidad:** BBVA intensificó sus iniciativas ESG, financiando proyectos sostenibles, promoviendo la economía circular y reduciendo su huella de carbono.\n\n### **5. Riesgos y Desafíos Emergentes**\n- **Riesgo Crediticio:** La volatilidad en ciertos sectores requiere un monitoreo constante de la calidad de la cartera.\n- **Riesgo Tecnológico:** La digitalización aumenta la exposición a ciberamenazas, mitigadas mediante inversiones en ciberseguridad.\n- **Impacto Regulatorio:** La adaptación a normativas más estrictas sigue siendo un desafío clave.\n\n### **6. Perspectivas para 2025**\nBBVA proyecta un crecimiento moderado de ingresos (4%-6%), impulsado por la expansión crediticia, la digitalización y la diversificación de mercados. La innovación tecnológica, la sostenibilidad y la optimización operativa serán pilares estratégicos, junto con el fortalecimiento del capital y la gestión del riesgo.\n\n### **Conclusión**\nEn 2024, BBVA demostró resiliencia y capacidad de adaptación, consolidándose como un actor clave en el sector financiero. Su enfoque en transformación digital, sostenibilidad y gestión prudente del riesgo posiciona al banco para un crecimiento sostenido en 2025, aunque deberá enfrentar desafíos como la volatilidad de los mercados y el cumplimiento normativo."
          },
          "metadata": {}
        }
      ],
      "source": [
        "refined_summary_prompt_template = PromptTemplate(\n",
        "    template=refined_prompt[\"text\"],\n",
        "    input_variables=[\"text\"]\n",
        ")\n",
        "summary_chain = LLMChain(llm=llm_summary, prompt=refined_summary_prompt_template)\n",
        "\n",
        "with open(\"financial_report.txt\", \"r\", encoding=\"utf-8\") as f:\n",
        "    texto_extenso = f.read()\n",
        "\n",
        "resumen = summary_chain.run(text=texto_extenso)\n",
        "\n",
        "\n",
        "print(\"\\nResumen generado:\\n\")\n",
        "display(Markdown(resumen))"
      ]
    },
    {
      "cell_type": "code",
      "execution_count": 38,
      "metadata": {
        "id": "OFq8d-6TbeIF",
        "colab": {
          "base_uri": "https://localhost:8080/"
        },
        "outputId": "0e8b49e4-cbf2-4cf8-8007-3f883dbb9d5a"
      },
      "outputs": [
        {
          "output_type": "stream",
          "name": "stdout",
          "text": [
            "Informe Financiero del Grupo BBVA – Perspectiva 2024\n",
            "============================================================\n",
            "\n",
            "1. Resumen Ejecutivo\n",
            "--------------------\n",
            "Durante el ejercicio 2024, el Grupo BBVA ha consolidado su posición en el sector financiero global, \n",
            "demostrando una notable capacidad de adaptación ante un entorno económico en constante transformación. \n",
            "Las estrategias de diversificación de ingresos, la digitalización de procesos y la gestión proactiva del riesgo \n",
            "han permitido al banco obtener resultados sólidos en términos de rentabilidad, eficiencia operativa y resiliencia.\n",
            "El presente informe ofrece un análisis profundo y técnico del desempeño del banco, abarcando aspectos \n",
            "macroeconómicos, análisis detallado de estados financieros, indicadores clave, estrategias de innovación, \n",
            "riesgos emergentes y proyecciones futuras.\n",
            "\n",
            "2. Contexto Macroeconómico y Sectorial\n",
            "--------------------------------------\n",
            "El año 2024 se ha caracterizado por una recuperación gradual de las economías globales, aunque con \n",
            "incertidumbres derivadas de factores geopolíticos y cambios en las políticas monetarias internacionales. \n",
            "Entre los aspectos más relevantes se destacan:\n",
            "\n",
            "- **Inflación y Políticas Monetarias:**  \n",
            "  Los índices de inflación han mostrado una moderada desaceleración en la zona euro, lo que ha \n",
            "  permitido al Banco Central Europeo ajustar sus medidas de flexibilización con cautela. Las tasas de interés \n",
            "  han permanecido en niveles históricamente bajos, facilitando el acceso al crédito pero también generando \n",
            "  desafíos en términos de márgenes financieros.\n",
            "  \n",
            "- **Crecimiento Económico:**  \n",
            "  La economía global presenta un crecimiento heterogéneo, donde las economías desarrolladas muestran \n",
            "  señales de estabilidad, mientras que algunos mercados emergentes registran un crecimiento acelerado, impulsado \n",
            "  por la innovación tecnológica y la apertura de nuevos mercados.\n",
            "\n",
            "- **Riesgos Geopolíticos y Comerciales:**  \n",
            "  La persistencia de tensiones comerciales y conflictos regionales ha generado volatilidad en los mercados \n",
            "  financieros. Estos factores, combinados con la incertidumbre en torno a la transición energética, condicionan \n",
            "  las estrategias de inversión y diversificación de riesgo de las grandes instituciones financieras.\n",
            "\n",
            "3. Análisis de Resultados Financieros\n",
            "-------------------------------------\n",
            "3.1 Ingresos, Rentabilidad y Crecimiento\n",
            "------------------------------------------\n",
            "Durante 2024, BBVA ha reportado un incremento en sus ingresos operativos del 5.3% interanual, resultado de:\n",
            "  \n",
            "  - **Expansión de la Cartera Crediticia:**  \n",
            "    Se ha observado un crecimiento sostenido en la concesión de créditos, con un énfasis en segmentos \n",
            "    de alta calidad crediticia y en regiones con potencial de desarrollo económico.\n",
            "  \n",
            "  - **Digitalización y Servicios Online:**  \n",
            "    La adopción masiva de canales digitales ha permitido incrementar la generación de comisiones por \n",
            "    servicios financieros, reduciendo al mismo tiempo los costes operativos asociados a la atención presencial.\n",
            "  \n",
            "  - **Innovación en Productos Financieros:**  \n",
            "    El lanzamiento de nuevos productos, incluyendo soluciones de inversión y seguros digitales, ha contribuido \n",
            "    a diversificar las fuentes de ingresos.\n",
            "\n",
            "3.2 Estructura del Balance y Gestión del Riesgo\n",
            "-----------------------------------------------\n",
            "El balance del Grupo BBVA se caracteriza por una estructura sólida y una gestión prudente del riesgo:\n",
            "  \n",
            "  - **Activos y Pasivos:**  \n",
            "    El crecimiento de los activos totales se ha visto impulsado por la diversificación geográfica y sectorial. \n",
            "    La adecuada gestión de pasivos ha permitido mantener ratios de endeudamiento saludables.\n",
            "  \n",
            "  - **Capitalización y Ratios Regulatorios:**  \n",
            "    El banco ha mantenido un ratio CET1 (Common Equity Tier 1) superior al 15%, lo que proporciona un \n",
            "    colchón robusto frente a escenarios adversos y refuerza la confianza de inversores y reguladores.\n",
            "  \n",
            "  - **Liquidez y Solvencia:**  \n",
            "    La posición de liquidez se ha optimizado, alcanzando un Liquidity Coverage Ratio (LCR) superior al 125%, \n",
            "    garantizando así la capacidad de respuesta ante salidas inesperadas de fondos.\n",
            "\n",
            "3.3 Calidad de la Cartera y Provisiones\n",
            "----------------------------------------\n",
            "El análisis de la cartera crediticia ha mostrado mejoras sustanciales en términos de calidad:\n",
            "  \n",
            "  - **Moras y Recuperación de Créditos:**  \n",
            "    La tasa de morosidad se ha mantenido en niveles reducidos, alrededor del 1.7%, gracias a políticas de \n",
            "    análisis de riesgo más rigurosas y a la implementación de soluciones tecnológicas para la detección temprana \n",
            "    de impagos.\n",
            "  \n",
            "  - **Provisiones Adecuadas:**  \n",
            "    Se ha observado un incremento en las provisiones para créditos dudosos, alineado con la mejora en los \n",
            "    procesos de evaluación del riesgo, asegurando una cobertura adecuada para posibles escenarios negativos.\n",
            "\n",
            "4. Indicadores y Ratios Financieros Clave\n",
            "-----------------------------------------\n",
            "El desempeño de BBVA en 2024 se refleja en una serie de indicadores financieros que destacan su eficiencia y \n",
            "rentabilidad:\n",
            "  \n",
            "  - **ROE (Return on Equity):** 10.1% – Refleja la rentabilidad del capital invertido y la eficacia en la generación \n",
            "    de beneficios.\n",
            "  \n",
            "  - **ROA (Return on Assets):** 0.9% – Indica la capacidad del banco para generar ingresos a partir de sus activos totales.\n",
            "  \n",
            "  - **Ratio de Eficiencia:** 56.7% – Muestra una mejora en la optimización de costes operativos en comparación con años anteriores.\n",
            "  \n",
            "  - **Margen Financiero:** Se ha mantenido en niveles competitivos, favorecido por la diversificación de ingresos \n",
            "    y una gestión eficaz del riesgo crediticio.\n",
            "  \n",
            "  - **Crecimiento de la Base de Clientes Digitales:** Un incremento del 20% en el número de clientes que utilizan \n",
            "    canales digitales, lo que ha contribuido a la reducción de costes y a la mejora en la eficiencia operativa.\n",
            "\n",
            "5. Estrategias de Transformación Digital y Sostenibilidad\n",
            "----------------------------------------------------------\n",
            "BBVA ha invertido significativamente en la transformación digital durante 2024, implementando proyectos \n",
            "estratégicos para mejorar la experiencia del cliente y optimizar procesos internos:\n",
            "  \n",
            "  - **Innovación Tecnológica:**  \n",
            "    La integración de soluciones basadas en inteligencia artificial y big data ha permitido mejorar la personalización \n",
            "    de servicios y anticipar necesidades del cliente, optimizando la oferta de productos financieros.\n",
            "  \n",
            "  - **Optimización de Canales Digitales:**  \n",
            "    Se han reforzado las plataformas online y móviles, logrando una mayor penetración en mercados emergentes y \n",
            "    mejorando la eficiencia en la atención al cliente.\n",
            "  \n",
            "  - **Sostenibilidad y Responsabilidad Social:**  \n",
            "    El banco ha intensificado sus iniciativas ESG (Environmental, Social and Governance), promoviendo la financiación \n",
            "    de proyectos sostenibles, el apoyo a la economía circular y la inclusión financiera. Proyectos en energías renovables \n",
            "    y una política activa de reducción de la huella de carbono han sido pilares fundamentales en esta estrategia.\n",
            "\n",
            "6. Análisis de Riesgos y Desafíos Emergentes\n",
            "--------------------------------------------\n",
            "El entorno global presenta múltiples desafíos que exigen una gestión proactiva del riesgo:\n",
            "  \n",
            "  - **Riesgo Crediticio:**  \n",
            "    La volatilidad en ciertos sectores económicos y la incertidumbre en mercados internacionales requieren un seguimiento \n",
            "    continuo de la calidad de la cartera y de la implementación de medidas preventivas para evitar incrementos en la morosidad.\n",
            "  \n",
            "  - **Riesgo de Mercado y Volatilidad:**  \n",
            "    Los cambios en las políticas monetarias internacionales y la fluctuación en los precios de activos financieros \n",
            "    constituyen un desafío constante para la estabilidad del banco.\n",
            "  \n",
            "  - **Riesgo Tecnológico y de Ciberseguridad:**  \n",
            "    La rápida evolución digital aumenta la exposición a amenazas cibernéticas. BBVA ha reforzado su infraestructura \n",
            "    de ciberseguridad mediante inversiones en tecnologías avanzadas y protocolos de seguridad de última generación.\n",
            "  \n",
            "  - **Impacto Regulatorio:**  \n",
            "    La evolución del marco normativo, tanto a nivel europeo como global, impone retos en la adaptación de procesos \n",
            "    internos y en el cumplimiento de estándares cada vez más estrictos.\n",
            "\n",
            "7. Perspectivas Futuras y Proyecciones para 2025\n",
            "------------------------------------------------\n",
            "De cara al ejercicio 2025, BBVA plantea una serie de iniciativas estratégicas que buscan consolidar su crecimiento y \n",
            "fortalecer su posición competitiva:\n",
            "  \n",
            "  - **Crecimiento Sostenido:**  \n",
            "    Se proyecta un crecimiento moderado de los ingresos operativos (entre el 4% y 6%) impulsado por la expansión \n",
            "    de la cartera crediticia y la digitalización de servicios. La diversificación de mercados y la apertura a nuevas áreas \n",
            "    de negocio serán fundamentales en esta estrategia.\n",
            "  \n",
            "  - **Innovación Continua:**  \n",
            "    La inversión en tecnologías emergentes y la consolidación de centros de innovación permitirán desarrollar productos \n",
            "    financieros adaptados a las necesidades del cliente moderno. El uso de inteligencia artificial y machine learning se \n",
            "    prevé que juegue un papel crucial en la personalización de la oferta.\n",
            "  \n",
            "  - **Optimización Operativa:**  \n",
            "    Se espera una mayor eficiencia en la gestión operativa a través de la automatización de procesos y la integración \n",
            "    de soluciones digitales que permitan reducir costes y mejorar la experiencia del usuario.\n",
            "  \n",
            "  - **Sostenibilidad y Responsabilidad Social:**  \n",
            "    El compromiso con políticas ESG se intensificará, apostando por inversiones sostenibles y la implementación de \n",
            "    prácticas responsables en toda la cadena de valor. La financiación de proyectos verdes y el apoyo a la innovación \n",
            "    en economía circular son algunas de las prioridades para 2025.\n",
            "  \n",
            "  - **Fortalecimiento del Capital y Gestión de Riesgos:**  \n",
            "    BBVA seguirá fortaleciendo su estructura de capital y sus mecanismos de gestión del riesgo, asegurando la solidez \n",
            "    financiera ante posibles escenarios adversos y la continuidad del crecimiento a largo plazo.\n",
            "\n",
            "8. Conclusiones y Reflexiones Estratégicas\n",
            "-------------------------------------------\n",
            "El análisis del desempeño de BBVA durante 2024 muestra un banco en evolución, capaz de adaptarse a los cambios \n",
            "económicos y tecnológicos del entorno global. La apuesta por la transformación digital, la diversificación de \n",
            "ingresos y la implementación de políticas prudentes de gestión del riesgo han permitido consolidar una posición \n",
            "robusta en el mercado. No obstante, los desafíos derivados de la volatilidad de los mercados, los riesgos cibernéticos \n",
            "y el impacto de normativas cada vez más exigentes requieren una vigilancia constante y una capacidad de respuesta ágil.\n",
            "\n",
            "La perspectiva para 2025 es alentadora, siempre que se mantenga el compromiso con la innovación, la eficiencia operativa \n",
            "y la sostenibilidad. En este contexto, BBVA se perfila como un actor clave en el sector financiero, con una visión clara \n",
            "orientada hacia la resiliencia y el crecimiento sostenido.\n",
            "\n",
            "9. Anexos, Metodología y Notas Adicionales\n",
            "------------------------------------------\n",
            "El presente informe incluye diversos anexos y notas metodológicas que respaldan los análisis presentados:\n",
            "  \n",
            "  - **Anexo A:** Tablas comparativas de indicadores financieros históricos y proyecciones.\n",
            "  - **Anexo B:** Gráficos y visualizaciones de la evolución de la cartera crediticia, márgenes operativos y ratios de eficiencia.\n",
            "  - **Anexo C:** Descripción detallada de la metodología empleada para el análisis de riesgo crediticio y de mercado.\n",
            "  - **Notas Metodológicas:** Se han utilizado fuentes públicas, informes anuales y análisis sectoriales para la elaboración de \n",
            "    las proyecciones presentadas. Los datos han sido ajustados para reflejar las condiciones específicas del ejercicio 2024, y las proyecciones \n",
            "    para 2025 se basan en supuestos de continuidad de las tendencias actuales y en la implementación de nuevas estrategias de innovación.\n",
            "\n",
            "10. Referencias y Fuentes Consultadas\n",
            "--------------------------------------\n",
            "Entre las principales fuentes de información utilizadas para la elaboración de este informe se encuentran:\n",
            "  \n",
            "  - Informes anuales y trimestrales publicados por BBVA.\n",
            "  - Análisis de mercado y estudios económicos de organismos internacionales.\n",
            "  - Publicaciones especializadas en economía y finanzas.\n",
            "  - Artículos y reportes de consultoras líderes en transformación digital y sostenibilidad.\n"
          ]
        }
      ],
      "source": [
        "print(texto_extenso)"
      ]
    }
  ],
  "metadata": {
    "colab": {
      "provenance": [],
      "toc_visible": true
    },
    "kernelspec": {
      "display_name": "base",
      "language": "python",
      "name": "python3"
    },
    "language_info": {
      "codemirror_mode": {
        "name": "ipython",
        "version": 3
      },
      "file_extension": ".py",
      "mimetype": "text/x-python",
      "name": "python",
      "nbconvert_exporter": "python",
      "pygments_lexer": "ipython3",
      "version": "3.12.7"
    }
  },
  "nbformat": 4,
  "nbformat_minor": 0
}