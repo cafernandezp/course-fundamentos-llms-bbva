{
  "cells": [
    {
      "cell_type": "markdown",
      "metadata": {
        "id": "N0GOdzSYRcm1"
      },
      "source": [
        "## Ejercicio 6: Convertir descripciones en lenguaje natural a consultas\n",
        "\n",
        "Los LLMs son excelentes traductores de lenguaje natural a código. Incluso si no conocemos un lenguaje, podemos pedirle que nos genere el código correspondiente. De este modo, en vez de perder tiempo en un ensayo y error para llegar a escrbir el código, podemos centrarnos en analizar los resultados del mismo"
      ]
    },
    {
      "cell_type": "code",
      "execution_count": 1,
      "metadata": {
        "id": "7KnWu6sGRvEI"
      },
      "outputs": [],
      "source": [
        "from google.colab import userdata\n",
        "OPENAI_API_KEY = userdata.get('OPENAI_API_KEY')\n",
        "API_VERSION = userdata.get('OPENAI_API_VERSION')\n",
        "AZURE_ENDPOINT = userdata.get('AZURE_OPENAI_ENDPOINT')\n",
        "\n",
        "#print(type(OPENAI_API_KEY),OPENAI_API_KEY)\n",
        "#print(type(API_VERSION),API_VERSION)\n",
        "#print(type(AZURE_ENDPOINT),AZURE_ENDPOINT)"
      ]
    },
    {
      "cell_type": "code",
      "execution_count": 2,
      "metadata": {
        "id": "RRP6AfCGRcm2"
      },
      "outputs": [],
      "source": [
        "from openai import AzureOpenAI"
      ]
    },
    {
      "cell_type": "markdown",
      "metadata": {
        "id": "EXWqBavLRcm3"
      },
      "source": [
        "##### Establecemos el valor de la API key de OpenAI. En una aplicación real, no podemos exponer esta API key en el código, y la cogeríamos con una variable de entorno mediante un os.getenv()"
      ]
    },
    {
      "cell_type": "markdown",
      "metadata": {
        "id": "UOztLUHxRcm3"
      },
      "source": [
        "##### Escribimos lo que queremos obtener con lenguaje natural"
      ]
    },
    {
      "cell_type": "code",
      "execution_count": 3,
      "metadata": {
        "id": "HeHX0LfPRcm3"
      },
      "outputs": [],
      "source": [
        "descripcion = (\n",
        "    \"Quiero obtener la suma de las calorias realizadas por cada id en el último mes, \"\n",
        "    \"ordenadas de mayor a menor.\"\n",
        ")"
      ]
    },
    {
      "cell_type": "markdown",
      "metadata": {
        "id": "faKwy1luRcm3"
      },
      "source": [
        "##### Y ahora creamos el prompt correspondiente"
      ]
    },
    {
      "cell_type": "code",
      "execution_count": 4,
      "metadata": {
        "id": "bPy7YZRuSruz"
      },
      "outputs": [],
      "source": [
        "import pandas as pd\n",
        "data = {\n",
        "  \"id\" : [1,2,3],\n",
        "  \"calories\": [420, 380, 390],\n",
        "  \"duration\": [50, 40, 45]\n",
        "}\n",
        "\n",
        "#load data into a DataFrame object:\n",
        "df = pd.DataFrame(data)"
      ]
    },
    {
      "cell_type": "code",
      "execution_count": 5,
      "metadata": {
        "id": "Puh4V1nCRcm4"
      },
      "outputs": [],
      "source": [
        "prompt_sql = (\n",
        "    f\"Convierte la siguiente descripción en una consulta SQL:\\n\\\"\\\"\\\"\\n{descripcion}\\n\\\"\\\"\\\"\\n\"\n",
        "    \"Proporciona únicamente el código SQL, sin texto adicional. Razona paso a paso y asegúrate de que el código es correcto.\"\n",
        "    f\"te comparto un dataframe de pandas {df}\"\n",
        ")"
      ]
    },
    {
      "cell_type": "markdown",
      "metadata": {
        "id": "dj_xtWpsRcm4"
      },
      "source": [
        "##### Lo probamos\n",
        "- Este ejemplo es con SQL, pero obviamente se puede usar para python, R o cualquier otro lenguaje de programacion"
      ]
    },
    {
      "cell_type": "code",
      "execution_count": 6,
      "metadata": {
        "colab": {
          "base_uri": "https://localhost:8080/",
          "height": 244
        },
        "id": "kS9NOGNLRcm4",
        "outputId": "c64a98bf-34d2-4540-b21a-45ee30cad252"
      },
      "outputs": [
        {
          "name": "stdout",
          "output_type": "stream",
          "text": [
            "\n",
            "Consulta SQL generada:\n"
          ]
        },
        {
          "data": {
            "text/markdown": [
              "```sql\n",
              "SELECT \n",
              "    id, \n",
              "    SUM(calories) AS total_calories\n",
              "FROM \n",
              "    your_table_name\n",
              "WHERE \n",
              "    DATE_PART('month', CURRENT_DATE) - DATE_PART('month', your_date_column) = 1\n",
              "GROUP BY \n",
              "    id\n",
              "ORDER BY \n",
              "    total_calories DESC;\n",
              "```"
            ],
            "text/plain": [
              "<IPython.core.display.Markdown object>"
            ]
          },
          "metadata": {},
          "output_type": "display_data"
        }
      ],
      "source": [
        "from IPython.display import Markdown\n",
        "\n",
        "client = AzureOpenAI(\n",
        "            api_key = OPENAI_API_KEY,\n",
        "            api_version=API_VERSION,\n",
        "            azure_endpoint= AZURE_ENDPOINT# Este endpoint corresponde a la región france-central\n",
        ")\n",
        "\n",
        "response = client.chat.completions.create(\n",
        "        model=\"gpt-4o\",\n",
        "        messages=[{\"role\": \"user\", \"content\": prompt_sql}],\n",
        "        temperature=0.3,\n",
        "        max_tokens=800,\n",
        "    )\n",
        "consulta_sql = response.choices[0].message.content.strip()\n",
        "print(\"\\nConsulta SQL generada:\")\n",
        "display(Markdown(consulta_sql))"
      ]
    },
    {
      "cell_type": "markdown",
      "metadata": {
        "id": "RJNZzpuMRcm4"
      },
      "source": [
        "##### - ¿Cómo se traduce cada parte de la descripción en elementos de la consulta SQL (SELECT, WHERE, GROUP BY, etc.)?\n",
        "##### - ¿Qué cambios harías al prompt si la consulta necesitara filtros adicionales o uniones entre tablas?"
      ]
    }
  ],
  "metadata": {
    "colab": {
      "provenance": []
    },
    "kernelspec": {
      "display_name": "base",
      "language": "python",
      "name": "python3"
    },
    "language_info": {
      "codemirror_mode": {
        "name": "ipython",
        "version": 3
      },
      "file_extension": ".py",
      "mimetype": "text/x-python",
      "name": "python",
      "nbconvert_exporter": "python",
      "pygments_lexer": "ipython3",
      "version": "3.12.7"
    }
  },
  "nbformat": 4,
  "nbformat_minor": 0
}
