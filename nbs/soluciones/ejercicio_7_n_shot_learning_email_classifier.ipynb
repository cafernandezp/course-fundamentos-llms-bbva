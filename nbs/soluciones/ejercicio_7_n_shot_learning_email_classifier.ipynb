{
  "cells": [
    {
      "cell_type": "markdown",
      "metadata": {
        "id": "C05V9ju0T6L6"
      },
      "source": [
        "## Ejercicio 7: Uso de N-shot Learning para clasificar correos\n",
        "\n",
        "En este ejercicio, proporcionamos ejemplos (N-shot) al modelo para mejorar la coherencia en la clasificación de correos de clientes."
      ]
    },
    {
      "cell_type": "code",
      "execution_count": 1,
      "metadata": {
        "id": "0uPnTYvFUILB"
      },
      "outputs": [],
      "source": [
        "from google.colab import userdata\n",
        "OPENAI_API_KEY = userdata.get('OPENAI_API_KEY')\n",
        "API_VERSION = userdata.get('OPENAI_API_VERSION')\n",
        "AZURE_ENDPOINT = userdata.get('AZURE_OPENAI_ENDPOINT')\n",
        "\n",
        "#print(type(OPENAI_API_KEY),OPENAI_API_KEY)\n",
        "#print(type(API_VERSION),API_VERSION)\n",
        "#print(type(AZURE_ENDPOINT),AZURE_ENDPOINT)"
      ]
    },
    {
      "cell_type": "code",
      "execution_count": 2,
      "metadata": {
        "id": "B3xKM2hPT6L6"
      },
      "outputs": [],
      "source": [
        "from openai import AzureOpenAI"
      ]
    },
    {
      "cell_type": "markdown",
      "metadata": {
        "id": "2ot2l_QzT6L7"
      },
      "source": [
        "##### Establecemos el valor de la API key de OpenAI. En una aplicación real, no podemos exponer esta API key en el código, y la cogeríamos con una variable de entorno mediante un os.getenv()"
      ]
    },
    {
      "cell_type": "markdown",
      "metadata": {
        "id": "hfIVWQqBT6L7"
      },
      "source": [
        "##### Definimos ejemplos previos (N-shots)\n",
        "\n",
        "Algunos de ellos implican una categorización doble. Al restringir las posibles categorías e indicarle que hay casos donde puede haber dos clases a la vez, el modelo clasificará mejor los correos"
      ]
    },
    {
      "cell_type": "code",
      "execution_count": 3,
      "metadata": {
        "id": "D3LvVf12T6L7"
      },
      "outputs": [],
      "source": [
        "\n",
        "n_shot_examples = \"\"\"\\\n",
        "Ejemplo 1:\n",
        "Correo del cliente:\n",
        "\"Asunto: Cargo duplicado\n",
        "Hola, creo que hay un cargo duplicado en mi cuenta. ¿Cómo puedo solucionarlo?\"\n",
        "Clasificación: Facturación\n",
        "\n",
        "Ejemplo 2:\n",
        "Correo del cliente:\n",
        "\"Asunto: Cambio de domicilio\n",
        "Buenas tardes, quiero actualizar mi dirección y número de teléfono en mi cuenta bancaria. ¿Cómo debo proceder?\"\n",
        "Clasificación: Actualización de datos\n",
        "\n",
        "Ejemplo 3:\n",
        "Correo del cliente:\n",
        "\"Asunto: Error en transferencia\n",
        "Al intentar hacer una transferencia, me da un error en la app. ¿Pueden ayudarme?\"\n",
        "Clasificación: Problema con transferencia, Problema con la App\n",
        "\n",
        "Ejemplo 4:\n",
        "Correo del cliente:\n",
        "\"Asunto: Problema con una transferencia\n",
        "Ayer intenté hacer una transferencia, pero me pone que \"su cuenta ha sido bloqueada y no permite operaciones\". ¿Pueden verificar qué ocurre?\"\n",
        "Clasificación: Problema con transferencia, Problema con cuenta bloqueada\n",
        "\"\"\""
      ]
    },
    {
      "cell_type": "markdown",
      "metadata": {
        "id": "lteo2Tv9T6L8"
      },
      "source": [
        "##### Tenemos un nuevo email que clasificar"
      ]
    },
    {
      "cell_type": "code",
      "execution_count": 4,
      "metadata": {
        "id": "-_hu5JfNT6L8"
      },
      "outputs": [],
      "source": [
        "email_cliente = \"\"\"\\\n",
        "Asunto: Solicitud de préstamo y actualización de ingresos\n",
        "Quisiera solicitar un préstamo personal, pero para eso necesito actualizar mis datos de ingresos en mi perfil bancario.\n",
        "¿Me pueden indicar cómo hacerlo?\n",
        "\"\"\""
      ]
    },
    {
      "cell_type": "markdown",
      "metadata": {
        "id": "XA4pLvkAT6L8"
      },
      "source": [
        "##### Construimos el prompt añadiendo esos ejemplos"
      ]
    },
    {
      "cell_type": "code",
      "execution_count": 5,
      "metadata": {
        "id": "x7XHw2gYT6L8"
      },
      "outputs": [],
      "source": [
        "prompt_n_shot = f\"\"\"\n",
        "Eres un asistente bancario especializado en procesar y clasificar correos de clientes según su contenido.\n",
        "Tu tarea es analizar el contenido de un correo y asignarle **una o más categorías** basándote en ejemplos previos.\n",
        "\n",
        "A continuación, se presentan **varios ejemplos** de correos reales de clientes, junto con la **clasificación correspondiente**.\n",
        "**Importante**:\n",
        "- Si un correo menciona **más de un tema relevante**, debe recibir **más de una categoría**.\n",
        "- No expliques la clasificación ni des detalles adicionales, **solo responde con la(s) categoría(s) exacta(s)** en formato de texto.\n",
        "- Si el correo no encaja claramente en una categoría existente, elige la que más se aproxime.\n",
        "\n",
        "Ejemplos de correos clasificados:\n",
        "\n",
        "{n_shot_examples}\n",
        "\n",
        "Ahora clasifica el siguiente correo:\n",
        "Correo del cliente:\n",
        "\"{email_cliente}\"\n",
        "Clasificación:\n",
        "\"\"\""
      ]
    },
    {
      "cell_type": "markdown",
      "metadata": {
        "id": "yWDhUpV_T6L8"
      },
      "source": [
        "##### Llamamos al modelo para ver el resultado"
      ]
    },
    {
      "cell_type": "code",
      "execution_count": 6,
      "metadata": {
        "colab": {
          "base_uri": "https://localhost:8080/"
        },
        "id": "sm6cJywUT6L9",
        "outputId": "393766b0-e57d-46c3-950a-6212d76563a0"
      },
      "outputs": [
        {
          "output_type": "stream",
          "name": "stdout",
          "text": [
            "\n",
            "--- Clasificación Generada ---\n",
            "\n",
            "Solicitud de préstamo, Actualización de datos\n"
          ]
        }
      ],
      "source": [
        "client = AzureOpenAI(\n",
        "            api_key = OPENAI_API_KEY,\n",
        "            api_version=API_VERSION,\n",
        "            azure_endpoint= AZURE_ENDPOINT# Este endpoint corresponde a la región france-central\n",
        ")\n",
        "\n",
        "response = client.chat.completions.create(\n",
        "        model=\"gpt-4o\",\n",
        "        messages=[{\"role\": \"user\", \"content\": prompt_n_shot}],\n",
        "        temperature=0.1, #Uso una temperatura baja para que no sea creativo, porque me interesa que clasifique lo mejor posible.\n",
        "        max_tokens=30,\n",
        "    )\n",
        "\n",
        "clasificacion_generada = response.choices[0].message.content.strip()\n",
        "print(\"\\n--- Clasificación Generada ---\\n\")\n",
        "print(clasificacion_generada)"
      ]
    },
    {
      "cell_type": "markdown",
      "metadata": {
        "id": "59XYoXnxT6L9"
      },
      "source": [
        "##### - Cómo cambia la respuesta si modificamos la temperatura?\n",
        "##### - Qué pasa si le ponemos un correo de un tema que no tiene nada que ver con los ejemplos?"
      ]
    }
  ],
  "metadata": {
    "colab": {
      "provenance": []
    },
    "kernelspec": {
      "display_name": "base",
      "language": "python",
      "name": "python3"
    },
    "language_info": {
      "codemirror_mode": {
        "name": "ipython",
        "version": 3
      },
      "file_extension": ".py",
      "mimetype": "text/x-python",
      "name": "python",
      "nbconvert_exporter": "python",
      "pygments_lexer": "ipython3",
      "version": "3.12.7"
    }
  },
  "nbformat": 4,
  "nbformat_minor": 0
}