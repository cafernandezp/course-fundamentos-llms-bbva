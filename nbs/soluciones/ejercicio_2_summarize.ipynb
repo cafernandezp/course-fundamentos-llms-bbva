{
  "cells": [
    {
      "cell_type": "markdown",
      "metadata": {
        "id": "uhaoPZ-N_Apu"
      },
      "source": [
        "## Ejercicio 2: Leer un archivo de texto y generar resúmenes en tres tonos diferentes\n",
        "\n",
        "En este ejercicio, usaremos un fichero .txt con un reporte financiero para resumirlo, adaptando el tono a tres audiencias diferentes"
      ]
    },
    {
      "cell_type": "code",
      "execution_count": 1,
      "metadata": {
        "id": "G416atv0_dym"
      },
      "outputs": [],
      "source": [
        "from google.colab import userdata\n",
        "OPENAI_API_KEY = userdata.get('OPENAI_API_KEY')\n",
        "API_VERSION = userdata.get('OPENAI_API_VERSION')\n",
        "AZURE_ENDPOINT = userdata.get('AZURE_OPENAI_ENDPOINT')\n",
        "\n",
        "#print(type(OPENAI_API_KEY),OPENAI_API_KEY)\n",
        "#print(type(API_VERSION),API_VERSION)\n",
        "#print(type(AZURE_ENDPOINT),AZURE_ENDPOINT)"
      ]
    },
    {
      "cell_type": "code",
      "execution_count": null,
      "metadata": {
        "id": "gKONI9A-_Apv"
      },
      "outputs": [],
      "source": [
        "from openai import AzureOpenAI"
      ]
    },
    {
      "cell_type": "markdown",
      "metadata": {
        "id": "60HWi6jX_Apw"
      },
      "source": [
        "##### Establecemos el valor de la API key de OpenAI. En una aplicación real, no podemos exponer esta API key en el código, y la cogeríamos con una variable de entorno mediante un os.getenv()"
      ]
    },
    {
      "cell_type": "code",
      "source": [
        "client = AzureOpenAI(\n",
        "            api_key = OPENAI_API_KEY,\n",
        "            api_version=API_VERSION,\n",
        "            azure_endpoint= AZURE_ENDPOINT# Este endpoint corresponde a la región france-central\n",
        ")"
      ],
      "metadata": {
        "id": "KAmHM53sS2LF"
      },
      "execution_count": null,
      "outputs": []
    },
    {
      "cell_type": "code",
      "source": [
        "\n",
        "try:\n",
        "    with open(\"financial_report.txt\", \"r\", encoding=\"utf-8\") as f:\n",
        "        contenido = f.read()\n",
        "except FileNotFoundError:\n",
        "    print(\"El archivo 'financial_report.txt' no se encontró. Por favor, crea el archivo y vuelve a ejecutar la celda.\")\n",
        "    contenido = \"\""
      ],
      "metadata": {
        "id": "4VdkiD2hS3W-"
      },
      "execution_count": null,
      "outputs": []
    },
    {
      "cell_type": "code",
      "source": [
        "contenido"
      ],
      "metadata": {
        "id": "SHxrsg0pS4bs",
        "outputId": "c9fae6bf-65e4-4353-eb8e-e54e20aa462f",
        "colab": {
          "base_uri": "https://localhost:8080/",
          "height": 178
        }
      },
      "execution_count": null,
      "outputs": [
        {
          "output_type": "execute_result",
          "data": {
            "text/plain": [
              "'Informe Financiero del Grupo BBVA – Perspectiva 2024\\n============================================================\\n\\n1. Resumen Ejecutivo\\n--------------------\\nDurante el ejercicio 2024, el Grupo BBVA ha consolidado su posición en el sector financiero global, \\ndemostrando una notable capacidad de adaptación ante un entorno económico en constante transformación. \\nLas estrategias de diversificación de ingresos, la digitalización de procesos y la gestión proactiva del riesgo \\nhan permitido al banco obtener resultados sólidos en términos de rentabilidad, eficiencia operativa y resiliencia.\\nEl presente informe ofrece un análisis profundo y técnico del desempeño del banco, abarcando aspectos \\nmacroeconómicos, análisis detallado de estados financieros, indicadores clave, estrategias de innovación, \\nriesgos emergentes y proyecciones futuras.\\n\\n2. Contexto Macroeconómico y Sectorial\\n--------------------------------------\\nEl año 2024 se ha caracterizado por una recuperación gradual de las economías globales, aunque con \\nincertidumbres derivadas de factores geopolíticos y cambios en las políticas monetarias internacionales. \\nEntre los aspectos más relevantes se destacan:\\n\\n- **Inflación y Políticas Monetarias:**  \\n  Los índices de inflación han mostrado una moderada desaceleración en la zona euro, lo que ha \\n  permitido al Banco Central Europeo ajustar sus medidas de flexibilización con cautela. Las tasas de interés \\n  han permanecido en niveles históricamente bajos, facilitando el acceso al crédito pero también generando \\n  desafíos en términos de márgenes financieros.\\n  \\n- **Crecimiento Económico:**  \\n  La economía global presenta un crecimiento heterogéneo, donde las economías desarrolladas muestran \\n  señales de estabilidad, mientras que algunos mercados emergentes registran un crecimiento acelerado, impulsado \\n  por la innovación tecnológica y la apertura de nuevos mercados.\\n\\n- **Riesgos Geopolíticos y Comerciales:**  \\n  La persistencia de tensiones comerciales y conflictos regionales ha generado volatilidad en los mercados \\n  financieros. Estos factores, combinados con la incertidumbre en torno a la transición energética, condicionan \\n  las estrategias de inversión y diversificación de riesgo de las grandes instituciones financieras.\\n\\n3. Análisis de Resultados Financieros\\n-------------------------------------\\n3.1 Ingresos, Rentabilidad y Crecimiento\\n------------------------------------------\\nDurante 2024, BBVA ha reportado un incremento en sus ingresos operativos del 5.3% interanual, resultado de:\\n  \\n  - **Expansión de la Cartera Crediticia:**  \\n    Se ha observado un crecimiento sostenido en la concesión de créditos, con un énfasis en segmentos \\n    de alta calidad crediticia y en regiones con potencial de desarrollo económico.\\n  \\n  - **Digitalización y Servicios Online:**  \\n    La adopción masiva de canales digitales ha permitido incrementar la generación de comisiones por \\n    servicios financieros, reduciendo al mismo tiempo los costes operativos asociados a la atención presencial.\\n  \\n  - **Innovación en Productos Financieros:**  \\n    El lanzamiento de nuevos productos, incluyendo soluciones de inversión y seguros digitales, ha contribuido \\n    a diversificar las fuentes de ingresos.\\n\\n3.2 Estructura del Balance y Gestión del Riesgo\\n-----------------------------------------------\\nEl balance del Grupo BBVA se caracteriza por una estructura sólida y una gestión prudente del riesgo:\\n  \\n  - **Activos y Pasivos:**  \\n    El crecimiento de los activos totales se ha visto impulsado por la diversificación geográfica y sectorial. \\n    La adecuada gestión de pasivos ha permitido mantener ratios de endeudamiento saludables.\\n  \\n  - **Capitalización y Ratios Regulatorios:**  \\n    El banco ha mantenido un ratio CET1 (Common Equity Tier 1) superior al 15%, lo que proporciona un \\n    colchón robusto frente a escenarios adversos y refuerza la confianza de inversores y reguladores.\\n  \\n  - **Liquidez y Solvencia:**  \\n    La posición de liquidez se ha optimizado, alcanzando un Liquidity Coverage Ratio (LCR) superior al 125%, \\n    garantizando así la capacidad de respuesta ante salidas inesperadas de fondos.\\n\\n3.3 Calidad de la Cartera y Provisiones\\n----------------------------------------\\nEl análisis de la cartera crediticia ha mostrado mejoras sustanciales en términos de calidad:\\n  \\n  - **Moras y Recuperación de Créditos:**  \\n    La tasa de morosidad se ha mantenido en niveles reducidos, alrededor del 1.7%, gracias a políticas de \\n    análisis de riesgo más rigurosas y a la implementación de soluciones tecnológicas para la detección temprana \\n    de impagos.\\n  \\n  - **Provisiones Adecuadas:**  \\n    Se ha observado un incremento en las provisiones para créditos dudosos, alineado con la mejora en los \\n    procesos de evaluación del riesgo, asegurando una cobertura adecuada para posibles escenarios negativos.\\n\\n4. Indicadores y Ratios Financieros Clave\\n-----------------------------------------\\nEl desempeño de BBVA en 2024 se refleja en una serie de indicadores financieros que destacan su eficiencia y \\nrentabilidad:\\n  \\n  - **ROE (Return on Equity):** 10.1% – Refleja la rentabilidad del capital invertido y la eficacia en la generación \\n    de beneficios.\\n  \\n  - **ROA (Return on Assets):** 0.9% – Indica la capacidad del banco para generar ingresos a partir de sus activos totales.\\n  \\n  - **Ratio de Eficiencia:** 56.7% – Muestra una mejora en la optimización de costes operativos en comparación con años anteriores.\\n  \\n  - **Margen Financiero:** Se ha mantenido en niveles competitivos, favorecido por la diversificación de ingresos \\n    y una gestión eficaz del riesgo crediticio.\\n  \\n  - **Crecimiento de la Base de Clientes Digitales:** Un incremento del 20% en el número de clientes que utilizan \\n    canales digitales, lo que ha contribuido a la reducción de costes y a la mejora en la eficiencia operativa.\\n\\n5. Estrategias de Transformación Digital y Sostenibilidad\\n----------------------------------------------------------\\nBBVA ha invertido significativamente en la transformación digital durante 2024, implementando proyectos \\nestratégicos para mejorar la experiencia del cliente y optimizar procesos internos:\\n  \\n  - **Innovación Tecnológica:**  \\n    La integración de soluciones basadas en inteligencia artificial y big data ha permitido mejorar la personalización \\n    de servicios y anticipar necesidades del cliente, optimizando la oferta de productos financieros.\\n  \\n  - **Optimización de Canales Digitales:**  \\n    Se han reforzado las plataformas online y móviles, logrando una mayor penetración en mercados emergentes y \\n    mejorando la eficiencia en la atención al cliente.\\n  \\n  - **Sostenibilidad y Responsabilidad Social:**  \\n    El banco ha intensificado sus iniciativas ESG (Environmental, Social and Governance), promoviendo la financiación \\n    de proyectos sostenibles, el apoyo a la economía circular y la inclusión financiera. Proyectos en energías renovables \\n    y una política activa de reducción de la huella de carbono han sido pilares fundamentales en esta estrategia.\\n\\n6. Análisis de Riesgos y Desafíos Emergentes\\n--------------------------------------------\\nEl entorno global presenta múltiples desafíos que exigen una gestión proactiva del riesgo:\\n  \\n  - **Riesgo Crediticio:**  \\n    La volatilidad en ciertos sectores económicos y la incertidumbre en mercados internacionales requieren un seguimiento \\n    continuo de la calidad de la cartera y de la implementación de medidas preventivas para evitar incrementos en la morosidad.\\n  \\n  - **Riesgo de Mercado y Volatilidad:**  \\n    Los cambios en las políticas monetarias internacionales y la fluctuación en los precios de activos financieros \\n    constituyen un desafío constante para la estabilidad del banco.\\n  \\n  - **Riesgo Tecnológico y de Ciberseguridad:**  \\n    La rápida evolución digital aumenta la exposición a amenazas cibernéticas. BBVA ha reforzado su infraestructura \\n    de ciberseguridad mediante inversiones en tecnologías avanzadas y protocolos de seguridad de última generación.\\n  \\n  - **Impacto Regulatorio:**  \\n    La evolución del marco normativo, tanto a nivel europeo como global, impone retos en la adaptación de procesos \\n    internos y en el cumplimiento de estándares cada vez más estrictos.\\n\\n7. Perspectivas Futuras y Proyecciones para 2025\\n------------------------------------------------\\nDe cara al ejercicio 2025, BBVA plantea una serie de iniciativas estratégicas que buscan consolidar su crecimiento y \\nfortalecer su posición competitiva:\\n  \\n  - **Crecimiento Sostenido:**  \\n    Se proyecta un crecimiento moderado de los ingresos operativos (entre el 4% y 6%) impulsado por la expansión \\n    de la cartera crediticia y la digitalización de servicios. La diversificación de mercados y la apertura a nuevas áreas \\n    de negocio serán fundamentales en esta estrategia.\\n  \\n  - **Innovación Continua:**  \\n    La inversión en tecnologías emergentes y la consolidación de centros de innovación permitirán desarrollar productos \\n    financieros adaptados a las necesidades del cliente moderno. El uso de inteligencia artificial y machine learning se \\n    prevé que juegue un papel crucial en la personalización de la oferta.\\n  \\n  - **Optimización Operativa:**  \\n    Se espera una mayor eficiencia en la gestión operativa a través de la automatización de procesos y la integración \\n    de soluciones digitales que permitan reducir costes y mejorar la experiencia del usuario.\\n  \\n  - **Sostenibilidad y Responsabilidad Social:**  \\n    El compromiso con políticas ESG se intensificará, apostando por inversiones sostenibles y la implementación de \\n    prácticas responsables en toda la cadena de valor. La financiación de proyectos verdes y el apoyo a la innovación \\n    en economía circular son algunas de las prioridades para 2025.\\n  \\n  - **Fortalecimiento del Capital y Gestión de Riesgos:**  \\n    BBVA seguirá fortaleciendo su estructura de capital y sus mecanismos de gestión del riesgo, asegurando la solidez \\n    financiera ante posibles escenarios adversos y la continuidad del crecimiento a largo plazo.\\n\\n8. Conclusiones y Reflexiones Estratégicas\\n-------------------------------------------\\nEl análisis del desempeño de BBVA durante 2024 muestra un banco en evolución, capaz de adaptarse a los cambios \\neconómicos y tecnológicos del entorno global. La apuesta por la transformación digital, la diversificación de \\ningresos y la implementación de políticas prudentes de gestión del riesgo han permitido consolidar una posición \\nrobusta en el mercado. No obstante, los desafíos derivados de la volatilidad de los mercados, los riesgos cibernéticos \\ny el impacto de normativas cada vez más exigentes requieren una vigilancia constante y una capacidad de respuesta ágil.\\n\\nLa perspectiva para 2025 es alentadora, siempre que se mantenga el compromiso con la innovación, la eficiencia operativa \\ny la sostenibilidad. En este contexto, BBVA se perfila como un actor clave en el sector financiero, con una visión clara \\norientada hacia la resiliencia y el crecimiento sostenido.\\n\\n9. Anexos, Metodología y Notas Adicionales\\n------------------------------------------\\nEl presente informe incluye diversos anexos y notas metodológicas que respaldan los análisis presentados:\\n  \\n  - **Anexo A:** Tablas comparativas de indicadores financieros históricos y proyecciones.\\n  - **Anexo B:** Gráficos y visualizaciones de la evolución de la cartera crediticia, márgenes operativos y ratios de eficiencia.\\n  - **Anexo C:** Descripción detallada de la metodología empleada para el análisis de riesgo crediticio y de mercado.\\n  - **Notas Metodológicas:** Se han utilizado fuentes públicas, informes anuales y análisis sectoriales para la elaboración de \\n    las proyecciones presentadas. Los datos han sido ajustados para reflejar las condiciones específicas del ejercicio 2024, y las proyecciones \\n    para 2025 se basan en supuestos de continuidad de las tendencias actuales y en la implementación de nuevas estrategias de innovación.\\n\\n10. Referencias y Fuentes Consultadas\\n--------------------------------------\\nEntre las principales fuentes de información utilizadas para la elaboración de este informe se encuentran:\\n  \\n  - Informes anuales y trimestrales publicados por BBVA.\\n  - Análisis de mercado y estudios económicos de organismos internacionales.\\n  - Publicaciones especializadas en economía y finanzas.\\n  - Artículos y reportes de consultoras líderes en transformación digital y sostenibilidad.'"
            ],
            "application/vnd.google.colaboratory.intrinsic+json": {
              "type": "string"
            }
          },
          "metadata": {},
          "execution_count": 5
        }
      ]
    },
    {
      "cell_type": "code",
      "execution_count": null,
      "metadata": {
        "id": "ZqZ1ncMC_Apw"
      },
      "outputs": [],
      "source": [
        "\n",
        "def resumir_texto(prompt_template: str, texto: str) -> str:\n",
        "    \"\"\"Rellena el template del prompt con el texto y devuelve el resumen generado.\"\"\"\n",
        "    prompt = prompt_template.replace(\"<<TEXTO>>\", texto) # Esto lo facilita langchain, lo detecta automatico\n",
        "    completion = client.chat.completions.create(\n",
        "        model=\"gpt-4o\",\n",
        "        messages=[{\"role\": \"user\", \"content\": prompt}],\n",
        "        temperature=0.5,\n",
        "        max_tokens=2000, #Seria bueno estar iterando con estas longitudes\n",
        "    )\n",
        "    return completion.choices[0].message.content.strip()\n"
      ]
    },
    {
      "cell_type": "markdown",
      "metadata": {
        "id": "Gc7UaSBu_Apx"
      },
      "source": [
        "##### Definimos los tres prompts para los diferentes tonos:"
      ]
    },
    {
      "cell_type": "code",
      "execution_count": null,
      "metadata": {
        "id": "NxiqLUlr_Apx"
      },
      "outputs": [],
      "source": [
        "prompt_bullet = (\n",
        "    \"Eres un experto en análisis de textos y resúmenes. A partir del siguiente documento, \"\n",
        "    \"debes generar un resumen estructurado en formato de bullet points. \"\n",
        "    \"Sigue estas instrucciones detalladas:\\n\"\n",
        "    \"1. Identifica los puntos clave del documento, tales como datos financieros relevantes, conclusiones principales y recomendaciones importantes.\\n\"\n",
        "    \"2. Cada bullet point debe contener una única idea clara y estar redactado de forma breve y precisa.\\n\"\n",
        "    \"3. No incluyas explicaciones o comentarios adicionales; solo presenta la lista de ideas clave.\\n\"\n",
        "    \"4. Asegúrate de que la información se presente en un orden lógico y coherente.\\n\"\n",
        "    \"5. Escribe un máximo de 6 bullet points\\n\\n\"\n",
        "    \"Documento:\\n<<TEXTO>>\\n\\n\"\n",
        "    \"Lista de bullet points:\"\n",
        ")\n",
        "\n",
        "prompt_publico = (\n",
        "    \"Eres un comunicador profesional especializado en traducir información técnica a un lenguaje accesible para el público general. \"\n",
        "    \"Tu tarea es leer el siguiente documento y generar un resumen que cumpla con estas especificaciones:\\n\"\n",
        "    \"1. Explica de forma sencilla los puntos más importantes, evitando el uso de jerga técnica o complicada.\\n\"\n",
        "    \"2. Utiliza un lenguaje coloquial y ejemplos cotidianos para ilustrar conceptos que puedan resultar complejos.\\n\"\n",
        "    \"3. El resumen debe ser breve, pero lo suficientemente informativo para que cualquier persona sin conocimientos financieros entienda la esencia del documento.\\n\"\n",
        "    \"4. Organiza la información de forma clara, resaltando los aspectos que impactan al lector promedio.\\n\\n\"\n",
        "    \"Documento:\\n<<TEXTO>>\\n\\n\"\n",
        "    \"Resumen para público no especialista:\"\n",
        ")\n",
        "\n",
        "prompt_experto = (\n",
        "     \"Eres un analista financiero con amplia experiencia en reportes y análisis de datos. \"\n",
        "    \"Lee el siguiente documento y elabora un resumen detallado cumpliendo estas directrices:\\n\"\n",
        "    \"1. Enfócate en los aspectos técnicos y financieros más relevantes del documento.\\n\"\n",
        "    \"2. Incluye una evaluación de las tendencias financieras, análisis de variaciones en ingresos, gastos y balances, y destaca cualquier indicador clave.\\n\"\n",
        "    \"3. Utiliza terminología financiera precisa y un lenguaje formal, evitando simplificaciones excesivas.\\n\"\n",
        "    \"4. Proporciona detalles analíticos que sean útiles para la toma de decisiones en un contexto profesional.\\n\\n\"\n",
        "    \"Documento:\\n<<TEXTO>>\\n\\n\"\n",
        "    \"Resumen para un experto financiero:\"\n",
        ")"
      ]
    },
    {
      "cell_type": "markdown",
      "metadata": {
        "id": "rD3bG0s6_Apy"
      },
      "source": [
        "##### Generamos los tres resúmenes"
      ]
    },
    {
      "cell_type": "code",
      "execution_count": null,
      "metadata": {
        "id": "7lCBgPO3_Apy",
        "outputId": "db0d5490-4fd5-4531-f267-487892f8f1e9",
        "colab": {
          "base_uri": "https://localhost:8080/",
          "height": 285
        }
      },
      "outputs": [
        {
          "output_type": "stream",
          "name": "stdout",
          "text": [
            "Resumen en bullet points:\n"
          ]
        },
        {
          "output_type": "display_data",
          "data": {
            "text/plain": [
              "<IPython.core.display.Markdown object>"
            ],
            "text/markdown": "- **Incremento de Ingresos Operativos:** BBVA reportó un crecimiento interanual del 5.3% en ingresos operativos, impulsado por la expansión de la cartera crediticia, la digitalización de servicios y el lanzamiento de nuevos productos financieros.\n\n- **Sólida Gestión del Riesgo:** El banco mantuvo un ratio CET1 superior al 15% y un Liquidity Coverage Ratio (LCR) superior al 125%, asegurando estabilidad financiera y capacidad de respuesta ante escenarios adversos.\n\n- **Mejora en Indicadores Financieros Clave:** BBVA alcanzó un ROE del 10.1%, un ROA del 0.9% y un ratio de eficiencia del 56.7%, reflejando avances en rentabilidad y optimización de costes operativos.\n\n- **Transformación Digital y Sostenibilidad:** Se reforzaron plataformas digitales, se integraron tecnologías de inteligencia artificial y big data, y se promovieron iniciativas ESG, incluyendo financiación de proyectos sostenibles y reducción de la huella de carbono.\n\n- **Gestión Proactiva de Riesgos Emergentes:** BBVA implementó medidas para mitigar riesgos crediticios, de mercado y tecnológicos, destacando inversiones en ciberseguridad y adaptación a normativas más estrictas.\n\n- **Perspectivas para 2025:** Se proyecta un crecimiento operativo del 4%-6%, con énfasis en diversificación de mercados, innovación tecnológica, sostenibilidad y fortalecimiento de la estructura de capital."
          },
          "metadata": {}
        }
      ],
      "source": [
        "from IPython.display import Markdown\n",
        "\n",
        "if contenido:\n",
        "    resumen_bullet = resumir_texto(prompt_bullet, contenido)\n",
        "    print(\"Resumen en bullet points:\")\n",
        "    display(Markdown(resumen_bullet))\n",
        "    #print(resumen_bullet, \"\\n\")"
      ]
    },
    {
      "cell_type": "code",
      "execution_count": null,
      "metadata": {
        "id": "cT3WL-Jd_Apy",
        "outputId": "8d46b1f8-17b7-4350-f948-1bfc8486ed88",
        "colab": {
          "base_uri": "https://localhost:8080/",
          "height": 707
        }
      },
      "outputs": [
        {
          "output_type": "stream",
          "name": "stdout",
          "text": [
            "\n",
            "Resumen para público no especialista:\n"
          ]
        },
        {
          "output_type": "display_data",
          "data": {
            "text/plain": [
              "<IPython.core.display.Markdown object>"
            ],
            "text/markdown": "**Resumen del Informe Financiero del Grupo BBVA – Perspectiva 2024**\n\nEl banco BBVA tuvo un buen año en 2024, adaptándose a los cambios económicos y aprovechando las oportunidades de la tecnología. Aquí te explicamos los puntos más importantes de manera sencilla:\n\n### **1. Economía global y desafíos:**\n- **Inflación y tasas de interés:** Los precios subieron menos rápido en Europa, y las tasas de interés se mantuvieron bajas, lo que facilita pedir préstamos pero hace más difícil ganar dinero con ellos.\n- **Crecimiento desigual:** Mientras las economías avanzadas se estabilizan, los países en desarrollo crecen más rápido gracias a la tecnología.\n- **Riesgos globales:** Conflictos entre países y cambios en las políticas energéticas generan incertidumbre y afectan las inversiones.\n\n### **2. ¿Cómo le fue a BBVA en 2024?**\n- **Más ingresos:** Ganaron un 5.3% más que el año pasado porque dieron más préstamos, mejoraron sus servicios en línea y lanzaron nuevos productos, como seguros digitales.\n- **Clientes digitales:** Cada vez más personas usan la app y las plataformas digitales del banco, lo que reduce costos y hace todo más eficiente.\n- **Cartera saludable:** La cantidad de personas que no pagan sus préstamos (morosidad) es baja, y el banco está preparado para posibles problemas con reservas adecuadas.\n\n### **3. ¿Qué está haciendo BBVA para mejorar?**\n- **Transformación digital:** Usan inteligencia artificial y datos para personalizar servicios y adelantarse a lo que necesitan los clientes. También han reforzado la seguridad para protegerse de ciberataques.\n- **Compromiso con el medio ambiente:** Están financiando proyectos sostenibles, como energías renovables, y buscan reducir su impacto ambiental.\n- **Gestión de riesgos:** Se preparan para enfrentar posibles problemas económicos o tecnológicos, manteniendo un \"colchón\" financiero sólido.\n\n### **4. ¿Qué esperar en 2025?**\n- **Más crecimiento:** Planean seguir creciendo entre un 4% y un 6%, expandiendo su oferta de préstamos y servicios digitales.\n- **Innovación constante:** Quieren usar más tecnología avanzada para ofrecer productos más modernos y personalizados.\n- **Sostenibilidad:** Continuarán apoyando proyectos que cuidan el medio ambiente y promueven la economía circular, como reciclar recursos en lugar de desperdiciarlos.\n\n### **5. En resumen:**\nBBVA está en una buena posición, combinando tecnología, sostenibilidad y una gestión cuidadosa de riesgos para seguir creciendo. Aunque enfrentan desafíos como la incertidumbre económica y los riesgos tecnológicos, están bien preparados para afrontarlos. Esto significa que el banco seguirá ofreciendo servicios más modernos y accesibles para sus clientes, mientras cuida su estabilidad financiera y el medio ambiente.\n\nSi alguna vez has usado la app del banco o te interesa que tu dinero esté en una institución que apoya proyectos verdes, esto es una buena noticia."
          },
          "metadata": {}
        }
      ],
      "source": [
        "if contenido:\n",
        "    resumen_publico = resumir_texto(prompt_publico, contenido)\n",
        "    print(\"\\nResumen para público no especialista:\")\n",
        "    #print(resumen_publico, \"\\n\")\n",
        "    display(Markdown(resumen_publico))"
      ]
    },
    {
      "cell_type": "code",
      "execution_count": null,
      "metadata": {
        "id": "7zrB3p_f_Apy",
        "outputId": "67b3063e-3413-45e3-e763-1d9c397be2f5",
        "colab": {
          "base_uri": "https://localhost:8080/",
          "height": 1000
        }
      },
      "outputs": [
        {
          "output_type": "stream",
          "name": "stdout",
          "text": [
            "\n",
            "Resumen para un experto financiero:\n"
          ]
        },
        {
          "output_type": "display_data",
          "data": {
            "text/plain": [
              "<IPython.core.display.Markdown object>"
            ],
            "text/markdown": "**Resumen Analítico del Informe Financiero del Grupo BBVA – Perspectiva 2024**\n\n### Contexto General y Macroeconómico\nEl Grupo BBVA ha demostrado un desempeño sólido en 2024, destacando su capacidad de adaptación ante un entorno económico global caracterizado por una recuperación desigual, tensiones geopolíticas y ajustes en políticas monetarias. La moderada desaceleración de la inflación en la zona euro y las tasas de interés históricamente bajas han favorecido el acceso al crédito, aunque han presionado los márgenes financieros. En mercados emergentes, el crecimiento acelerado ha sido impulsado por la innovación tecnológica y la apertura comercial, lo que ha beneficiado las operaciones internacionales del banco. Sin embargo, la volatilidad derivada de riesgos geopolíticos y la transición energética sigue condicionando las estrategias de inversión.\n\n### Desempeño Financiero y Tendencias Clave\n#### **1. Ingresos y Rentabilidad**\nBBVA reportó un crecimiento interanual del 5.3% en ingresos operativos, impulsado por:\n- **Expansión de la cartera crediticia**, con un enfoque en segmentos de alta calidad crediticia y regiones de alto potencial.\n- **Digitalización**, que ha incrementado las comisiones por servicios en línea y reducido costes operativos.\n- **Innovación en productos financieros**, diversificando ingresos mediante soluciones digitales en inversión y seguros.\n\nEl banco alcanzó un **ROE del 10.1%** y un **ROA del 0.9%**, reflejando una rentabilidad sólida en comparación con años anteriores. Además, el **ratio de eficiencia mejoró al 56.7%**, destacando avances en la optimización de costes operativos.\n\n#### **2. Estructura del Balance y Gestión del Riesgo**\nEl balance del Grupo BBVA se mantiene robusto:\n- **Crecimiento de activos totales**, apalancado en la diversificación geográfica y sectorial.\n- **Ratios de capital sólidos**, con un CET1 superior al 15%, reforzando la resiliencia ante escenarios adversos.\n- **Sólida posición de liquidez**, con un LCR superior al 125%, asegurando capacidad de respuesta ante salidas inesperadas de fondos.\n\nLa calidad de la cartera crediticia ha mostrado mejoras significativas. La tasa de morosidad se redujo al 1.7%, gracias a políticas estrictas de análisis de riesgo y herramientas tecnológicas para la gestión preventiva. Las provisiones para créditos dudosos han sido incrementadas estratégicamente, garantizando una cobertura adecuada frente a posibles deterioros.\n\n#### **3. Indicadores Financieros Clave**\n- **Margen financiero**: Se mantuvo competitivo, respaldado por la diversificación de ingresos y una gestión prudente del riesgo crediticio.\n- **Crecimiento de clientes digitales**: Un aumento del 20% en la base de usuarios digitales ha contribuido a la optimización operativa y la reducción de costes.\n\n### Transformación Digital y Sostenibilidad\nBBVA ha priorizado la transformación digital y la sostenibilidad como pilares estratégicos:\n- **Innovación tecnológica**: La implementación de inteligencia artificial y big data ha permitido personalizar servicios y anticipar necesidades del cliente.\n- **Optimización de canales digitales**: La expansión de plataformas móviles y online ha fortalecido la presencia en mercados emergentes.\n- **Compromiso ESG**: El banco ha intensificado su enfoque en la financiación de proyectos sostenibles, economía circular y reducción de la huella de carbono, consolidando su liderazgo en sostenibilidad.\n\n### Análisis de Riesgos y Desafíos\nEl entorno global plantea desafíos significativos:\n- **Riesgo crediticio**: La incertidumbre en mercados internacionales y sectores específicos requiere un monitoreo constante de la calidad de la cartera.\n- **Riesgo de mercado**: La volatilidad en activos financieros y las fluctuaciones derivadas de políticas monetarias internacionales representan un desafío para la estabilidad.\n- **Riesgo tecnológico**: La digitalización ha incrementado la exposición a ciberataques, aunque BBVA ha reforzado su infraestructura de seguridad.\n- **Impacto regulatorio**: La evolución normativa impone retos en la adecuación de procesos y cumplimiento de estándares.\n\n### Perspectivas para 2025\nBBVA proyecta un crecimiento moderado de ingresos operativos (4%-6%), impulsado por la expansión de la cartera crediticia, la digitalización y la diversificación de mercados. Las prioridades estratégicas incluyen:\n- **Innovación continua**: Mayor inversión en tecnologías emergentes (IA y machine learning) para personalizar servicios y desarrollar nuevos productos.\n- **Optimización operativa**: Automatización de procesos y digitalización para reducir costes y mejorar la experiencia del cliente.\n- **Fortalecimiento del capital**: Mantener ratios de capital elevados y una gestión proactiva del riesgo para garantizar la resiliencia financiera.\n- **Sostenibilidad**: Intensificación de las políticas ESG, con un enfoque en financiación verde y economía circular.\n\n### Conclusiones Estratégicas\nEl desempeño de BBVA en 2024 demuestra un banco resiliente, con una estrategia bien definida para enfrentar un entorno volátil. La digitalización, la diversificación de ingresos y la gestión prudente del riesgo han sido factores determinantes en su éxito. Sin embargo, la volatilidad de los mercados, los riesgos tecnológicos y los desafíos regulatorios exigen una vigilancia constante y una capacidad de respuesta ágil.\n\nBBVA se perfila como un líder en el sector financiero global, con una visión orientada al crecimiento sostenible y la innovación. La ejecución efectiva de sus estrategias será clave para consolidar su posición en 2025 y más allá."
          },
          "metadata": {}
        }
      ],
      "source": [
        "if contenido:\n",
        "    resumen_experto = resumir_texto(prompt_experto, contenido)\n",
        "    print(\"\\nResumen para un experto financiero:\")\n",
        "    display(Markdown(resumen_experto))\n",
        "    #print(resumen_experto, \"\\n\")"
      ]
    },
    {
      "cell_type": "markdown",
      "metadata": {
        "id": "xYZOmewi_Apz"
      },
      "source": [
        "##### - ¿Qué diferencias encuentras en el nivel de detalle y terminología entre los tres resúmenes?\n",
        "##### - ¿Cómo afecta el parámetro 'temperature' al estilo del resumen?"
      ]
    }
  ],
  "metadata": {
    "colab": {
      "provenance": []
    },
    "kernelspec": {
      "display_name": "base",
      "language": "python",
      "name": "python3"
    },
    "language_info": {
      "codemirror_mode": {
        "name": "ipython",
        "version": 3
      },
      "file_extension": ".py",
      "mimetype": "text/x-python",
      "name": "python",
      "nbconvert_exporter": "python",
      "pygments_lexer": "ipython3",
      "version": "3.12.7"
    }
  },
  "nbformat": 4,
  "nbformat_minor": 0
}