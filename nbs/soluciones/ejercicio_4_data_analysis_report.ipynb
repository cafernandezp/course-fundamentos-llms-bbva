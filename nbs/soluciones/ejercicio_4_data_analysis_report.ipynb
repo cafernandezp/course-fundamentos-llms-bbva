{
  "cells": [
    {
      "cell_type": "markdown",
      "metadata": {
        "id": "p3_ewKCQEbdH"
      },
      "source": [
        "## Ejercicio 4: Convertir datos financieros estructurados en un informe narrativo\n",
        "\n",
        "Partiendo de un dataframe con datos financieros, usaremos la API de OpenAI para generar un reporte en lenguaje natural"
      ]
    },
    {
      "cell_type": "code",
      "execution_count": 2,
      "metadata": {
        "id": "Fh4Yq3TlEh0c"
      },
      "outputs": [],
      "source": [
        "from google.colab import userdata\n",
        "OPENAI_API_KEY = userdata.get('OPENAI_API_KEY')\n",
        "API_VERSION = userdata.get('OPENAI_API_VERSION')\n",
        "AZURE_ENDPOINT = userdata.get('AZURE_OPENAI_ENDPOINT')\n",
        "\n",
        "#print(type(OPENAI_API_KEY),OPENAI_API_KEY)\n",
        "#print(type(API_VERSION),API_VERSION)\n",
        "#print(type(AZURE_ENDPOINT),AZURE_ENDPOINT)"
      ]
    },
    {
      "cell_type": "code",
      "execution_count": 3,
      "metadata": {
        "id": "5OP5JcaNEbdI"
      },
      "outputs": [],
      "source": [
        "import pandas as pd\n",
        "import numpy as np\n",
        "from openai import AzureOpenAI\n",
        "import json"
      ]
    },
    {
      "cell_type": "markdown",
      "metadata": {
        "id": "07yrBMtTEbdI"
      },
      "source": [
        "##### Establecemos el valor de la API key de OpenAI. En una aplicación real, no podemos exponer esta API key en el código, y la cogeríamos con una variable de entorno mediante un os.getenv()"
      ]
    },
    {
      "cell_type": "code",
      "execution_count": 4,
      "metadata": {
        "colab": {
          "base_uri": "https://localhost:8080/"
        },
        "id": "KSoxn41hEbdJ",
        "outputId": "20caaecb-01cf-492a-be7d-e6c7837d6808"
      },
      "outputs": [
        {
          "output_type": "stream",
          "name": "stdout",
          "text": [
            "Archivo 'financial_data.csv' generado exitosamente.\n",
            "\n"
          ]
        }
      ],
      "source": [
        "np.random.seed(42)\n",
        "num_filas = 100  # Número de registros\n",
        "\n",
        "# Generamos fechas aleatorias entre el 01/01/2023 y el 31/12/2024\n",
        "fechas = pd.to_datetime(\n",
        "    np.random.choice(pd.date_range(\"2023-01-01\", \"2024-12-31\"), size=num_filas)\n",
        ")\n",
        "\n",
        "# Generamos datos simulados\n",
        "ingresos = np.random.randint(100000, 500000, size=num_filas)\n",
        "gastos = np.random.randint(80000, 400000, size=num_filas)\n",
        "balance = ingresos - gastos\n",
        "numero_clientes = np.random.randint(1000, 10000, size=num_filas)\n",
        "costos_operativos = np.random.randint(50000, 150000, size=num_filas)\n",
        "\n",
        "# Creamos el DataFrame\n",
        "df_financiero = pd.DataFrame({\n",
        "    \"Fecha\": fechas,\n",
        "    \"Ingresos\": ingresos,\n",
        "    \"Gastos\": gastos,\n",
        "    \"Balance\": balance,\n",
        "    \"Numero_de_clientes\": numero_clientes,\n",
        "    \"Costos_operativos\": costos_operativos\n",
        "})\n",
        "\n",
        "df_financiero = df_financiero.sort_values(\"Fecha\").reset_index(drop=True)\n",
        "\n",
        "# Guardamos el DataFrame en un archivo CSV\n",
        "df_financiero.to_csv(\"financial_data.csv\", index=False, encoding=\"utf-8\")\n",
        "print(\"Archivo 'financial_data.csv' generado exitosamente.\\n\")"
      ]
    },
    {
      "cell_type": "markdown",
      "metadata": {
        "id": "tVYfyxjKEbdJ"
      },
      "source": [
        "##### Leemos el csv como dataframe de pandas, y lo convertimos en json"
      ]
    },
    {
      "cell_type": "code",
      "execution_count": 8,
      "metadata": {
        "colab": {
          "base_uri": "https://localhost:8080/",
          "height": 224
        },
        "id": "4O439RnkEbdJ",
        "outputId": "8018fe7d-e677-4fe5-a728-a61a89b82b6f"
      },
      "outputs": [
        {
          "output_type": "stream",
          "name": "stdout",
          "text": [
            "df_report shape: (100, 6)\n"
          ]
        },
        {
          "output_type": "display_data",
          "data": {
            "text/plain": [
              "       Fecha  Ingresos  Gastos  Balance  Numero_de_clientes  Costos_operativos\n",
              "0 2023-01-02    164044  213121   -49077                8206              85247\n",
              "1 2023-01-14    210687  299686   -88999                6442             122789\n",
              "2 2023-01-15    435674  337186    98488                4854             110890\n",
              "3 2023-01-21    264231  394877  -130646                7015             108335\n",
              "4 2023-01-21    345310  317714    27596                4394             109638"
            ],
            "text/html": [
              "\n",
              "  <div id=\"df-3e70419f-afc9-4655-9382-13b24d628057\" class=\"colab-df-container\">\n",
              "    <div>\n",
              "<style scoped>\n",
              "    .dataframe tbody tr th:only-of-type {\n",
              "        vertical-align: middle;\n",
              "    }\n",
              "\n",
              "    .dataframe tbody tr th {\n",
              "        vertical-align: top;\n",
              "    }\n",
              "\n",
              "    .dataframe thead th {\n",
              "        text-align: right;\n",
              "    }\n",
              "</style>\n",
              "<table border=\"1\" class=\"dataframe\">\n",
              "  <thead>\n",
              "    <tr style=\"text-align: right;\">\n",
              "      <th></th>\n",
              "      <th>Fecha</th>\n",
              "      <th>Ingresos</th>\n",
              "      <th>Gastos</th>\n",
              "      <th>Balance</th>\n",
              "      <th>Numero_de_clientes</th>\n",
              "      <th>Costos_operativos</th>\n",
              "    </tr>\n",
              "  </thead>\n",
              "  <tbody>\n",
              "    <tr>\n",
              "      <th>0</th>\n",
              "      <td>2023-01-02</td>\n",
              "      <td>164044</td>\n",
              "      <td>213121</td>\n",
              "      <td>-49077</td>\n",
              "      <td>8206</td>\n",
              "      <td>85247</td>\n",
              "    </tr>\n",
              "    <tr>\n",
              "      <th>1</th>\n",
              "      <td>2023-01-14</td>\n",
              "      <td>210687</td>\n",
              "      <td>299686</td>\n",
              "      <td>-88999</td>\n",
              "      <td>6442</td>\n",
              "      <td>122789</td>\n",
              "    </tr>\n",
              "    <tr>\n",
              "      <th>2</th>\n",
              "      <td>2023-01-15</td>\n",
              "      <td>435674</td>\n",
              "      <td>337186</td>\n",
              "      <td>98488</td>\n",
              "      <td>4854</td>\n",
              "      <td>110890</td>\n",
              "    </tr>\n",
              "    <tr>\n",
              "      <th>3</th>\n",
              "      <td>2023-01-21</td>\n",
              "      <td>264231</td>\n",
              "      <td>394877</td>\n",
              "      <td>-130646</td>\n",
              "      <td>7015</td>\n",
              "      <td>108335</td>\n",
              "    </tr>\n",
              "    <tr>\n",
              "      <th>4</th>\n",
              "      <td>2023-01-21</td>\n",
              "      <td>345310</td>\n",
              "      <td>317714</td>\n",
              "      <td>27596</td>\n",
              "      <td>4394</td>\n",
              "      <td>109638</td>\n",
              "    </tr>\n",
              "  </tbody>\n",
              "</table>\n",
              "</div>\n",
              "    <div class=\"colab-df-buttons\">\n",
              "\n",
              "  <div class=\"colab-df-container\">\n",
              "    <button class=\"colab-df-convert\" onclick=\"convertToInteractive('df-3e70419f-afc9-4655-9382-13b24d628057')\"\n",
              "            title=\"Convert this dataframe to an interactive table.\"\n",
              "            style=\"display:none;\">\n",
              "\n",
              "  <svg xmlns=\"http://www.w3.org/2000/svg\" height=\"24px\" viewBox=\"0 -960 960 960\">\n",
              "    <path d=\"M120-120v-720h720v720H120Zm60-500h600v-160H180v160Zm220 220h160v-160H400v160Zm0 220h160v-160H400v160ZM180-400h160v-160H180v160Zm440 0h160v-160H620v160ZM180-180h160v-160H180v160Zm440 0h160v-160H620v160Z\"/>\n",
              "  </svg>\n",
              "    </button>\n",
              "\n",
              "  <style>\n",
              "    .colab-df-container {\n",
              "      display:flex;\n",
              "      gap: 12px;\n",
              "    }\n",
              "\n",
              "    .colab-df-convert {\n",
              "      background-color: #E8F0FE;\n",
              "      border: none;\n",
              "      border-radius: 50%;\n",
              "      cursor: pointer;\n",
              "      display: none;\n",
              "      fill: #1967D2;\n",
              "      height: 32px;\n",
              "      padding: 0 0 0 0;\n",
              "      width: 32px;\n",
              "    }\n",
              "\n",
              "    .colab-df-convert:hover {\n",
              "      background-color: #E2EBFA;\n",
              "      box-shadow: 0px 1px 2px rgba(60, 64, 67, 0.3), 0px 1px 3px 1px rgba(60, 64, 67, 0.15);\n",
              "      fill: #174EA6;\n",
              "    }\n",
              "\n",
              "    .colab-df-buttons div {\n",
              "      margin-bottom: 4px;\n",
              "    }\n",
              "\n",
              "    [theme=dark] .colab-df-convert {\n",
              "      background-color: #3B4455;\n",
              "      fill: #D2E3FC;\n",
              "    }\n",
              "\n",
              "    [theme=dark] .colab-df-convert:hover {\n",
              "      background-color: #434B5C;\n",
              "      box-shadow: 0px 1px 3px 1px rgba(0, 0, 0, 0.15);\n",
              "      filter: drop-shadow(0px 1px 2px rgba(0, 0, 0, 0.3));\n",
              "      fill: #FFFFFF;\n",
              "    }\n",
              "  </style>\n",
              "\n",
              "    <script>\n",
              "      const buttonEl =\n",
              "        document.querySelector('#df-3e70419f-afc9-4655-9382-13b24d628057 button.colab-df-convert');\n",
              "      buttonEl.style.display =\n",
              "        google.colab.kernel.accessAllowed ? 'block' : 'none';\n",
              "\n",
              "      async function convertToInteractive(key) {\n",
              "        const element = document.querySelector('#df-3e70419f-afc9-4655-9382-13b24d628057');\n",
              "        const dataTable =\n",
              "          await google.colab.kernel.invokeFunction('convertToInteractive',\n",
              "                                                    [key], {});\n",
              "        if (!dataTable) return;\n",
              "\n",
              "        const docLinkHtml = 'Like what you see? Visit the ' +\n",
              "          '<a target=\"_blank\" href=https://colab.research.google.com/notebooks/data_table.ipynb>data table notebook</a>'\n",
              "          + ' to learn more about interactive tables.';\n",
              "        element.innerHTML = '';\n",
              "        dataTable['output_type'] = 'display_data';\n",
              "        await google.colab.output.renderOutput(dataTable, element);\n",
              "        const docLink = document.createElement('div');\n",
              "        docLink.innerHTML = docLinkHtml;\n",
              "        element.appendChild(docLink);\n",
              "      }\n",
              "    </script>\n",
              "  </div>\n",
              "\n",
              "\n",
              "    <div id=\"df-b63e3e59-0e28-4deb-932b-75fbf93371b0\">\n",
              "      <button class=\"colab-df-quickchart\" onclick=\"quickchart('df-b63e3e59-0e28-4deb-932b-75fbf93371b0')\"\n",
              "                title=\"Suggest charts\"\n",
              "                style=\"display:none;\">\n",
              "\n",
              "<svg xmlns=\"http://www.w3.org/2000/svg\" height=\"24px\"viewBox=\"0 0 24 24\"\n",
              "     width=\"24px\">\n",
              "    <g>\n",
              "        <path d=\"M19 3H5c-1.1 0-2 .9-2 2v14c0 1.1.9 2 2 2h14c1.1 0 2-.9 2-2V5c0-1.1-.9-2-2-2zM9 17H7v-7h2v7zm4 0h-2V7h2v10zm4 0h-2v-4h2v4z\"/>\n",
              "    </g>\n",
              "</svg>\n",
              "      </button>\n",
              "\n",
              "<style>\n",
              "  .colab-df-quickchart {\n",
              "      --bg-color: #E8F0FE;\n",
              "      --fill-color: #1967D2;\n",
              "      --hover-bg-color: #E2EBFA;\n",
              "      --hover-fill-color: #174EA6;\n",
              "      --disabled-fill-color: #AAA;\n",
              "      --disabled-bg-color: #DDD;\n",
              "  }\n",
              "\n",
              "  [theme=dark] .colab-df-quickchart {\n",
              "      --bg-color: #3B4455;\n",
              "      --fill-color: #D2E3FC;\n",
              "      --hover-bg-color: #434B5C;\n",
              "      --hover-fill-color: #FFFFFF;\n",
              "      --disabled-bg-color: #3B4455;\n",
              "      --disabled-fill-color: #666;\n",
              "  }\n",
              "\n",
              "  .colab-df-quickchart {\n",
              "    background-color: var(--bg-color);\n",
              "    border: none;\n",
              "    border-radius: 50%;\n",
              "    cursor: pointer;\n",
              "    display: none;\n",
              "    fill: var(--fill-color);\n",
              "    height: 32px;\n",
              "    padding: 0;\n",
              "    width: 32px;\n",
              "  }\n",
              "\n",
              "  .colab-df-quickchart:hover {\n",
              "    background-color: var(--hover-bg-color);\n",
              "    box-shadow: 0 1px 2px rgba(60, 64, 67, 0.3), 0 1px 3px 1px rgba(60, 64, 67, 0.15);\n",
              "    fill: var(--button-hover-fill-color);\n",
              "  }\n",
              "\n",
              "  .colab-df-quickchart-complete:disabled,\n",
              "  .colab-df-quickchart-complete:disabled:hover {\n",
              "    background-color: var(--disabled-bg-color);\n",
              "    fill: var(--disabled-fill-color);\n",
              "    box-shadow: none;\n",
              "  }\n",
              "\n",
              "  .colab-df-spinner {\n",
              "    border: 2px solid var(--fill-color);\n",
              "    border-color: transparent;\n",
              "    border-bottom-color: var(--fill-color);\n",
              "    animation:\n",
              "      spin 1s steps(1) infinite;\n",
              "  }\n",
              "\n",
              "  @keyframes spin {\n",
              "    0% {\n",
              "      border-color: transparent;\n",
              "      border-bottom-color: var(--fill-color);\n",
              "      border-left-color: var(--fill-color);\n",
              "    }\n",
              "    20% {\n",
              "      border-color: transparent;\n",
              "      border-left-color: var(--fill-color);\n",
              "      border-top-color: var(--fill-color);\n",
              "    }\n",
              "    30% {\n",
              "      border-color: transparent;\n",
              "      border-left-color: var(--fill-color);\n",
              "      border-top-color: var(--fill-color);\n",
              "      border-right-color: var(--fill-color);\n",
              "    }\n",
              "    40% {\n",
              "      border-color: transparent;\n",
              "      border-right-color: var(--fill-color);\n",
              "      border-top-color: var(--fill-color);\n",
              "    }\n",
              "    60% {\n",
              "      border-color: transparent;\n",
              "      border-right-color: var(--fill-color);\n",
              "    }\n",
              "    80% {\n",
              "      border-color: transparent;\n",
              "      border-right-color: var(--fill-color);\n",
              "      border-bottom-color: var(--fill-color);\n",
              "    }\n",
              "    90% {\n",
              "      border-color: transparent;\n",
              "      border-bottom-color: var(--fill-color);\n",
              "    }\n",
              "  }\n",
              "</style>\n",
              "\n",
              "      <script>\n",
              "        async function quickchart(key) {\n",
              "          const quickchartButtonEl =\n",
              "            document.querySelector('#' + key + ' button');\n",
              "          quickchartButtonEl.disabled = true;  // To prevent multiple clicks.\n",
              "          quickchartButtonEl.classList.add('colab-df-spinner');\n",
              "          try {\n",
              "            const charts = await google.colab.kernel.invokeFunction(\n",
              "                'suggestCharts', [key], {});\n",
              "          } catch (error) {\n",
              "            console.error('Error during call to suggestCharts:', error);\n",
              "          }\n",
              "          quickchartButtonEl.classList.remove('colab-df-spinner');\n",
              "          quickchartButtonEl.classList.add('colab-df-quickchart-complete');\n",
              "        }\n",
              "        (() => {\n",
              "          let quickchartButtonEl =\n",
              "            document.querySelector('#df-b63e3e59-0e28-4deb-932b-75fbf93371b0 button');\n",
              "          quickchartButtonEl.style.display =\n",
              "            google.colab.kernel.accessAllowed ? 'block' : 'none';\n",
              "        })();\n",
              "      </script>\n",
              "    </div>\n",
              "\n",
              "    </div>\n",
              "  </div>\n"
            ],
            "application/vnd.google.colaboratory.intrinsic+json": {
              "type": "dataframe",
              "summary": "{\n  \"name\": \"#print(datos_json)\",\n  \"rows\": 5,\n  \"fields\": [\n    {\n      \"column\": \"Fecha\",\n      \"properties\": {\n        \"dtype\": \"date\",\n        \"min\": \"2023-01-02 00:00:00\",\n        \"max\": \"2023-01-21 00:00:00\",\n        \"num_unique_values\": 4,\n        \"samples\": [\n          \"2023-01-14 00:00:00\",\n          \"2023-01-21 00:00:00\",\n          \"2023-01-02 00:00:00\"\n        ],\n        \"semantic_type\": \"\",\n        \"description\": \"\"\n      }\n    },\n    {\n      \"column\": \"Ingresos\",\n      \"properties\": {\n        \"dtype\": \"number\",\n        \"std\": 108303,\n        \"min\": 164044,\n        \"max\": 435674,\n        \"num_unique_values\": 5,\n        \"samples\": [\n          210687,\n          345310,\n          435674\n        ],\n        \"semantic_type\": \"\",\n        \"description\": \"\"\n      }\n    },\n    {\n      \"column\": \"Gastos\",\n      \"properties\": {\n        \"dtype\": \"number\",\n        \"std\": 66073,\n        \"min\": 213121,\n        \"max\": 394877,\n        \"num_unique_values\": 5,\n        \"samples\": [\n          299686,\n          317714,\n          337186\n        ],\n        \"semantic_type\": \"\",\n        \"description\": \"\"\n      }\n    },\n    {\n      \"column\": \"Balance\",\n      \"properties\": {\n        \"dtype\": \"number\",\n        \"std\": 91910,\n        \"min\": -130646,\n        \"max\": 98488,\n        \"num_unique_values\": 5,\n        \"samples\": [\n          -88999,\n          27596,\n          98488\n        ],\n        \"semantic_type\": \"\",\n        \"description\": \"\"\n      }\n    },\n    {\n      \"column\": \"Numero_de_clientes\",\n      \"properties\": {\n        \"dtype\": \"number\",\n        \"std\": 1566,\n        \"min\": 4394,\n        \"max\": 8206,\n        \"num_unique_values\": 5,\n        \"samples\": [\n          6442,\n          4394,\n          4854\n        ],\n        \"semantic_type\": \"\",\n        \"description\": \"\"\n      }\n    },\n    {\n      \"column\": \"Costos_operativos\",\n      \"properties\": {\n        \"dtype\": \"number\",\n        \"std\": 13653,\n        \"min\": 85247,\n        \"max\": 122789,\n        \"num_unique_values\": 5,\n        \"samples\": [\n          122789,\n          109638,\n          110890\n        ],\n        \"semantic_type\": \"\",\n        \"description\": \"\"\n      }\n    }\n  ]\n}"
            }
          },
          "metadata": {}
        }
      ],
      "source": [
        "df_report = pd.read_csv(\"financial_data.csv\", parse_dates=[\"Fecha\"])\n",
        "print(\"df_report shape:\", df_report.shape)\n",
        "display(df_report.head())\n",
        "\n",
        "datos_json = df_report.to_json(orient=\"records\", date_format=\"iso\", force_ascii=False)\n",
        "#print(datos_json)"
      ]
    },
    {
      "cell_type": "markdown",
      "metadata": {
        "id": "r-sQ8RsZEbdK"
      },
      "source": [
        "##### Definimos el prompt"
      ]
    },
    {
      "cell_type": "code",
      "execution_count": 13,
      "metadata": {
        "id": "1dazBWxDEbdK"
      },
      "outputs": [],
      "source": [
        "#Primero del digo el ROL\n",
        "#Luego le digo lo que quiero que haga enumerado\n",
        "#Despues del punto 6, le digo el estilo.\n",
        "# Normalmente se crea un diccionario de tonos de lenguaje, de conclusiones a obtener, etc\n",
        "prompt_informe = (\n",
        "    \"Eres un analista financiero con amplia experiencia en la elaboración de informes detallados. \"\n",
        "    \"A partir de los siguientes datos financieros, debes generar un informe narrativo extenso que contenga las siguientes secciones:\\n\\n\"\n",
        "    \"1. **Resumen Ejecutivo:** Resume la situación general y las tendencias globales observadas en los datos. \"\n",
        "    \"Destaca los periodos de mayor rendimiento y las áreas de oportunidad.\\n\\n\"\n",
        "    \"2. **Análisis de Ingresos y Gastos:** Describe en detalle cómo varían los ingresos y gastos a lo largo del tiempo. \"\n",
        "    \"Identifica periodos con altas discrepancias y analiza posibles causas de dichas variaciones.\\n\\n\"\n",
        "    \"3. **Evaluación del Balance:** Explica la evolución del balance resultante de la diferencia entre ingresos y gastos. \"\n",
        "    \"Relaciona estos cambios con el comportamiento de los otros indicadores.\\n\\n\"\n",
        "    \"4. **Impacto en la Base de Clientes:** Analiza cómo el número de clientes podría influir en los resultados financieros. \"\n",
        "    \"Comenta sobre la posible relación entre el crecimiento o decrecimiento de clientes y el rendimiento financiero.\\n\\n\"\n",
        "    \"5. **Costos Operativos y Eficiencia:** Examina los costos operativos y su impacto en la eficiencia global del banco. \"\n",
        "    \"Incluye observaciones sobre la optimización de procesos y la reducción de gastos innecesarios.\\n\\n\"\n",
        "    \"6. **Conclusiones y Recomendaciones:** Concluye el informe con un resumen de los hallazgos y proporciona recomendaciones \"\n",
        "    \"estratégicas basadas en el análisis realizado.\\n\\n\"\n",
        "    \"Utiliza un lenguaje técnico pero claro, adecuado para un público de profesionales financieros.\"\n",
        "    \"Asegúrate de que el informe sea coherente, estructurado y que cada sección se conecte lógicamente con la siguiente.\\n\\n\"\n",
        "    \"A continuación, se presentan los datos financieros en formato JSON:\\n\"\n",
        "    f\"{datos_json}\\n\\n\"\n",
        "    \"Informe narrativo:\"\n",
        ")"
      ]
    },
    {
      "cell_type": "markdown",
      "metadata": {
        "id": "-GPMQy91EbdK"
      },
      "source": [
        "##### Creamos el informe"
      ]
    },
    {
      "cell_type": "code",
      "execution_count": 14,
      "metadata": {
        "colab": {
          "base_uri": "https://localhost:8080/",
          "height": 1000
        },
        "id": "pwV3po9AEbdL",
        "outputId": "6bd51a47-4585-4446-a5fd-e25073798afd"
      },
      "outputs": [
        {
          "output_type": "stream",
          "name": "stdout",
          "text": [
            "Informe narrativo generado:\n",
            "\n"
          ]
        },
        {
          "output_type": "display_data",
          "data": {
            "text/plain": [
              "<IPython.core.display.Markdown object>"
            ],
            "text/markdown": "# Informe Financiero Detallado\n\n## 1. **Resumen Ejecutivo**\n\nEl análisis de los datos financieros proporcionados para el periodo comprendido entre enero de 2023 y diciembre de 2024 revela un comportamiento heterogéneo en términos de ingresos, gastos y balances. A lo largo del periodo, se observan variaciones significativas en el rendimiento financiero, con fluctuaciones marcadas tanto en los ingresos como en los gastos. Los balances resultantes muestran periodos de alta rentabilidad intercalados con pérdidas notables, lo que sugiere una dinámica operativa sujeta a factores externos y posibles ineficiencias internas.\n\nLos periodos más destacados por su rendimiento positivo incluyen fechas como el **10 de febrero de 2023**, con un balance de $332,298, y el **28 de septiembre de 2023**, con un balance excepcional de $400,966. Por otro lado, los periodos de mayor pérdida incluyen el **30 de diciembre de 2024**, con un balance negativo de $-96,638, y el **20 de diciembre de 2024**, con una pérdida de $-258,545.\n\nEn términos de áreas de oportunidad, se identificaron patrones de altos costos operativos en diversos periodos, lo que impactó negativamente en la eficiencia y los márgenes de rentabilidad. Además, se observó una relación inconsistente entre el número de clientes y los resultados financieros, lo que sugiere posibles problemas en la gestión del portafolio de clientes o en la optimización de ingresos por cliente.\n\n---\n\n## 2. **Análisis de Ingresos y Gastos**\n\n### Ingresos\nLos ingresos presentan una tendencia fluctuante, con picos significativos en fechas específicas. Por ejemplo:\n- El **22 de enero de 2023**, los ingresos alcanzaron $470,210, impulsando un balance positivo de $291,704.\n- El **28 de septiembre de 2023**, los ingresos fueron de $487,261, uno de los valores más altos del periodo analizado.\n\nSin embargo, en algunos periodos, los ingresos disminuyeron considerablemente, como el **5 de noviembre de 2023**, con ingresos de solo $130,535, lo que coincidió con un balance negativo de $-206,891.\n\n### Gastos\nLos gastos también muestran una variación considerable, con ciertos picos que superan los ingresos y generan balances negativos significativos. Por ejemplo:\n- El **19 de julio de 2024**, los gastos ascendieron a $363,076, frente a ingresos de $102,693, resultando en un balance negativo de $-260,383.\n- El **20 de diciembre de 2024**, los gastos alcanzaron $380,504, mientras que los ingresos fueron de solo $121,959, lo que generó una pérdida de $-258,545.\n\nEn contraste, en periodos como el **28 de septiembre de 2023**, los gastos estuvieron controlados ($86,295), lo que permitió un balance positivo de $400,966.\n\n### Discrepancias\nLas discrepancias más notables entre ingresos y gastos ocurrieron en periodos de altos costos operativos o ingresos anormalmente bajos. Estas discrepancias pueden atribuirse a factores como estacionalidad, gestión ineficiente de recursos o eventos externos que afectaron la generación de ingresos.\n\n---\n\n## 3. **Evaluación del Balance**\n\nEl balance, definido como la diferencia entre ingresos y gastos, refleja la salud financiera de la organización. Durante el periodo analizado, los balances positivos más destacados ocurrieron en:\n- **28 de septiembre de 2023** ($400,966).\n- **23 de mayo de 2024** ($314,461).\n- **21 de enero de 2024** ($283,965).\n\nPor otro lado, los balances negativos más significativos ocurrieron en:\n- **19 de julio de 2024** ($-260,383).\n- **20 de diciembre de 2024** ($-258,545).\n- **5 de noviembre de 2023** ($-206,891).\n\nEn general, los balances positivos tienden a coincidir con una combinación de altos ingresos y control de gastos, mientras que los balances negativos suelen estar asociados a picos de gastos desproporcionados o ingresos insuficientes.\n\n---\n\n## 4. **Impacto en la Base de Clientes**\n\nEl número de clientes muestra una relación no lineal con los resultados financieros. Aunque un mayor número de clientes podría sugerir mayores ingresos, esto no siempre se traduce en balances positivos. Por ejemplo:\n- El **10 de febrero de 2023**, con 8,509 clientes, se alcanzó un balance positivo de $332,298.\n- Sin embargo, el **5 de noviembre de 2023**, con 4,354 clientes, se registró un balance negativo de $-206,891.\n\nEn algunos casos, periodos con pocos clientes lograron balances positivos debido al control de costos operativos. Por ejemplo, el **23 de mayo de 2024**, con solo 1,154 clientes, se obtuvo un balance de $314,461 gracias a ingresos elevados ($424,767) y costos operativos moderados.\n\nEsto sugiere que la rentabilidad no depende exclusivamente del volumen de clientes, sino también de la capacidad de maximizar los ingresos por cliente y gestionar eficientemente los costos.\n\n---\n\n## 5. **Costos Operativos y Eficiencia**\n\nLos costos operativos representan un componente clave en la eficiencia global. Durante el periodo analizado, se identificaron varios momentos en los que costos operativos elevados impactaron negativamente en los balances. Por ejemplo:\n- El **19 de julio de 2024**, los costos operativos ascendieron a $141,747, contribuyendo a un balance negativo de $-260,383.\n- El **15 de julio de 2024**, los costos operativos fueron de $145,435, coincidiendo con un balance negativo de $-43,927.\n\nEn contraste, periodos con costos operativos más moderados lograron balances positivos, incluso con ingresos relativamente bajos. Por ejemplo:\n- El **28 de septiembre de 2023**, con costos operativos de $90,158, se alcanzó un balance de $400,966.\n\nLa optimización de procesos y la reducción de gastos innecesarios son áreas clave de oportunidad para mejorar la eficiencia operativa y aumentar los márgenes de rentabilidad.\n\n---\n\n## 6. **Conclusiones y Recomendaciones**\n\n### Conclusiones\n1. Los ingresos y gastos presentan fluctuaciones significativas, con periodos de alto rendimiento intercalados con pérdidas considerables.\n2. El balance financiero está fuertemente influenciado por la capacidad de controlar los gastos, especialmente los costos operativos.\n3. La relación entre el número de clientes y los resultados financieros no es lineal, lo que sugiere la necesidad de optimizar la generación de ingresos por cliente.\n4. Los costos operativos elevados son un factor recurrente en los periodos de pérdida, lo que destaca la importancia de una gestión más eficiente de los recursos.\n\n### Recomendaciones\n1. **Control de Costos:** Implementar medidas para reducir los costos operativos, especialmente en periodos de ingresos bajos. Esto podría incluir la renegociación de contratos, la automatización de procesos y la eliminación de gastos innecesarios.\n2. **Optimización de Ingresos por Cliente:** Desarrollar estrategias para maximizar los ingresos por cliente, como la oferta de servicios premium o la personalización de productos financieros.\n3. **Análisis Predictivo:** Utilizar herramientas de análisis predictivo para anticipar periodos de baja rentabilidad y tomar medidas proactivas para mitigar su impacto.\n4. **Diversificación de Ingresos:** Explorar nuevas fuentes de ingresos para reducir la dependencia de los clientes actuales y mejorar la resiliencia financiera.\n5. **Gestión de la Base de Clientes:** Priorizar la retención de clientes de alto valor y mejorar la experiencia del cliente para fomentar la lealtad y el crecimiento sostenible.\n\nEn resumen, aunque el periodo analizado muestra un desempeño financiero mixto, existen oportunidades claras para mejorar la eficiencia operativa, optimizar los ingresos y fortalecer la estabilidad financiera a largo plazo."
          },
          "metadata": {}
        }
      ],
      "source": [
        "from IPython.display import Markdown\n",
        "\n",
        "client = AzureOpenAI(\n",
        "            api_key = OPENAI_API_KEY,\n",
        "            api_version=API_VERSION,\n",
        "            azure_endpoint= AZURE_ENDPOINT# Este endpoint corresponde a la región france-central\n",
        ")\n",
        "\n",
        "response = client.chat.completions.create(\n",
        "        model=\"gpt-4o\",\n",
        "        messages=[{\"role\": \"user\", \"content\": prompt_informe}],\n",
        "        temperature=0.5,\n",
        "        max_tokens=2000,\n",
        "    )\n",
        "\n",
        "informe_narrativo = response.choices[0].message.content.strip()\n",
        "print(\"Informe narrativo generado:\\n\")\n",
        "display(Markdown(informe_narrativo))\n",
        "#si no funciona, descomentar esta línea:\n",
        "#print(informe_narrativo)"
      ]
    },
    {
      "cell_type": "markdown",
      "metadata": {
        "id": "TedWayY7EbdL"
      },
      "source": [
        "### Podemos ver también el coste que ha tenido la llamada"
      ]
    },
    {
      "cell_type": "code",
      "source": [
        "response.usage.prompt_tokens"
      ],
      "metadata": {
        "colab": {
          "base_uri": "https://localhost:8080/"
        },
        "id": "NtFxdxbS1PNS",
        "outputId": "58da2009-972d-471a-87c0-6828653eaccf"
      },
      "execution_count": 16,
      "outputs": [
        {
          "output_type": "execute_result",
          "data": {
            "text/plain": [
              "5393"
            ]
          },
          "metadata": {},
          "execution_count": 16
        }
      ]
    },
    {
      "cell_type": "code",
      "source": [
        "response.usage.completion_tokens"
      ],
      "metadata": {
        "colab": {
          "base_uri": "https://localhost:8080/"
        },
        "id": "xYYxXyau1R6b",
        "outputId": "a19e7937-006d-4745-f740-125c23aa9db1"
      },
      "execution_count": 17,
      "outputs": [
        {
          "output_type": "execute_result",
          "data": {
            "text/plain": [
              "1706"
            ]
          },
          "metadata": {},
          "execution_count": 17
        }
      ]
    },
    {
      "cell_type": "code",
      "execution_count": 18,
      "metadata": {
        "id": "gHcxhENsEbdL"
      },
      "outputs": [],
      "source": [
        "def calcular_coste_uso_api(response, modelo: str) -> dict:\n",
        "    \"\"\"\n",
        "    Calcula el costo de uso de la API de Azure OpenAI basado en los tokens usados,\n",
        "    separando el coste del input (prompt) y del output (completion).\n",
        "\n",
        "    Para el modelo \"gpt-4o\":\n",
        "      - Input: 2.50 $ por millón de tokens.\n",
        "      - Output: 10.00 $ por millón de tokens.\n",
        "    (Referencia: https://openai.com/api/pricing/)\n",
        "\n",
        "    Args:\n",
        "        response: Objeto de respuesta de la API que contiene el atributo 'usage'.\n",
        "        modelo (str): Nombre del modelo utilizado (ej: \"gpt-4o-mini\").\n",
        "\n",
        "    Returns:\n",
        "        dict: Diccionario con los costos calculados para entrada, salida y el total.\n",
        "    \"\"\"\n",
        "    #Definimos los precios para el modelo gpt-4o\n",
        "    if \"gpt-4o\" in modelo:\n",
        "        coste_prompt_millon = 2.50 # $ por 1,000,000 tokens de entrada\n",
        "        coste_completion_millon = 10.00  # $ por 1,000,000 tokens de salida\n",
        "    else:\n",
        "        print(\"Modelo no reconocido.\")\n",
        "        return {}\n",
        "\n",
        "    #Extraemos los tokens usados del atributo 'usage' del objeto de respuesta (se podría devolver también en el return si se desea)\n",
        "    prompt_tokens = response.usage.prompt_tokens\n",
        "    completion_tokens = response.usage.completion_tokens\n",
        "\n",
        "    #Calculamos el coste para cada parte (teniendo en cuenta que el precio es por millón de tokens)\n",
        "    coste_prompt = (prompt_tokens / 1000000) * coste_prompt_millon\n",
        "    coste_completion = (completion_tokens / 1000000) * coste_completion_millon\n",
        "    coste_total = coste_prompt + coste_completion\n",
        "\n",
        "    return {\n",
        "        \"coste_prompt\": coste_prompt,\n",
        "        \"coste_completion\": coste_completion,\n",
        "        \"coste_total\": coste_total\n",
        "    }\n",
        "\n",
        "# Ejemplo de uso con un objeto de respuesta simulado similar al que describes:\n",
        "class Usage:\n",
        "    def __init__(self, prompt_tokens, completion_tokens):\n",
        "        self.prompt_tokens = prompt_tokens\n",
        "        self.completion_tokens = completion_tokens\n",
        "\n",
        "class ChatCompletion:\n",
        "    def __init__(self, usage):\n",
        "        self.usage = usage"
      ]
    },
    {
      "cell_type": "code",
      "execution_count": 19,
      "metadata": {
        "colab": {
          "base_uri": "https://localhost:8080/"
        },
        "id": "BUvo99h5EbdL",
        "outputId": "161a4610-4a5e-4b7f-e3f7-f1e3bbd9d187"
      },
      "outputs": [
        {
          "output_type": "stream",
          "name": "stdout",
          "text": [
            "Coste de tokens de entrada (prompt): $0.013483\n",
            "Coste de tokens de salida (completion): $0.017060\n",
            "Coste total: $0.030543\n"
          ]
        }
      ],
      "source": [
        "model = \"gpt-4o\"\n",
        "cost = calcular_coste_uso_api(response, model)\n",
        "\n",
        "print(f\"Coste de tokens de entrada (prompt): ${cost['coste_prompt']:.6f}\")\n",
        "print(f\"Coste de tokens de salida (completion): ${cost['coste_completion']:.6f}\")\n",
        "print(f\"Coste total: ${cost['coste_total']:.6f}\")"
      ]
    },
    {
      "cell_type": "markdown",
      "metadata": {
        "id": "s8Iwt4fbEbdL"
      },
      "source": [
        "##### - ¿Cómo afecta la estructura del prompt al nivel de detalle y coherencia del informe narrativo generado?\n",
        "##### - ¿Qué mejoras o ajustes sugerirías para obtener un informe aún más preciso o enfocado en ciertos aspectos?"
      ]
    }
  ],
  "metadata": {
    "colab": {
      "provenance": [],
      "toc_visible": true
    },
    "kernelspec": {
      "display_name": "base",
      "language": "python",
      "name": "python3"
    },
    "language_info": {
      "codemirror_mode": {
        "name": "ipython",
        "version": 3
      },
      "file_extension": ".py",
      "mimetype": "text/x-python",
      "name": "python",
      "nbconvert_exporter": "python",
      "pygments_lexer": "ipython3",
      "version": "3.12.7"
    }
  },
  "nbformat": 4,
  "nbformat_minor": 0
}