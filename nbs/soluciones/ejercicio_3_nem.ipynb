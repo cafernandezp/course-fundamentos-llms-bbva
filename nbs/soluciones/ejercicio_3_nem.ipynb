{
  "cells": [
    {
      "cell_type": "markdown",
      "metadata": {
        "id": "qwDSagoUCGA2"
      },
      "source": [
        "## Ejercicio 3: Extraer entidades de un archivo de texto y devolver los resultados en formato JSON\n"
      ]
    },
    {
      "cell_type": "markdown",
      "metadata": {
        "id": "SWeJYofhCGA3"
      },
      "source": [
        "La extracción de entidades es algo muy pesado y manual con un algoritmo estándar, pero con un LLM es un proceso súper eficiente y flexible. Vamos a extraer campos como nombres, números, emails y cuentas bancarias (si aparecen), estructurando el resultado en un .json para su uso posterior"
      ]
    },
    {
      "cell_type": "code",
      "execution_count": 2,
      "metadata": {
        "id": "RtIa8A0kCIyi"
      },
      "outputs": [],
      "source": [
        "from google.colab import userdata\n",
        "OPENAI_API_KEY = userdata.get('OPENAI_API_KEY')\n",
        "API_VERSION = userdata.get('OPENAI_API_VERSION')\n",
        "AZURE_ENDPOINT = userdata.get('AZURE_OPENAI_ENDPOINT')\n",
        "\n",
        "#print(type(OPENAI_API_KEY),OPENAI_API_KEY)\n",
        "#print(type(API_VERSION),API_VERSION)\n",
        "#print(type(AZURE_ENDPOINT),AZURE_ENDPOINT)"
      ]
    },
    {
      "cell_type": "code",
      "execution_count": 3,
      "metadata": {
        "id": "CQ8ZxbjzCGA3"
      },
      "outputs": [],
      "source": [
        "from openai import AzureOpenAI\n",
        "import json"
      ]
    },
    {
      "cell_type": "markdown",
      "metadata": {
        "id": "3S2Z5FeaCGA4"
      },
      "source": [
        "##### Establecemos el valor de la API key de OpenAI. En una aplicación real, no podemos exponer esta API key en el código, y la cogeríamos con una variable de entorno mediante un os.getenv()"
      ]
    },
    {
      "cell_type": "markdown",
      "metadata": {
        "id": "cl7OesSlCGA4"
      },
      "source": [
        "##### Leemos el fichero de ejemplo"
      ]
    },
    {
      "cell_type": "code",
      "execution_count": 4,
      "metadata": {
        "id": "p7EvzSkACGA4"
      },
      "outputs": [],
      "source": [
        "# Asegúrate de tener un archivo 'sample_text.txt' con el contenido a analizar.\n",
        "try:\n",
        "    with open(\"sample_text.txt\", \"r\", encoding=\"utf-8\") as f:\n",
        "        texto_sample = f.read()\n",
        "except FileNotFoundError:\n",
        "    print(\"El archivo 'sample_text.txt' no se encontró. Por favor, crea el archivo y vuelve a ejecutar la celda.\")\n",
        "    texto_sample = \"\""
      ]
    },
    {
      "cell_type": "markdown",
      "metadata": {
        "id": "j1PEj2xwCGA4"
      },
      "source": [
        "##### Definimos el prompt para la extracción de entidades"
      ]
    },
    {
      "cell_type": "code",
      "execution_count": 5,
      "metadata": {
        "id": "PlK6k1B8CGA5"
      },
      "outputs": [],
      "source": [
        "# Definimos el prompt para la extracción de entidades.\n",
        "prompt_entidades = (\n",
        "    \"Eres un experto en procesamiento de lenguaje natural y extracción de información. \"\n",
        "    \"Tu tarea es analizar el siguiente texto y extraer todas las entidades relevantes, organizándolas en categorías específicas. \"\n",
        "    \"Debes identificar y extraer las siguientes entidades:\\n\\n\"\n",
        "    \"1. Nombres: Nombres propios de personas, incluyendo clientes, empleados y cualquier otro responsable mencionado.\\n\"\n",
        "    \"2. Emails: Todas las direcciones de correo electrónico que aparezcan en el texto.\\n\"\n",
        "    \"3. Teléfonos: Números de teléfono, que pueden incluir guiones o espacios (ej. 600-123-456 o 600 123 456).\\n\"\n",
        "    \"4. Cuentas: Números de cuenta bancaria en formato IBAN simulado (ej. ES76 1234 5678 9012 3456 7890).\\n\"\n",
        "    \"5. Identificadores: Códigos de seguimiento, números de caso o cualquier identificador alfanumérico que haga referencia a un reporte o incidencia.\\n\"\n",
        "    \"6. Montos: Cifras en euros, expresadas con comas como separador decimal (ej. 500,00 euros), \"\n",
        "    \"incluyendo el símbolo de euro o la palabra 'euros'.\\n\"\n",
        "    \"7. Fechas: Fechas en formato AAAA-MM-DD.\\n\\n\"\n",
        "    \"Instrucciones adicionales:\\n\"\n",
        "    \"- Extrae únicamente las entidades que correspondan a cada categoría, sin incluir texto adicional o explicaciones.\\n\"\n",
        "    \"- Devuelve el resultado en formato JSON con la siguiente estructura EXACTA:\\n\\n\"\n",
        "    \"{\\n\"\n",
        "    '  \"nombres\": [lista de nombres],\\n'\n",
        "    '  \"emails\": [lista de emails],\\n'\n",
        "    '  \"telefonos\": [lista de teléfonos],\\n'\n",
        "    '  \"cuentas\": [lista de números de cuenta],\\n'\n",
        "    '  \"identificadores\": [lista de identificadores],\\n'\n",
        "    '  \"montos\": [lista de montos en euros],\\n'\n",
        "    '  \"fechas\": [lista de fechas]\\n'\n",
        "    \"}\\n\\n\"\n",
        "    \"Asegúrate de que cada lista contenga únicamente las entidades extraídas y no incluya duplicados. \"\n",
        "    \"No agregues ningún comentario o texto adicional a la respuesta.\\n\\n\"\n",
        "    \"Texto a analizar:\\n\"\n",
        "    \"<<TEXTO>>\"\n",
        ")"
      ]
    },
    {
      "cell_type": "markdown",
      "metadata": {
        "id": "nOzZ-_SlCGA5"
      },
      "source": [
        "##### Realizamos la extracción:"
      ]
    },
    {
      "cell_type": "code",
      "execution_count": 6,
      "metadata": {
        "id": "q3-RjedpCGA5",
        "colab": {
          "base_uri": "https://localhost:8080/"
        },
        "outputId": "3cf4feab-23aa-46b1-9939-a96dca477086"
      },
      "outputs": [
        {
          "output_type": "stream",
          "name": "stdout",
          "text": [
            "Salida JSON de entidades:\n",
            "{\n",
            "  \"nombres\": [\n",
            "    \"Juan Pérez\",\n",
            "    \"María García\",\n",
            "    \"Luis Rodríguez\",\n",
            "    \"Ana Martínez\",\n",
            "    \"Jorge González\",\n",
            "    \"Carlos Ramírez\",\n",
            "    \"Laura Fernández\",\n",
            "    \"Pedro Sánchez\",\n",
            "    \"Carmen López\",\n",
            "    \"Andrés Núñez\",\n",
            "    \"Sofía Morales\"\n",
            "  ],\n",
            "  \"emails\": [\n",
            "    \"juan.perez@example.com\",\n",
            "    \"maria.garcia@example.com\",\n",
            "    \"luis.rodriguez@example.com\",\n",
            "    \"ana.martinez@example.com\",\n",
            "    \"jorge.gonzalez@example.com\",\n",
            "    \"carlos.ramirez@example.com\",\n",
            "    \"laura.fernandez@example.com\",\n",
            "    \"carmen.lopez@example.com\",\n",
            "    \"andres.nunez@example.com\",\n",
            "    \"sofia.morales@example.com\"\n",
            "  ],\n",
            "  \"telefonos\": [\n",
            "    \"600-123-456\",\n",
            "    \"600-234-567\",\n",
            "    \"900-456-789\",\n",
            "    \"600-345-678\",\n",
            "    \"600-456-789\",\n",
            "    \"600-567-890\"\n",
            "  ],\n",
            "  \"cuentas\": [\n",
            "    \"ES76 1234 5678 9012 3456 7890\",\n",
            "    \"ES91 2345 6789 0123 4567 8901\",\n",
            "    \"ES65 3456 7890 1234 5678 9012\",\n",
            "    \"ES58 4567 8901 2345 6789 0123\",\n",
            "    \"ES47 5678 9012 3456 7890 1234\",\n",
            "    \"ES82 6789 0123 4567 8901 2345\",\n",
            "    \"ES93 7890 1234 5678 9012 3456\",\n",
            "    \"ES39 8901 2345 6789 0123 4567\",\n",
            "    \"ES24 9012 3456 7890 1234 5678\"\n",
            "  ],\n",
            "  \"identificadores\": [\n",
            "    \"20240205JP001\",\n",
            "    \"MG20240210\",\n",
            "    \"LR20240215TRF\",\n",
            "    \"AM20240220INT\",\n",
            "    \"JG20240222DBT\",\n",
            "    \"IR20240207-CR\",\n",
            "    \"LF20240212-CS\",\n",
            "    \"CL20240218-SC\",\n",
            "    \"AN20240225-TDK\",\n",
            "    \"SM20240228-INV\"\n",
            "  ],\n",
            "  \"montos\": [\n",
            "    \"500,00 euros\",\n",
            "    \"75,50 euros\",\n",
            "    \"1.250,00 euros\",\n",
            "    \"32,15 euros\",\n",
            "    \"120,00 euros\",\n",
            "    \"2.350,75 euros\"\n",
            "  ],\n",
            "  \"fechas\": [\n",
            "    \"2024-02-05\",\n",
            "    \"2024-02-10\",\n",
            "    \"2024-02-15\",\n",
            "    \"2024-02-20\",\n",
            "    \"2024-02-22\",\n",
            "    \"2024-02-07\",\n",
            "    \"2024-02-12\",\n",
            "    \"2024-02-18\",\n",
            "    \"2024-02-25\",\n",
            "    \"2024-02-28\"\n",
            "  ]\n",
            "}\n"
          ]
        }
      ],
      "source": [
        "#Paso 1 inicializar el objeto\n",
        "client = AzureOpenAI(\n",
        "            api_key = OPENAI_API_KEY,\n",
        "            api_version=API_VERSION,\n",
        "            azure_endpoint= AZURE_ENDPOINT# Este endpoint corresponde a la región france-central\n",
        ")\n",
        "\n",
        "if texto_sample:\n",
        "  # texto_sample: Textos que quedremos extraer\n",
        "    prompt_entidades = prompt_entidades.replace(\"<<TEXTO>>\", texto_sample)\n",
        "\n",
        "    response = client.chat.completions.create(\n",
        "        model=\"gpt-4o\",\n",
        "        messages=[{\"role\": \"user\", \"content\": prompt_entidades}], #Le pasamos directamente el prompt para extraer\n",
        "        temperature=0.5,\n",
        "        max_tokens=1000,\n",
        "        response_format={\"type\": \"json_object\"}, #A pesar de ya decircelo en el prompt, ademas o ponemos aqui por si acaso.\n",
        "    )\n",
        "\n",
        "    #Formating para hacer mas legible\n",
        "    salida_json_str = response.choices[0].message.content.strip()\n",
        "    print(\"Salida JSON de entidades:\")\n",
        "    print(salida_json_str)"
      ]
    },
    {
      "cell_type": "code",
      "execution_count": 7,
      "metadata": {
        "id": "U7TkDCVMDfZG",
        "colab": {
          "base_uri": "https://localhost:8080/"
        },
        "outputId": "017c536f-a9b0-44a4-82a6-bec541465767"
      },
      "outputs": [
        {
          "output_type": "stream",
          "name": "stdout",
          "text": [
            "<class 'str'>\n"
          ]
        }
      ],
      "source": [
        "print(type(salida_json_str))"
      ]
    },
    {
      "cell_type": "markdown",
      "metadata": {
        "id": "x_JHrprFCGA5"
      },
      "source": [
        "##### Por último, convertimos la salida a un diccionario de Python:"
      ]
    },
    {
      "cell_type": "code",
      "execution_count": 8,
      "metadata": {
        "id": "kZxw9crXCGA5",
        "colab": {
          "base_uri": "https://localhost:8080/"
        },
        "outputId": "b03c0fe8-e2ed-4618-ae3c-5df8cf5fac95"
      },
      "outputs": [
        {
          "output_type": "stream",
          "name": "stdout",
          "text": [
            "\n",
            "JSON parseado:\n",
            "{'cuentas': ['ES76 1234 5678 9012 3456 7890', 'ES91 2345 6789 0123 4567 8901',\n",
            "             'ES65 3456 7890 1234 5678 9012', 'ES58 4567 8901 2345 6789 0123',\n",
            "             'ES47 5678 9012 3456 7890 1234', 'ES82 6789 0123 4567 8901 2345',\n",
            "             'ES93 7890 1234 5678 9012 3456', 'ES39 8901 2345 6789 0123 4567',\n",
            "             'ES24 9012 3456 7890 1234 5678'],\n",
            " 'emails': ['juan.perez@example.com', 'maria.garcia@example.com',\n",
            "            'luis.rodriguez@example.com', 'ana.martinez@example.com',\n",
            "            'jorge.gonzalez@example.com', 'carlos.ramirez@example.com',\n",
            "            'laura.fernandez@example.com', 'carmen.lopez@example.com',\n",
            "            'andres.nunez@example.com', 'sofia.morales@example.com'],\n",
            " 'fechas': ['2024-02-05', '2024-02-10', '2024-02-15', '2024-02-20',\n",
            "            '2024-02-22', '2024-02-07', '2024-02-12', '2024-02-18',\n",
            "            '2024-02-25', '2024-02-28'],\n",
            " 'identificadores': ['20240205JP001', 'MG20240210', 'LR20240215TRF',\n",
            "                     'AM20240220INT', 'JG20240222DBT', 'IR20240207-CR',\n",
            "                     'LF20240212-CS', 'CL20240218-SC', 'AN20240225-TDK',\n",
            "                     'SM20240228-INV'],\n",
            " 'montos': ['500,00 euros', '75,50 euros', '1.250,00 euros', '32,15 euros',\n",
            "            '120,00 euros', '2.350,75 euros'],\n",
            " 'nombres': ['Juan Pérez', 'María García', 'Luis Rodríguez', 'Ana Martínez',\n",
            "             'Jorge González', 'Carlos Ramírez', 'Laura Fernández',\n",
            "             'Pedro Sánchez', 'Carmen López', 'Andrés Núñez', 'Sofía Morales'],\n",
            " 'telefonos': ['600-123-456', '600-234-567', '900-456-789', '600-345-678',\n",
            "               '600-456-789', '600-567-890']}\n"
          ]
        }
      ],
      "source": [
        "import pprint\n",
        "\n",
        "try:\n",
        "    entidades = json.loads(salida_json_str)\n",
        "    print(\"\\nJSON parseado:\")\n",
        "    pprint.pprint(entidades, compact=True)\n",
        "except Exception as e:\n",
        "    print(\"Error al parsear JSON:\", e)"
      ]
    },
    {
      "cell_type": "markdown",
      "metadata": {
        "id": "va-lLdIQCGA5"
      },
      "source": [
        "##### - ¿La extracción de entidades fue correcta? ¿Qué otras entidades podrían ser útiles en un entorno bancario?"
      ]
    }
  ],
  "metadata": {
    "colab": {
      "provenance": []
    },
    "kernelspec": {
      "display_name": "base",
      "language": "python",
      "name": "python3"
    },
    "language_info": {
      "codemirror_mode": {
        "name": "ipython",
        "version": 3
      },
      "file_extension": ".py",
      "mimetype": "text/x-python",
      "name": "python",
      "nbconvert_exporter": "python",
      "pygments_lexer": "ipython3",
      "version": "3.12.7"
    }
  },
  "nbformat": 4,
  "nbformat_minor": 0
}